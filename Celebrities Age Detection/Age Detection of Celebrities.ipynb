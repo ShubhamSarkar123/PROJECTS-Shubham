{
 "cells": [
  {
   "cell_type": "code",
   "execution_count": 135,
   "metadata": {
    "execution": {
     "iopub.execute_input": "2023-06-08T11:21:00.900924Z",
     "iopub.status.busy": "2023-06-08T11:21:00.899849Z",
     "iopub.status.idle": "2023-06-08T11:21:00.906523Z",
     "shell.execute_reply": "2023-06-08T11:21:00.905514Z",
     "shell.execute_reply.started": "2023-06-08T11:21:00.900885Z"
    }
   },
   "outputs": [],
   "source": [
    "#importing necessary packages\n",
    "import pandas as pd\n",
    "import numpy as np\n",
    "import tensorflow as tf\n",
    "import glob\n",
    "import os\n",
    "import seaborn as sns \n",
    "from matplotlib import pyplot as plt\n",
    "from sklearn import metrics\n",
    "from sklearn.metrics import confusion_matrix"
   ]
  },
  {
   "cell_type": "code",
   "execution_count": 136,
   "metadata": {
    "execution": {
     "iopub.execute_input": "2023-06-08T11:21:07.300223Z",
     "iopub.status.busy": "2023-06-08T11:21:07.299487Z",
     "iopub.status.idle": "2023-06-08T11:21:07.320934Z",
     "shell.execute_reply": "2023-06-08T11:21:07.319936Z",
     "shell.execute_reply.started": "2023-06-08T11:21:07.300171Z"
    }
   },
   "outputs": [],
   "source": [
    "# reading the csv file \n",
    "data = pd.read_csv(\"train.csv\")"
   ]
  },
  {
   "cell_type": "code",
   "execution_count": 137,
   "metadata": {
    "execution": {
     "iopub.execute_input": "2023-06-08T11:21:10.340718Z",
     "iopub.status.busy": "2023-06-08T11:21:10.339685Z",
     "iopub.status.idle": "2023-06-08T11:21:10.353377Z",
     "shell.execute_reply": "2023-06-08T11:21:10.352261Z",
     "shell.execute_reply.started": "2023-06-08T11:21:10.340663Z"
    }
   },
   "outputs": [
    {
     "data": {
      "text/html": [
       "<div>\n",
       "<style scoped>\n",
       "    .dataframe tbody tr th:only-of-type {\n",
       "        vertical-align: middle;\n",
       "    }\n",
       "\n",
       "    .dataframe tbody tr th {\n",
       "        vertical-align: top;\n",
       "    }\n",
       "\n",
       "    .dataframe thead th {\n",
       "        text-align: right;\n",
       "    }\n",
       "</style>\n",
       "<table border=\"1\" class=\"dataframe\">\n",
       "  <thead>\n",
       "    <tr style=\"text-align: right;\">\n",
       "      <th></th>\n",
       "      <th>ID</th>\n",
       "      <th>Class</th>\n",
       "    </tr>\n",
       "  </thead>\n",
       "  <tbody>\n",
       "    <tr>\n",
       "      <th>0</th>\n",
       "      <td>377.jpg</td>\n",
       "      <td>MIDDLE</td>\n",
       "    </tr>\n",
       "    <tr>\n",
       "      <th>1</th>\n",
       "      <td>17814.jpg</td>\n",
       "      <td>YOUNG</td>\n",
       "    </tr>\n",
       "    <tr>\n",
       "      <th>2</th>\n",
       "      <td>21283.jpg</td>\n",
       "      <td>MIDDLE</td>\n",
       "    </tr>\n",
       "    <tr>\n",
       "      <th>3</th>\n",
       "      <td>16496.jpg</td>\n",
       "      <td>YOUNG</td>\n",
       "    </tr>\n",
       "    <tr>\n",
       "      <th>4</th>\n",
       "      <td>4487.jpg</td>\n",
       "      <td>MIDDLE</td>\n",
       "    </tr>\n",
       "  </tbody>\n",
       "</table>\n",
       "</div>"
      ],
      "text/plain": [
       "          ID   Class\n",
       "0    377.jpg  MIDDLE\n",
       "1  17814.jpg   YOUNG\n",
       "2  21283.jpg  MIDDLE\n",
       "3  16496.jpg   YOUNG\n",
       "4   4487.jpg  MIDDLE"
      ]
     },
     "execution_count": 137,
     "metadata": {},
     "output_type": "execute_result"
    }
   ],
   "source": [
    "data.head()"
   ]
  },
  {
   "cell_type": "code",
   "execution_count": 138,
   "metadata": {
    "execution": {
     "iopub.execute_input": "2023-06-08T11:21:12.979883Z",
     "iopub.status.busy": "2023-06-08T11:21:12.978794Z",
     "iopub.status.idle": "2023-06-08T11:21:12.991927Z",
     "shell.execute_reply": "2023-06-08T11:21:12.990628Z",
     "shell.execute_reply.started": "2023-06-08T11:21:12.979838Z"
    }
   },
   "outputs": [
    {
     "data": {
      "text/plain": [
       "MIDDLE    10804\n",
       "YOUNG      6706\n",
       "OLD        2396\n",
       "Name: Class, dtype: int64"
      ]
     },
     "execution_count": 138,
     "metadata": {},
     "output_type": "execute_result"
    }
   ],
   "source": [
    "data['Class'].value_counts()"
   ]
  },
  {
   "cell_type": "code",
   "execution_count": 139,
   "metadata": {
    "execution": {
     "iopub.execute_input": "2023-06-08T11:21:15.029636Z",
     "iopub.status.busy": "2023-06-08T11:21:15.028948Z",
     "iopub.status.idle": "2023-06-08T11:21:15.242048Z",
     "shell.execute_reply": "2023-06-08T11:21:15.240983Z",
     "shell.execute_reply.started": "2023-06-08T11:21:15.029591Z"
    }
   },
   "outputs": [
    {
     "data": {
      "text/plain": [
       "<AxesSubplot:>"
      ]
     },
     "execution_count": 139,
     "metadata": {},
     "output_type": "execute_result"
    },
    {
     "data": {
      "image/png": "[encoded data removed]",
      "text/plain": [
       "<Figure size 432x288 with 1 Axes>"
      ]
     },
     "metadata": {
      "needs_background": "light"
     },
     "output_type": "display_data"
    }
   ],
   "source": [
    "data['Class'].hist()"
   ]
  },
  {
   "cell_type": "code",
   "execution_count": 140,
   "metadata": {
    "execution": {
     "iopub.execute_input": "2023-06-08T11:21:20.229997Z",
     "iopub.status.busy": "2023-06-08T11:21:20.229081Z",
     "iopub.status.idle": "2023-06-08T11:21:20.257843Z",
     "shell.execute_reply": "2023-06-08T11:21:20.256722Z",
     "shell.execute_reply.started": "2023-06-08T11:21:20.229940Z"
    }
   },
   "outputs": [],
   "source": [
    "#classfication problem so encoding class into 0,1,2\n",
    "# young=0,middle=1,old=2\n",
    "data['Class'].replace(['YOUNG','MIDDLE','OLD'],[0,1,2],inplace=True)"
   ]
  },
  {
   "cell_type": "code",
   "execution_count": 141,
   "metadata": {
    "execution": {
     "iopub.execute_input": "2023-06-08T11:21:22.939879Z",
     "iopub.status.busy": "2023-06-08T11:21:22.938831Z",
     "iopub.status.idle": "2023-06-08T11:21:22.948851Z",
     "shell.execute_reply": "2023-06-08T11:21:22.947745Z",
     "shell.execute_reply.started": "2023-06-08T11:21:22.939838Z"
    }
   },
   "outputs": [
    {
     "data": {
      "text/plain": [
       "1    10804\n",
       "0     6706\n",
       "2     2396\n",
       "Name: Class, dtype: int64"
      ]
     },
     "execution_count": 141,
     "metadata": {},
     "output_type": "execute_result"
    }
   ],
   "source": [
    "data['Class'].value_counts()"
   ]
  },
  {
   "cell_type": "code",
   "execution_count": 142,
   "metadata": {
    "execution": {
     "iopub.execute_input": "2023-06-08T11:21:45.390170Z",
     "iopub.status.busy": "2023-06-08T11:21:45.389736Z",
     "iopub.status.idle": "2023-06-08T11:21:45.397805Z",
     "shell.execute_reply": "2023-06-08T11:21:45.396700Z",
     "shell.execute_reply.started": "2023-06-08T11:21:45.390133Z"
    }
   },
   "outputs": [],
   "source": [
    "#used in a image purpose for resizing\n",
    "def readImage(path,ch = 3, resize=(150,150)):\n",
    "    img = tf.io.read_file(path)\n",
    "    img = tf.image.decode_jpeg(img, channels=ch)\n",
    "    img = tf.image.convert_image_dtype(img, dtype=tf.float32)\n",
    "    img = tf.image.resize(img, resize)\n",
    "    return img"
   ]
  },
  {
   "cell_type": "code",
   "execution_count": 143,
   "metadata": {
    "execution": {
     "iopub.execute_input": "2023-06-08T11:21:49.419452Z",
     "iopub.status.busy": "2023-06-08T11:21:49.419066Z",
     "iopub.status.idle": "2023-06-08T11:21:49.425123Z",
     "shell.execute_reply": "2023-06-08T11:21:49.423917Z",
     "shell.execute_reply.started": "2023-06-08T11:21:49.419419Z"
    }
   },
   "outputs": [],
   "source": [
    "# function to load the data that includes images and respective labels\n",
    "def load_data(image_path, label):\n",
    "    img = readImage(image_path, 3, (150,150))\n",
    "    return (img, label)"
   ]
  },
  {
   "cell_type": "code",
   "execution_count": 144,
   "metadata": {
    "execution": {
     "iopub.execute_input": "2023-06-08T11:22:35.580678Z",
     "iopub.status.busy": "2023-06-08T11:22:35.579669Z",
     "iopub.status.idle": "2023-06-08T11:23:44.142600Z",
     "shell.execute_reply": "2023-06-08T11:23:44.141353Z",
     "shell.execute_reply.started": "2023-06-08T11:22:35.580617Z"
    }
   },
   "outputs": [
    {
     "name": "stdout",
     "output_type": "stream",
     "text": [
      "19906\n",
      "19906\n"
     ]
    }
   ],
   "source": [
    "# built the list of image paths and list of respective responses of the images\n",
    "PATH = \"Train\"\n",
    "image_paths = []\n",
    "for path in os.listdir(PATH):\n",
    "    image_paths.append(PATH+\"/\"+path)\n",
    "print(len(image_paths))\n",
    "\n",
    "label_list = []\n",
    "\n",
    "for i in image_paths:\n",
    "    _,tail = os.path.split(i)\n",
    "    label = data.loc[data['ID'] == tail]['Class'].values[0]\n",
    "    label_list.append(label)\n",
    "print(len(label_list))"
   ]
  },
  {
   "cell_type": "code",
   "execution_count": 145,
   "metadata": {
    "execution": {
     "iopub.execute_input": "2023-06-08T11:24:24.620041Z",
     "iopub.status.busy": "2023-06-08T11:24:24.619624Z",
     "iopub.status.idle": "2023-06-08T11:24:24.921340Z",
     "shell.execute_reply": "2023-06-08T11:24:24.920269Z",
     "shell.execute_reply.started": "2023-06-08T11:24:24.620006Z"
    }
   },
   "outputs": [
    {
     "name": "stdout",
     "output_type": "stream",
     "text": [
      "The training dataset size is 17915\n",
      "The testing dataset size is 1990\n"
     ]
    }
   ],
   "source": [
    "# split the dataset into train and test dataset\n",
    "train_size = int(0.9*(len(image_paths)))\n",
    "print(f\"The training dataset size is {train_size}\")\n",
    "test_size = int(0.1*(len(image_paths)))\n",
    "print(f\"The testing dataset size is {test_size}\")\n",
    "#slicing dataset\n",
    "train_set = tf.data.Dataset.from_tensor_slices((image_paths[:train_size], label_list[:train_size]))\n",
    "test_set = tf.data.Dataset.from_tensor_slices((image_paths[test_size:], label_list[test_size:]))"
   ]
  },
  {
   "cell_type": "code",
   "execution_count": 146,
   "metadata": {
    "execution": {
     "iopub.execute_input": "2023-06-08T11:24:29.419213Z",
     "iopub.status.busy": "2023-06-08T11:24:29.418829Z",
     "iopub.status.idle": "2023-06-08T11:24:29.542120Z",
     "shell.execute_reply": "2023-06-08T11:24:29.541092Z",
     "shell.execute_reply.started": "2023-06-08T11:24:29.419179Z"
    }
   },
   "outputs": [],
   "source": [
    "#autotuning train dataset\n",
    "train_set = (train_set\n",
    "    .map(load_data, num_parallel_calls=tf.data.AUTOTUNE)\n",
    "    .batch(64)\n",
    "    .prefetch(tf.data.AUTOTUNE)\n",
    ")"
   ]
  },
  {
   "cell_type": "code",
   "execution_count": 147,
   "metadata": {
    "execution": {
     "iopub.execute_input": "2023-06-08T11:25:04.820671Z",
     "iopub.status.busy": "2023-06-08T11:25:04.819724Z",
     "iopub.status.idle": "2023-06-08T11:25:04.842027Z",
     "shell.execute_reply": "2023-06-08T11:25:04.840987Z",
     "shell.execute_reply.started": "2023-06-08T11:25:04.820600Z"
    }
   },
   "outputs": [],
   "source": [
    "#autotuining test dataset\n",
    "test_set = (test_set\n",
    "    .map(load_data, num_parallel_calls=tf.data.AUTOTUNE)\n",
    "    .batch(64)\n",
    "    .prefetch(tf.data.AUTOTUNE)\n",
    ")"
   ]
  },
  {
   "cell_type": "code",
   "execution_count": 148,
   "metadata": {
    "execution": {
     "iopub.execute_input": "2023-06-08T11:30:21.157727Z",
     "iopub.status.busy": "2023-06-08T11:30:21.156690Z",
     "iopub.status.idle": "2023-06-08T11:30:21.211854Z",
     "shell.execute_reply": "2023-06-08T11:30:21.210732Z",
     "shell.execute_reply.started": "2023-06-08T11:30:21.157682Z"
    }
   },
   "outputs": [],
   "source": [
    "# building cnn layers\n",
    "cnn_model = models.Sequential([\n",
    "    layers.Conv2D(filters=30, kernel_size=(3, 3), activation='relu', input_shape=(150, 150, 3), padding = 'same'),\n",
    "    layers.MaxPooling2D((2, 2)),\n",
    "    layers.Conv2D(filters=64, kernel_size=(3, 3), activation='relu', padding = 'same'),\n",
    "    layers.MaxPooling2D((2, 2)),\n",
    "    layers.Flatten(),\n",
    "    layers.Dense(64, activation='relu'),\n",
    "    layers.Dense(3, activation='softmax')\n",
    "])\n"
   ]
  },
  {
   "cell_type": "code",
   "execution_count": 149,
   "metadata": {
    "execution": {
     "iopub.execute_input": "2023-06-08T11:30:27.875208Z",
     "iopub.status.busy": "2023-06-08T11:30:27.874824Z",
     "iopub.status.idle": "2023-06-08T11:30:27.881676Z",
     "shell.execute_reply": "2023-06-08T11:30:27.880617Z",
     "shell.execute_reply.started": "2023-06-08T11:30:27.875176Z"
    }
   },
   "outputs": [
    {
     "name": "stdout",
     "output_type": "stream",
     "text": [
      "Model: \"sequential_3\"\n",
      "_________________________________________________________________\n",
      "Layer (type)                 Output Shape              Param #   \n",
      "=================================================================\n",
      "conv2d_7 (Conv2D)            (None, 150, 150, 30)      840       \n",
      "_________________________________________________________________\n",
      "max_pooling2d_7 (MaxPooling2 (None, 75, 75, 30)        0         \n",
      "_________________________________________________________________\n",
      "conv2d_8 (Conv2D)            (None, 75, 75, 64)        17344     \n",
      "_________________________________________________________________\n",
      "max_pooling2d_8 (MaxPooling2 (None, 37, 37, 64)        0         \n",
      "_________________________________________________________________\n",
      "flatten_3 (Flatten)          (None, 87616)             0         \n",
      "_________________________________________________________________\n",
      "dense_6 (Dense)              (None, 64)                5607488   \n",
      "_________________________________________________________________\n",
      "dense_7 (Dense)              (None, 3)                 195       \n",
      "=================================================================\n",
      "Total params: 5,625,867\n",
      "Trainable params: 5,625,867\n",
      "Non-trainable params: 0\n",
      "_________________________________________________________________\n"
     ]
    }
   ],
   "source": [
    "# view the summary of the cnn model\n",
    "cnn_model.summary()"
   ]
  },
  {
   "cell_type": "code",
   "execution_count": 174,
   "metadata": {
    "execution": {
     "iopub.execute_input": "2023-06-08T11:52:59.985804Z",
     "iopub.status.busy": "2023-06-08T11:52:59.985007Z",
     "iopub.status.idle": "2023-06-08T11:52:59.999380Z",
     "shell.execute_reply": "2023-06-08T11:52:59.998373Z",
     "shell.execute_reply.started": "2023-06-08T11:52:59.985765Z"
    }
   },
   "outputs": [],
   "source": [
    "# compile the model\n",
    "cnn_model.compile(optimizer='adam',\n",
    "              loss='sparse_categorical_crossentropy',\n",
    "              metrics=['accuracy'])"
   ]
  },
  {
   "cell_type": "code",
   "execution_count": 175,
   "metadata": {
    "execution": {
     "iopub.execute_input": "2023-06-08T11:53:03.415273Z",
     "iopub.status.busy": "2023-06-08T11:53:03.414540Z",
     "iopub.status.idle": "2023-06-08T12:03:25.332685Z",
     "shell.execute_reply": "2023-06-08T12:03:25.331687Z",
     "shell.execute_reply.started": "2023-06-08T11:53:03.415236Z"
    }
   },
   "outputs": [
    {
     "name": "stdout",
     "output_type": "stream",
     "text": [
      "Epoch 1/20\n",
      "280/280 [==============================] - 26s 90ms/step - loss: 0.0966 - accuracy: 0.9661 - val_loss: 0.3528 - val_accuracy: 0.9071\n",
      "Epoch 2/20\n",
      "280/280 [==============================] - 26s 92ms/step - loss: 0.0791 - accuracy: 0.9717 - val_loss: 0.4092 - val_accuracy: 0.9028\n",
      "Epoch 3/20\n",
      "280/280 [==============================] - 24s 87ms/step - loss: 0.0762 - accuracy: 0.9733 - val_loss: 0.4560 - val_accuracy: 0.8969\n",
      "Epoch 4/20\n",
      "280/280 [==============================] - 24s 86ms/step - loss: 0.0774 - accuracy: 0.9718 - val_loss: 0.3995 - val_accuracy: 0.9109\n",
      "Epoch 5/20\n",
      "280/280 [==============================] - 25s 89ms/step - loss: 0.0684 - accuracy: 0.9763 - val_loss: 0.4812 - val_accuracy: 0.8965\n",
      "Epoch 6/20\n",
      "280/280 [==============================] - 27s 95ms/step - loss: 0.0604 - accuracy: 0.9794 - val_loss: 0.4071 - val_accuracy: 0.9199\n",
      "Epoch 7/20\n",
      "280/280 [==============================] - 24s 84ms/step - loss: 0.0592 - accuracy: 0.9793 - val_loss: 0.4302 - val_accuracy: 0.9166\n",
      "Epoch 8/20\n",
      "280/280 [==============================] - 24s 86ms/step - loss: 0.0700 - accuracy: 0.9760 - val_loss: 0.4150 - val_accuracy: 0.9210\n",
      "Epoch 9/20\n",
      "280/280 [==============================] - 26s 92ms/step - loss: 0.0519 - accuracy: 0.9821 - val_loss: 0.4497 - val_accuracy: 0.9162\n",
      "Epoch 10/20\n",
      "280/280 [==============================] - 25s 90ms/step - loss: 0.0494 - accuracy: 0.9829 - val_loss: 0.4352 - val_accuracy: 0.9227\n",
      "Epoch 11/20\n",
      "280/280 [==============================] - 24s 87ms/step - loss: 0.0452 - accuracy: 0.9850 - val_loss: 0.4649 - val_accuracy: 0.9242\n",
      "Epoch 12/20\n",
      "280/280 [==============================] - 24s 87ms/step - loss: 0.0480 - accuracy: 0.9835 - val_loss: 0.4510 - val_accuracy: 0.9247\n",
      "Epoch 13/20\n",
      "280/280 [==============================] - 23s 83ms/step - loss: 0.0498 - accuracy: 0.9826 - val_loss: 0.3829 - val_accuracy: 0.9374\n",
      "Epoch 14/20\n",
      "280/280 [==============================] - 23s 82ms/step - loss: 0.0421 - accuracy: 0.9855 - val_loss: 0.4396 - val_accuracy: 0.9294\n",
      "Epoch 15/20\n",
      "280/280 [==============================] - 24s 85ms/step - loss: 0.0424 - accuracy: 0.9855 - val_loss: 0.4028 - val_accuracy: 0.9355\n",
      "Epoch 16/20\n",
      "280/280 [==============================] - 23s 83ms/step - loss: 0.0352 - accuracy: 0.9893 - val_loss: 0.3847 - val_accuracy: 0.9451\n",
      "Epoch 17/20\n",
      "280/280 [==============================] - 23s 83ms/step - loss: 0.0379 - accuracy: 0.9879 - val_loss: 0.3967 - val_accuracy: 0.9414\n",
      "Epoch 18/20\n",
      "280/280 [==============================] - 24s 86ms/step - loss: 0.0356 - accuracy: 0.9878 - val_loss: 0.4196 - val_accuracy: 0.9393\n",
      "Epoch 19/20\n",
      "280/280 [==============================] - 26s 92ms/step - loss: 0.0235 - accuracy: 0.9912 - val_loss: 0.3919 - val_accuracy: 0.9524\n",
      "Epoch 20/20\n",
      "280/280 [==============================] - 25s 89ms/step - loss: 0.0332 - accuracy: 0.9878 - val_loss: 0.4078 - val_accuracy: 0.9493\n"
     ]
    },
    {
     "data": {
      "text/plain": [
       "<keras.callbacks.History at 0x7c037c0a03d0>"
      ]
     },
     "execution_count": 175,
     "metadata": {},
     "output_type": "execute_result"
    }
   ],
   "source": [
    "# fit the model\n",
    "cnn_model.fit(train_set, epochs=20, validation_data=test_set)\n",
    "#as we didn't performed data augmentation so we used 20 epochs"
   ]
  },
  {
   "cell_type": "code",
   "execution_count": 176,
   "metadata": {
    "execution": {
     "iopub.execute_input": "2023-06-08T12:03:29.902374Z",
     "iopub.status.busy": "2023-06-08T12:03:29.901785Z",
     "iopub.status.idle": "2023-06-08T12:03:42.994157Z",
     "shell.execute_reply": "2023-06-08T12:03:42.993162Z",
     "shell.execute_reply.started": "2023-06-08T12:03:29.902338Z"
    }
   },
   "outputs": [
    {
     "name": "stdout",
     "output_type": "stream",
     "text": [
      "280/280 [==============================] - 13s 47ms/step - loss: 0.0603 - accuracy: 0.9813\n"
     ]
    },
    {
     "data": {
      "text/plain": [
       "[0.0603117011487484, 0.9813005924224854]"
      ]
     },
     "execution_count": 176,
     "metadata": {},
     "output_type": "execute_result"
    }
   ],
   "source": [
    "#evaluating training set\n",
    "cnn_model.evaluate(train_set)"
   ]
  },
  {
   "cell_type": "code",
   "execution_count": 177,
   "metadata": {
    "execution": {
     "iopub.execute_input": "2023-06-08T12:03:49.133102Z",
     "iopub.status.busy": "2023-06-08T12:03:49.132716Z",
     "iopub.status.idle": "2023-06-08T12:04:01.483948Z",
     "shell.execute_reply": "2023-06-08T12:04:01.482970Z",
     "shell.execute_reply.started": "2023-06-08T12:03:49.133069Z"
    }
   },
   "outputs": [
    {
     "name": "stdout",
     "output_type": "stream",
     "text": [
      "280/280 [==============================] - 12s 44ms/step - loss: 0.4078 - accuracy: 0.9493\n"
     ]
    },
    {
     "data": {
      "text/plain": [
       "[0.40782010555267334, 0.9492632150650024]"
      ]
     },
     "execution_count": 177,
     "metadata": {},
     "output_type": "execute_result"
    }
   ],
   "source": [
    "# test accuracy\n",
    "cnn_model.evaluate(test_set)"
   ]
  },
  {
   "cell_type": "code",
   "execution_count": 178,
   "metadata": {
    "execution": {
     "iopub.execute_input": "2023-06-08T12:04:07.055568Z",
     "iopub.status.busy": "2023-06-08T12:04:07.055175Z",
     "iopub.status.idle": "2023-06-08T12:04:27.596736Z",
     "shell.execute_reply": "2023-06-08T12:04:27.595585Z",
     "shell.execute_reply.started": "2023-06-08T12:04:07.055531Z"
    }
   },
   "outputs": [
    {
     "data": {
      "text/plain": [
       "array([[1.00e+00, 2.00e-16, 6.65e-26],\n",
       "       [1.00e+00, 4.52e-04, 6.27e-07],\n",
       "       [4.98e-09, 1.00e+00, 2.04e-10],\n",
       "       ...,\n",
       "       [6.09e-01, 3.91e-01, 8.88e-15],\n",
       "       [9.83e-01, 1.75e-02, 2.70e-16],\n",
       "       [1.95e-04, 9.84e-01, 1.57e-02]], dtype=float32)"
      ]
     },
     "execution_count": 178,
     "metadata": {},
     "output_type": "execute_result"
    }
   ],
   "source": [
    "#test set predictions\n",
    "test_pred = cnn_model.predict(test_set)\n",
    "test_pred"
   ]
  },
  {
   "cell_type": "code",
   "execution_count": 179,
   "metadata": {
    "execution": {
     "iopub.execute_input": "2023-06-08T12:04:33.771261Z",
     "iopub.status.busy": "2023-06-08T12:04:33.770852Z",
     "iopub.status.idle": "2023-06-08T12:04:33.847245Z",
     "shell.execute_reply": "2023-06-08T12:04:33.846000Z",
     "shell.execute_reply.started": "2023-06-08T12:04:33.771225Z"
    }
   },
   "outputs": [
    {
     "name": "stdout",
     "output_type": "stream",
     "text": [
      "Test Predictions response sample: [0, 0, 1, 1, 1, 1, 0, 1, 0, 1]\n",
      "Test True response sample: [0, 0, 1, 1, 1, 1, 0, 1, 0, 1]\n"
     ]
    }
   ],
   "source": [
    "y_labels = [np.argmax(item) for item in test_pred] #extract the predicted label for each\n",
    "print(\"Test Predictions response sample:\",y_labels[:10])\n",
    "\n",
    "test_response = response_list[test_size:]\n",
    "print(\"Test True response sample:\", test_response[:10])\n",
    "\n",
    "#checking for first 10 samples"
   ]
  },
  {
   "cell_type": "code",
   "execution_count": 181,
   "metadata": {
    "execution": {
     "iopub.execute_input": "2023-06-08T12:05:49.892028Z",
     "iopub.status.busy": "2023-06-08T12:05:49.891614Z",
     "iopub.status.idle": "2023-06-08T12:05:50.226701Z",
     "shell.execute_reply": "2023-06-08T12:05:50.225720Z",
     "shell.execute_reply.started": "2023-06-08T12:05:49.891994Z"
    }
   },
   "outputs": [
    {
     "data": {
      "text/plain": [
       "<AxesSubplot:title={'center':'Confusion matrix'}, xlabel='Predicted label', ylabel='True label'>"
      ]
     },
     "execution_count": 181,
     "metadata": {},
     "output_type": "execute_result"
    },
    {
     "data": {
      "image/png": "[encoded data removed]",
      "text/plain": [
       "<Figure size 504x504 with 2 Axes>"
      ]
     },
     "metadata": {
      "needs_background": "light"
     },
     "output_type": "display_data"
    }
   ],
   "source": [
    "# funtion to plot confusion matrix to check the accuracy of each class value\n",
    "def plot_confusion_matrix(y_true, y_pred, classes,\n",
    "                          title=None,\n",
    "                          cmap=plt.cm.Blues):\n",
    "\n",
    "    # Compute confusion matrix\n",
    "    cm = confusion_matrix(y_true, y_pred)\n",
    "    fig, ax = plt.subplots(figsize=(7,7))\n",
    "    im = ax.imshow(cm, interpolation='nearest', cmap=cmap)\n",
    "    ax.figure.colorbar(im, ax=ax)\n",
    "    # show all ticks\n",
    "    ax.set(xticks=np.arange(cm.shape[1]),\n",
    "           yticks=np.arange(cm.shape[0]),\n",
    "           # label them with the respective list entries\n",
    "           xticklabels=classes, yticklabels=classes,\n",
    "           title=title,\n",
    "           ylabel='True label',\n",
    "           xlabel='Predicted label')\n",
    "\n",
    "    # Rotate the tick labels and set their alignment.\n",
    "    plt.setp(ax.get_xticklabels(), rotation=45, ha=\"right\",\n",
    "             rotation_mode=\"anchor\")\n",
    "    # Loop over data dimensions and create text annotations.\n",
    "    fmt = 'd'\n",
    "    thresh = cm.max() / 2.\n",
    "    for i in range(cm.shape[0]):\n",
    "        for j in range(cm.shape[1]):\n",
    "            ax.text(j, i, format(cm[i, j], fmt),\n",
    "                    ha=\"center\", va=\"center\",\n",
    "                    color=\"white\" if cm[i, j] > thresh else \"black\")\n",
    "    fig.tight_layout()\n",
    "    return ax\n",
    "\n",
    "\n",
    "np.set_printoptions(precision=2)\n",
    "# plotting confusion matrix\n",
    "plot_confusion_matrix(y_labels, test_response, classes=class_names,\n",
    "                      title='Confusion matrix')"
   ]
  },
  {
   "cell_type": "code",
   "execution_count": 182,
   "metadata": {
    "execution": {
     "iopub.execute_input": "2023-06-08T12:05:58.861094Z",
     "iopub.status.busy": "2023-06-08T12:05:58.860714Z",
     "iopub.status.idle": "2023-06-08T12:05:58.877338Z",
     "shell.execute_reply": "2023-06-08T12:05:58.876325Z",
     "shell.execute_reply.started": "2023-06-08T12:05:58.861060Z"
    }
   },
   "outputs": [
    {
     "name": "stdout",
     "output_type": "stream",
     "text": [
      "Accuracy of CNN Model is:   94.926 percentage\n"
     ]
    }
   ],
   "source": [
    "# accuracy of our model\n",
    "print(\"Accuracy of CNN Model is:   %0.3f percentage\" % (metrics.accuracy_score(test_response, y_labels)*100))"
   ]
  },
  {
   "cell_type": "code",
   "execution_count": 183,
   "metadata": {
    "execution": {
     "iopub.execute_input": "2023-06-08T12:06:02.494635Z",
     "iopub.status.busy": "2023-06-08T12:06:02.494220Z",
     "iopub.status.idle": "2023-06-08T12:06:02.502787Z",
     "shell.execute_reply": "2023-06-08T12:06:02.501537Z",
     "shell.execute_reply.started": "2023-06-08T12:06:02.494581Z"
    }
   },
   "outputs": [
    {
     "name": "stdout",
     "output_type": "stream",
     "text": [
      "10\n"
     ]
    }
   ],
   "source": [
    "#Finding the values from our new test dataset\n",
    "\n",
    "# built the list of image paths and list of respective responses of the images\n",
    "PATH = \"Test\"\n",
    "image_paths_1 = []\n",
    "for path in os.listdir(PATH):\n",
    "    image_paths_1.append(PATH+\"/\"+path)\n",
    "print(len(image_paths_1))"
   ]
  },
  {
   "cell_type": "code",
   "execution_count": 184,
   "metadata": {
    "execution": {
     "iopub.execute_input": "2023-06-08T12:06:05.454758Z",
     "iopub.status.busy": "2023-06-08T12:06:05.454327Z",
     "iopub.status.idle": "2023-06-08T12:06:05.462283Z",
     "shell.execute_reply": "2023-06-08T12:06:05.461162Z",
     "shell.execute_reply.started": "2023-06-08T12:06:05.454720Z"
    }
   },
   "outputs": [],
   "source": [
    "import cv2\n",
    "#preprocessing for our new dataset\n",
    "def preprocess_image(image_paths_1):\n",
    "    image = cv2.imread(image_paths_1)\n",
    "    image = cv2.resize(image, (150,150))\n",
    "    return image"
   ]
  },
  {
   "cell_type": "code",
   "execution_count": null,
   "metadata": {
    "execution": {
     "iopub.execute_input": "2023-06-08T12:07:05.535123Z",
     "iopub.status.busy": "2023-06-08T12:07:05.534591Z",
     "iopub.status.idle": "2023-06-08T12:07:06.124401Z",
     "shell.execute_reply": "2023-06-08T12:07:06.123403Z",
     "shell.execute_reply.started": "2023-06-08T12:07:05.535083Z"
    }
   },
   "outputs": [],
   "source": [
    "res=[]\n",
    "file=[]\n",
    "for image_path in image_paths_1:\n",
    "    image = preprocess_image(image_path)\n",
    "    image = np.expand_dims(image, axis=0)\n",
    "    # Get the predictions\n",
    "    predictions = cnn_model.predict(image)\n",
    "    y_labels_1 = [np.argmax(item) for item in predictions]\n",
    "    label_mapping = {0: 'YOUNG', 1: 'MIDDLE', 2: 'OLD'}\n",
    "    y_labels_1 = [label_mapping[label] for label in y_labels_1]\n",
    "    file.append(os.path.basename(image_path))\n",
    "    res.append(''.join(y_labels_1))"
   ]
  },
  {
   "cell_type": "code",
   "execution_count": 190,
   "metadata": {
    "execution": {
     "iopub.execute_input": "2023-06-08T12:08:24.994336Z",
     "iopub.status.busy": "2023-06-08T12:08:24.993933Z",
     "iopub.status.idle": "2023-06-08T12:08:25.000979Z",
     "shell.execute_reply": "2023-06-08T12:08:24.999879Z",
     "shell.execute_reply.started": "2023-06-08T12:08:24.994302Z"
    }
   },
   "outputs": [],
   "source": [
    "#creating dataframe\n",
    "results_df = pd.DataFrame({\"Image\": file, \"Class\": res})"
   ]
  },
  {
   "cell_type": "code",
   "execution_count": 191,
   "metadata": {
    "execution": {
     "iopub.execute_input": "2023-06-08T12:08:28.713626Z",
     "iopub.status.busy": "2023-06-08T12:08:28.713247Z",
     "iopub.status.idle": "2023-06-08T12:08:28.724399Z",
     "shell.execute_reply": "2023-06-08T12:08:28.723385Z",
     "shell.execute_reply.started": "2023-06-08T12:08:28.713592Z"
    }
   },
   "outputs": [
    {
     "data": {
      "text/html": [
       "<div>\n",
       "<style scoped>\n",
       "    .dataframe tbody tr th:only-of-type {\n",
       "        vertical-align: middle;\n",
       "    }\n",
       "\n",
       "    .dataframe tbody tr th {\n",
       "        vertical-align: top;\n",
       "    }\n",
       "\n",
       "    .dataframe thead th {\n",
       "        text-align: right;\n",
       "    }\n",
       "</style>\n",
       "<table border=\"1\" class=\"dataframe\">\n",
       "  <thead>\n",
       "    <tr style=\"text-align: right;\">\n",
       "      <th></th>\n",
       "      <th>Image</th>\n",
       "      <th>Class</th>\n",
       "    </tr>\n",
       "  </thead>\n",
       "  <tbody>\n",
       "    <tr>\n",
       "      <th>0</th>\n",
       "      <td>26526.jpg</td>\n",
       "      <td>MIDDLE</td>\n",
       "    </tr>\n",
       "    <tr>\n",
       "      <th>1</th>\n",
       "      <td>26528.jpg</td>\n",
       "      <td>MIDDLE</td>\n",
       "    </tr>\n",
       "    <tr>\n",
       "      <th>2</th>\n",
       "      <td>26527.jpg</td>\n",
       "      <td>MIDDLE</td>\n",
       "    </tr>\n",
       "    <tr>\n",
       "      <th>3</th>\n",
       "      <td>26524.jpg</td>\n",
       "      <td>YOUNG</td>\n",
       "    </tr>\n",
       "    <tr>\n",
       "      <th>4</th>\n",
       "      <td>26523.jpg</td>\n",
       "      <td>MIDDLE</td>\n",
       "    </tr>\n",
       "    <tr>\n",
       "      <th>5</th>\n",
       "      <td>26505.jpg</td>\n",
       "      <td>MIDDLE</td>\n",
       "    </tr>\n",
       "    <tr>\n",
       "      <th>6</th>\n",
       "      <td>26521.jpg</td>\n",
       "      <td>MIDDLE</td>\n",
       "    </tr>\n",
       "    <tr>\n",
       "      <th>7</th>\n",
       "      <td>26492.jpg</td>\n",
       "      <td>MIDDLE</td>\n",
       "    </tr>\n",
       "    <tr>\n",
       "      <th>8</th>\n",
       "      <td>26530.jpg</td>\n",
       "      <td>MIDDLE</td>\n",
       "    </tr>\n",
       "    <tr>\n",
       "      <th>9</th>\n",
       "      <td>26483.jpg</td>\n",
       "      <td>YOUNG</td>\n",
       "    </tr>\n",
       "  </tbody>\n",
       "</table>\n",
       "</div>"
      ],
      "text/plain": [
       "       Image   Class\n",
       "0  26526.jpg  MIDDLE\n",
       "1  26528.jpg  MIDDLE\n",
       "2  26527.jpg  MIDDLE\n",
       "3  26524.jpg   YOUNG\n",
       "4  26523.jpg  MIDDLE\n",
       "5  26505.jpg  MIDDLE\n",
       "6  26521.jpg  MIDDLE\n",
       "7  26492.jpg  MIDDLE\n",
       "8  26530.jpg  MIDDLE\n",
       "9  26483.jpg   YOUNG"
      ]
     },
     "execution_count": 191,
     "metadata": {},
     "output_type": "execute_result"
    }
   ],
   "source": [
    "#final result\n",
    "results_df"
   ]
  }
 ],
 "metadata": {
  "kernelspec": {
   "display_name": "Python 3 (ipykernel)",
   "language": "python",
   "name": "python3"
  },
  "language_info": {
   "codemirror_mode": {
    "name": "ipython",
    "version": 3
   },
   "file_extension": ".py",
   "mimetype": "text/x-python",
   "name": "python",
   "nbconvert_exporter": "python",
   "pygments_lexer": "ipython3",
   "version": "3.9.7"
  }
 },
 "nbformat": 4,
 "nbformat_minor": 4
}
