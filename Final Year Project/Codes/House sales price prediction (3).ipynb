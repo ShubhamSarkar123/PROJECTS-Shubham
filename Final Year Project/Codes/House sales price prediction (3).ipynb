{
 "cells": [
  {
   "cell_type": "markdown",
   "id": "a52ab0a7",
   "metadata": {},
   "source": [
    "## Data Uploading"
   ]
  },
  {
   "cell_type": "code",
   "execution_count": 1,
   "id": "efee6157",
   "metadata": {},
   "outputs": [],
   "source": [
    "import pandas as pd\n",
    "import numpy as np\n",
    "\n",
    "#displaying columns and rows = 100\n",
    "pd.set_option(\"max.columns\", 100)\n",
    "pd.set_option(\"display.max_rows\", 100)"
   ]
  },
  {
   "cell_type": "code",
   "execution_count": 2,
   "id": "98860120",
   "metadata": {},
   "outputs": [],
   "source": [
    "data=pd.read_csv('train.csv')"
   ]
  },
  {
   "cell_type": "code",
   "execution_count": 3,
   "id": "25ec846e",
   "metadata": {},
   "outputs": [
    {
     "data": {
      "text/html": [
       "<div>\n",
       "<style scoped>\n",
       "    .dataframe tbody tr th:only-of-type {\n",
       "        vertical-align: middle;\n",
       "    }\n",
       "\n",
       "    .dataframe tbody tr th {\n",
       "        vertical-align: top;\n",
       "    }\n",
       "\n",
       "    .dataframe thead th {\n",
       "        text-align: right;\n",
       "    }\n",
       "</style>\n",
       "<table border=\"1\" class=\"dataframe\">\n",
       "  <thead>\n",
       "    <tr style=\"text-align: right;\">\n",
       "      <th></th>\n",
       "      <th>Id</th>\n",
       "      <th>MSSubClass</th>\n",
       "      <th>MSZoning</th>\n",
       "      <th>LotFrontage</th>\n",
       "      <th>LotArea</th>\n",
       "      <th>Street</th>\n",
       "      <th>Alley</th>\n",
       "      <th>LotShape</th>\n",
       "      <th>LandContour</th>\n",
       "      <th>Utilities</th>\n",
       "      <th>LotConfig</th>\n",
       "      <th>LandSlope</th>\n",
       "      <th>Neighborhood</th>\n",
       "      <th>Condition1</th>\n",
       "      <th>Condition2</th>\n",
       "      <th>BldgType</th>\n",
       "      <th>HouseStyle</th>\n",
       "      <th>OverallQual</th>\n",
       "      <th>OverallCond</th>\n",
       "      <th>YearBuilt</th>\n",
       "      <th>YearRemodAdd</th>\n",
       "      <th>RoofStyle</th>\n",
       "      <th>RoofMatl</th>\n",
       "      <th>Exterior1st</th>\n",
       "      <th>Exterior2nd</th>\n",
       "      <th>MasVnrType</th>\n",
       "      <th>MasVnrArea</th>\n",
       "      <th>ExterQual</th>\n",
       "      <th>ExterCond</th>\n",
       "      <th>Foundation</th>\n",
       "      <th>BsmtQual</th>\n",
       "      <th>BsmtCond</th>\n",
       "      <th>BsmtExposure</th>\n",
       "      <th>BsmtFinType1</th>\n",
       "      <th>BsmtFinSF1</th>\n",
       "      <th>BsmtFinType2</th>\n",
       "      <th>BsmtFinSF2</th>\n",
       "      <th>BsmtUnfSF</th>\n",
       "      <th>TotalBsmtSF</th>\n",
       "      <th>Heating</th>\n",
       "      <th>HeatingQC</th>\n",
       "      <th>CentralAir</th>\n",
       "      <th>Electrical</th>\n",
       "      <th>1stFlrSF</th>\n",
       "      <th>2ndFlrSF</th>\n",
       "      <th>LowQualFinSF</th>\n",
       "      <th>GrLivArea</th>\n",
       "      <th>BsmtFullBath</th>\n",
       "      <th>BsmtHalfBath</th>\n",
       "      <th>FullBath</th>\n",
       "      <th>HalfBath</th>\n",
       "      <th>BedroomAbvGr</th>\n",
       "      <th>KitchenAbvGr</th>\n",
       "      <th>KitchenQual</th>\n",
       "      <th>TotRmsAbvGrd</th>\n",
       "      <th>Functional</th>\n",
       "      <th>Fireplaces</th>\n",
       "      <th>FireplaceQu</th>\n",
       "      <th>GarageType</th>\n",
       "      <th>GarageYrBlt</th>\n",
       "      <th>GarageFinish</th>\n",
       "      <th>GarageCars</th>\n",
       "      <th>GarageArea</th>\n",
       "      <th>GarageQual</th>\n",
       "      <th>GarageCond</th>\n",
       "      <th>PavedDrive</th>\n",
       "      <th>WoodDeckSF</th>\n",
       "      <th>OpenPorchSF</th>\n",
       "      <th>EnclosedPorch</th>\n",
       "      <th>3SsnPorch</th>\n",
       "      <th>ScreenPorch</th>\n",
       "      <th>PoolArea</th>\n",
       "      <th>PoolQC</th>\n",
       "      <th>Fence</th>\n",
       "      <th>MiscFeature</th>\n",
       "      <th>MiscVal</th>\n",
       "      <th>MoSold</th>\n",
       "      <th>YrSold</th>\n",
       "      <th>SaleType</th>\n",
       "      <th>SaleCondition</th>\n",
       "      <th>SalePrice</th>\n",
       "    </tr>\n",
       "  </thead>\n",
       "  <tbody>\n",
       "    <tr>\n",
       "      <th>0</th>\n",
       "      <td>1</td>\n",
       "      <td>60</td>\n",
       "      <td>RL</td>\n",
       "      <td>65.0</td>\n",
       "      <td>8450</td>\n",
       "      <td>Pave</td>\n",
       "      <td>NaN</td>\n",
       "      <td>Reg</td>\n",
       "      <td>Lvl</td>\n",
       "      <td>AllPub</td>\n",
       "      <td>Inside</td>\n",
       "      <td>Gtl</td>\n",
       "      <td>CollgCr</td>\n",
       "      <td>Norm</td>\n",
       "      <td>Norm</td>\n",
       "      <td>1Fam</td>\n",
       "      <td>2Story</td>\n",
       "      <td>7</td>\n",
       "      <td>5</td>\n",
       "      <td>2003</td>\n",
       "      <td>2003</td>\n",
       "      <td>Gable</td>\n",
       "      <td>CompShg</td>\n",
       "      <td>VinylSd</td>\n",
       "      <td>VinylSd</td>\n",
       "      <td>BrkFace</td>\n",
       "      <td>196.0</td>\n",
       "      <td>Gd</td>\n",
       "      <td>TA</td>\n",
       "      <td>PConc</td>\n",
       "      <td>Gd</td>\n",
       "      <td>TA</td>\n",
       "      <td>No</td>\n",
       "      <td>GLQ</td>\n",
       "      <td>706</td>\n",
       "      <td>Unf</td>\n",
       "      <td>0</td>\n",
       "      <td>150</td>\n",
       "      <td>856</td>\n",
       "      <td>GasA</td>\n",
       "      <td>Ex</td>\n",
       "      <td>Y</td>\n",
       "      <td>SBrkr</td>\n",
       "      <td>856</td>\n",
       "      <td>854</td>\n",
       "      <td>0</td>\n",
       "      <td>1710</td>\n",
       "      <td>1</td>\n",
       "      <td>0</td>\n",
       "      <td>2</td>\n",
       "      <td>1</td>\n",
       "      <td>3</td>\n",
       "      <td>1</td>\n",
       "      <td>Gd</td>\n",
       "      <td>8</td>\n",
       "      <td>Typ</td>\n",
       "      <td>0</td>\n",
       "      <td>NaN</td>\n",
       "      <td>Attchd</td>\n",
       "      <td>2003.0</td>\n",
       "      <td>RFn</td>\n",
       "      <td>2</td>\n",
       "      <td>548</td>\n",
       "      <td>TA</td>\n",
       "      <td>TA</td>\n",
       "      <td>Y</td>\n",
       "      <td>0</td>\n",
       "      <td>61</td>\n",
       "      <td>0</td>\n",
       "      <td>0</td>\n",
       "      <td>0</td>\n",
       "      <td>0</td>\n",
       "      <td>NaN</td>\n",
       "      <td>NaN</td>\n",
       "      <td>NaN</td>\n",
       "      <td>0</td>\n",
       "      <td>2</td>\n",
       "      <td>2008</td>\n",
       "      <td>WD</td>\n",
       "      <td>Normal</td>\n",
       "      <td>208500</td>\n",
       "    </tr>\n",
       "    <tr>\n",
       "      <th>1</th>\n",
       "      <td>2</td>\n",
       "      <td>20</td>\n",
       "      <td>RL</td>\n",
       "      <td>80.0</td>\n",
       "      <td>9600</td>\n",
       "      <td>Pave</td>\n",
       "      <td>NaN</td>\n",
       "      <td>Reg</td>\n",
       "      <td>Lvl</td>\n",
       "      <td>AllPub</td>\n",
       "      <td>FR2</td>\n",
       "      <td>Gtl</td>\n",
       "      <td>Veenker</td>\n",
       "      <td>Feedr</td>\n",
       "      <td>Norm</td>\n",
       "      <td>1Fam</td>\n",
       "      <td>1Story</td>\n",
       "      <td>6</td>\n",
       "      <td>8</td>\n",
       "      <td>1976</td>\n",
       "      <td>1976</td>\n",
       "      <td>Gable</td>\n",
       "      <td>CompShg</td>\n",
       "      <td>MetalSd</td>\n",
       "      <td>MetalSd</td>\n",
       "      <td>None</td>\n",
       "      <td>0.0</td>\n",
       "      <td>TA</td>\n",
       "      <td>TA</td>\n",
       "      <td>CBlock</td>\n",
       "      <td>Gd</td>\n",
       "      <td>TA</td>\n",
       "      <td>Gd</td>\n",
       "      <td>ALQ</td>\n",
       "      <td>978</td>\n",
       "      <td>Unf</td>\n",
       "      <td>0</td>\n",
       "      <td>284</td>\n",
       "      <td>1262</td>\n",
       "      <td>GasA</td>\n",
       "      <td>Ex</td>\n",
       "      <td>Y</td>\n",
       "      <td>SBrkr</td>\n",
       "      <td>1262</td>\n",
       "      <td>0</td>\n",
       "      <td>0</td>\n",
       "      <td>1262</td>\n",
       "      <td>0</td>\n",
       "      <td>1</td>\n",
       "      <td>2</td>\n",
       "      <td>0</td>\n",
       "      <td>3</td>\n",
       "      <td>1</td>\n",
       "      <td>TA</td>\n",
       "      <td>6</td>\n",
       "      <td>Typ</td>\n",
       "      <td>1</td>\n",
       "      <td>TA</td>\n",
       "      <td>Attchd</td>\n",
       "      <td>1976.0</td>\n",
       "      <td>RFn</td>\n",
       "      <td>2</td>\n",
       "      <td>460</td>\n",
       "      <td>TA</td>\n",
       "      <td>TA</td>\n",
       "      <td>Y</td>\n",
       "      <td>298</td>\n",
       "      <td>0</td>\n",
       "      <td>0</td>\n",
       "      <td>0</td>\n",
       "      <td>0</td>\n",
       "      <td>0</td>\n",
       "      <td>NaN</td>\n",
       "      <td>NaN</td>\n",
       "      <td>NaN</td>\n",
       "      <td>0</td>\n",
       "      <td>5</td>\n",
       "      <td>2007</td>\n",
       "      <td>WD</td>\n",
       "      <td>Normal</td>\n",
       "      <td>181500</td>\n",
       "    </tr>\n",
       "    <tr>\n",
       "      <th>2</th>\n",
       "      <td>3</td>\n",
       "      <td>60</td>\n",
       "      <td>RL</td>\n",
       "      <td>68.0</td>\n",
       "      <td>11250</td>\n",
       "      <td>Pave</td>\n",
       "      <td>NaN</td>\n",
       "      <td>IR1</td>\n",
       "      <td>Lvl</td>\n",
       "      <td>AllPub</td>\n",
       "      <td>Inside</td>\n",
       "      <td>Gtl</td>\n",
       "      <td>CollgCr</td>\n",
       "      <td>Norm</td>\n",
       "      <td>Norm</td>\n",
       "      <td>1Fam</td>\n",
       "      <td>2Story</td>\n",
       "      <td>7</td>\n",
       "      <td>5</td>\n",
       "      <td>2001</td>\n",
       "      <td>2002</td>\n",
       "      <td>Gable</td>\n",
       "      <td>CompShg</td>\n",
       "      <td>VinylSd</td>\n",
       "      <td>VinylSd</td>\n",
       "      <td>BrkFace</td>\n",
       "      <td>162.0</td>\n",
       "      <td>Gd</td>\n",
       "      <td>TA</td>\n",
       "      <td>PConc</td>\n",
       "      <td>Gd</td>\n",
       "      <td>TA</td>\n",
       "      <td>Mn</td>\n",
       "      <td>GLQ</td>\n",
       "      <td>486</td>\n",
       "      <td>Unf</td>\n",
       "      <td>0</td>\n",
       "      <td>434</td>\n",
       "      <td>920</td>\n",
       "      <td>GasA</td>\n",
       "      <td>Ex</td>\n",
       "      <td>Y</td>\n",
       "      <td>SBrkr</td>\n",
       "      <td>920</td>\n",
       "      <td>866</td>\n",
       "      <td>0</td>\n",
       "      <td>1786</td>\n",
       "      <td>1</td>\n",
       "      <td>0</td>\n",
       "      <td>2</td>\n",
       "      <td>1</td>\n",
       "      <td>3</td>\n",
       "      <td>1</td>\n",
       "      <td>Gd</td>\n",
       "      <td>6</td>\n",
       "      <td>Typ</td>\n",
       "      <td>1</td>\n",
       "      <td>TA</td>\n",
       "      <td>Attchd</td>\n",
       "      <td>2001.0</td>\n",
       "      <td>RFn</td>\n",
       "      <td>2</td>\n",
       "      <td>608</td>\n",
       "      <td>TA</td>\n",
       "      <td>TA</td>\n",
       "      <td>Y</td>\n",
       "      <td>0</td>\n",
       "      <td>42</td>\n",
       "      <td>0</td>\n",
       "      <td>0</td>\n",
       "      <td>0</td>\n",
       "      <td>0</td>\n",
       "      <td>NaN</td>\n",
       "      <td>NaN</td>\n",
       "      <td>NaN</td>\n",
       "      <td>0</td>\n",
       "      <td>9</td>\n",
       "      <td>2008</td>\n",
       "      <td>WD</td>\n",
       "      <td>Normal</td>\n",
       "      <td>223500</td>\n",
       "    </tr>\n",
       "    <tr>\n",
       "      <th>3</th>\n",
       "      <td>4</td>\n",
       "      <td>70</td>\n",
       "      <td>RL</td>\n",
       "      <td>60.0</td>\n",
       "      <td>9550</td>\n",
       "      <td>Pave</td>\n",
       "      <td>NaN</td>\n",
       "      <td>IR1</td>\n",
       "      <td>Lvl</td>\n",
       "      <td>AllPub</td>\n",
       "      <td>Corner</td>\n",
       "      <td>Gtl</td>\n",
       "      <td>Crawfor</td>\n",
       "      <td>Norm</td>\n",
       "      <td>Norm</td>\n",
       "      <td>1Fam</td>\n",
       "      <td>2Story</td>\n",
       "      <td>7</td>\n",
       "      <td>5</td>\n",
       "      <td>1915</td>\n",
       "      <td>1970</td>\n",
       "      <td>Gable</td>\n",
       "      <td>CompShg</td>\n",
       "      <td>Wd Sdng</td>\n",
       "      <td>Wd Shng</td>\n",
       "      <td>None</td>\n",
       "      <td>0.0</td>\n",
       "      <td>TA</td>\n",
       "      <td>TA</td>\n",
       "      <td>BrkTil</td>\n",
       "      <td>TA</td>\n",
       "      <td>Gd</td>\n",
       "      <td>No</td>\n",
       "      <td>ALQ</td>\n",
       "      <td>216</td>\n",
       "      <td>Unf</td>\n",
       "      <td>0</td>\n",
       "      <td>540</td>\n",
       "      <td>756</td>\n",
       "      <td>GasA</td>\n",
       "      <td>Gd</td>\n",
       "      <td>Y</td>\n",
       "      <td>SBrkr</td>\n",
       "      <td>961</td>\n",
       "      <td>756</td>\n",
       "      <td>0</td>\n",
       "      <td>1717</td>\n",
       "      <td>1</td>\n",
       "      <td>0</td>\n",
       "      <td>1</td>\n",
       "      <td>0</td>\n",
       "      <td>3</td>\n",
       "      <td>1</td>\n",
       "      <td>Gd</td>\n",
       "      <td>7</td>\n",
       "      <td>Typ</td>\n",
       "      <td>1</td>\n",
       "      <td>Gd</td>\n",
       "      <td>Detchd</td>\n",
       "      <td>1998.0</td>\n",
       "      <td>Unf</td>\n",
       "      <td>3</td>\n",
       "      <td>642</td>\n",
       "      <td>TA</td>\n",
       "      <td>TA</td>\n",
       "      <td>Y</td>\n",
       "      <td>0</td>\n",
       "      <td>35</td>\n",
       "      <td>272</td>\n",
       "      <td>0</td>\n",
       "      <td>0</td>\n",
       "      <td>0</td>\n",
       "      <td>NaN</td>\n",
       "      <td>NaN</td>\n",
       "      <td>NaN</td>\n",
       "      <td>0</td>\n",
       "      <td>2</td>\n",
       "      <td>2006</td>\n",
       "      <td>WD</td>\n",
       "      <td>Abnorml</td>\n",
       "      <td>140000</td>\n",
       "    </tr>\n",
       "    <tr>\n",
       "      <th>4</th>\n",
       "      <td>5</td>\n",
       "      <td>60</td>\n",
       "      <td>RL</td>\n",
       "      <td>84.0</td>\n",
       "      <td>14260</td>\n",
       "      <td>Pave</td>\n",
       "      <td>NaN</td>\n",
       "      <td>IR1</td>\n",
       "      <td>Lvl</td>\n",
       "      <td>AllPub</td>\n",
       "      <td>FR2</td>\n",
       "      <td>Gtl</td>\n",
       "      <td>NoRidge</td>\n",
       "      <td>Norm</td>\n",
       "      <td>Norm</td>\n",
       "      <td>1Fam</td>\n",
       "      <td>2Story</td>\n",
       "      <td>8</td>\n",
       "      <td>5</td>\n",
       "      <td>2000</td>\n",
       "      <td>2000</td>\n",
       "      <td>Gable</td>\n",
       "      <td>CompShg</td>\n",
       "      <td>VinylSd</td>\n",
       "      <td>VinylSd</td>\n",
       "      <td>BrkFace</td>\n",
       "      <td>350.0</td>\n",
       "      <td>Gd</td>\n",
       "      <td>TA</td>\n",
       "      <td>PConc</td>\n",
       "      <td>Gd</td>\n",
       "      <td>TA</td>\n",
       "      <td>Av</td>\n",
       "      <td>GLQ</td>\n",
       "      <td>655</td>\n",
       "      <td>Unf</td>\n",
       "      <td>0</td>\n",
       "      <td>490</td>\n",
       "      <td>1145</td>\n",
       "      <td>GasA</td>\n",
       "      <td>Ex</td>\n",
       "      <td>Y</td>\n",
       "      <td>SBrkr</td>\n",
       "      <td>1145</td>\n",
       "      <td>1053</td>\n",
       "      <td>0</td>\n",
       "      <td>2198</td>\n",
       "      <td>1</td>\n",
       "      <td>0</td>\n",
       "      <td>2</td>\n",
       "      <td>1</td>\n",
       "      <td>4</td>\n",
       "      <td>1</td>\n",
       "      <td>Gd</td>\n",
       "      <td>9</td>\n",
       "      <td>Typ</td>\n",
       "      <td>1</td>\n",
       "      <td>TA</td>\n",
       "      <td>Attchd</td>\n",
       "      <td>2000.0</td>\n",
       "      <td>RFn</td>\n",
       "      <td>3</td>\n",
       "      <td>836</td>\n",
       "      <td>TA</td>\n",
       "      <td>TA</td>\n",
       "      <td>Y</td>\n",
       "      <td>192</td>\n",
       "      <td>84</td>\n",
       "      <td>0</td>\n",
       "      <td>0</td>\n",
       "      <td>0</td>\n",
       "      <td>0</td>\n",
       "      <td>NaN</td>\n",
       "      <td>NaN</td>\n",
       "      <td>NaN</td>\n",
       "      <td>0</td>\n",
       "      <td>12</td>\n",
       "      <td>2008</td>\n",
       "      <td>WD</td>\n",
       "      <td>Normal</td>\n",
       "      <td>250000</td>\n",
       "    </tr>\n",
       "  </tbody>\n",
       "</table>\n",
       "</div>"
      ],
      "text/plain": [
       "   Id  MSSubClass MSZoning  LotFrontage  LotArea Street Alley LotShape  \\\n",
       "0   1          60       RL         65.0     8450   Pave   NaN      Reg   \n",
       "1   2          20       RL         80.0     9600   Pave   NaN      Reg   \n",
       "2   3          60       RL         68.0    11250   Pave   NaN      IR1   \n",
       "3   4          70       RL         60.0     9550   Pave   NaN      IR1   \n",
       "4   5          60       RL         84.0    14260   Pave   NaN      IR1   \n",
       "\n",
       "  LandContour Utilities LotConfig LandSlope Neighborhood Condition1  \\\n",
       "0         Lvl    AllPub    Inside       Gtl      CollgCr       Norm   \n",
       "1         Lvl    AllPub       FR2       Gtl      Veenker      Feedr   \n",
       "2         Lvl    AllPub    Inside       Gtl      CollgCr       Norm   \n",
       "3         Lvl    AllPub    Corner       Gtl      Crawfor       Norm   \n",
       "4         Lvl    AllPub       FR2       Gtl      NoRidge       Norm   \n",
       "\n",
       "  Condition2 BldgType HouseStyle  OverallQual  OverallCond  YearBuilt  \\\n",
       "0       Norm     1Fam     2Story            7            5       2003   \n",
       "1       Norm     1Fam     1Story            6            8       1976   \n",
       "2       Norm     1Fam     2Story            7            5       2001   \n",
       "3       Norm     1Fam     2Story            7            5       1915   \n",
       "4       Norm     1Fam     2Story            8            5       2000   \n",
       "\n",
       "   YearRemodAdd RoofStyle RoofMatl Exterior1st Exterior2nd MasVnrType  \\\n",
       "0          2003     Gable  CompShg     VinylSd     VinylSd    BrkFace   \n",
       "1          1976     Gable  CompShg     MetalSd     MetalSd       None   \n",
       "2          2002     Gable  CompShg     VinylSd     VinylSd    BrkFace   \n",
       "3          1970     Gable  CompShg     Wd Sdng     Wd Shng       None   \n",
       "4          2000     Gable  CompShg     VinylSd     VinylSd    BrkFace   \n",
       "\n",
       "   MasVnrArea ExterQual ExterCond Foundation BsmtQual BsmtCond BsmtExposure  \\\n",
       "0       196.0        Gd        TA      PConc       Gd       TA           No   \n",
       "1         0.0        TA        TA     CBlock       Gd       TA           Gd   \n",
       "2       162.0        Gd        TA      PConc       Gd       TA           Mn   \n",
       "3         0.0        TA        TA     BrkTil       TA       Gd           No   \n",
       "4       350.0        Gd        TA      PConc       Gd       TA           Av   \n",
       "\n",
       "  BsmtFinType1  BsmtFinSF1 BsmtFinType2  BsmtFinSF2  BsmtUnfSF  TotalBsmtSF  \\\n",
       "0          GLQ         706          Unf           0        150          856   \n",
       "1          ALQ         978          Unf           0        284         1262   \n",
       "2          GLQ         486          Unf           0        434          920   \n",
       "3          ALQ         216          Unf           0        540          756   \n",
       "4          GLQ         655          Unf           0        490         1145   \n",
       "\n",
       "  Heating HeatingQC CentralAir Electrical  1stFlrSF  2ndFlrSF  LowQualFinSF  \\\n",
       "0    GasA        Ex          Y      SBrkr       856       854             0   \n",
       "1    GasA        Ex          Y      SBrkr      1262         0             0   \n",
       "2    GasA        Ex          Y      SBrkr       920       866             0   \n",
       "3    GasA        Gd          Y      SBrkr       961       756             0   \n",
       "4    GasA        Ex          Y      SBrkr      1145      1053             0   \n",
       "\n",
       "   GrLivArea  BsmtFullBath  BsmtHalfBath  FullBath  HalfBath  BedroomAbvGr  \\\n",
       "0       1710             1             0         2         1             3   \n",
       "1       1262             0             1         2         0             3   \n",
       "2       1786             1             0         2         1             3   \n",
       "3       1717             1             0         1         0             3   \n",
       "4       2198             1             0         2         1             4   \n",
       "\n",
       "   KitchenAbvGr KitchenQual  TotRmsAbvGrd Functional  Fireplaces FireplaceQu  \\\n",
       "0             1          Gd             8        Typ           0         NaN   \n",
       "1             1          TA             6        Typ           1          TA   \n",
       "2             1          Gd             6        Typ           1          TA   \n",
       "3             1          Gd             7        Typ           1          Gd   \n",
       "4             1          Gd             9        Typ           1          TA   \n",
       "\n",
       "  GarageType  GarageYrBlt GarageFinish  GarageCars  GarageArea GarageQual  \\\n",
       "0     Attchd       2003.0          RFn           2         548         TA   \n",
       "1     Attchd       1976.0          RFn           2         460         TA   \n",
       "2     Attchd       2001.0          RFn           2         608         TA   \n",
       "3     Detchd       1998.0          Unf           3         642         TA   \n",
       "4     Attchd       2000.0          RFn           3         836         TA   \n",
       "\n",
       "  GarageCond PavedDrive  WoodDeckSF  OpenPorchSF  EnclosedPorch  3SsnPorch  \\\n",
       "0         TA          Y           0           61              0          0   \n",
       "1         TA          Y         298            0              0          0   \n",
       "2         TA          Y           0           42              0          0   \n",
       "3         TA          Y           0           35            272          0   \n",
       "4         TA          Y         192           84              0          0   \n",
       "\n",
       "   ScreenPorch  PoolArea PoolQC Fence MiscFeature  MiscVal  MoSold  YrSold  \\\n",
       "0            0         0    NaN   NaN         NaN        0       2    2008   \n",
       "1            0         0    NaN   NaN         NaN        0       5    2007   \n",
       "2            0         0    NaN   NaN         NaN        0       9    2008   \n",
       "3            0         0    NaN   NaN         NaN        0       2    2006   \n",
       "4            0         0    NaN   NaN         NaN        0      12    2008   \n",
       "\n",
       "  SaleType SaleCondition  SalePrice  \n",
       "0       WD        Normal     208500  \n",
       "1       WD        Normal     181500  \n",
       "2       WD        Normal     223500  \n",
       "3       WD       Abnorml     140000  \n",
       "4       WD        Normal     250000  "
      ]
     },
     "execution_count": 3,
     "metadata": {},
     "output_type": "execute_result"
    }
   ],
   "source": [
    "data.head()"
   ]
  },
  {
   "cell_type": "markdown",
   "id": "5a4e6f91",
   "metadata": {},
   "source": [
    "# Data Analysis"
   ]
  },
  {
   "cell_type": "code",
   "execution_count": 4,
   "id": "98d21177",
   "metadata": {},
   "outputs": [
    {
     "data": {
      "text/plain": [
       "(1460, 81)"
      ]
     },
     "execution_count": 4,
     "metadata": {},
     "output_type": "execute_result"
    }
   ],
   "source": [
    "data.shape"
   ]
  },
  {
   "cell_type": "code",
   "execution_count": 5,
   "id": "1a33a688",
   "metadata": {},
   "outputs": [
    {
     "data": {
      "text/html": [
       "<div>\n",
       "<style scoped>\n",
       "    .dataframe tbody tr th:only-of-type {\n",
       "        vertical-align: middle;\n",
       "    }\n",
       "\n",
       "    .dataframe tbody tr th {\n",
       "        vertical-align: top;\n",
       "    }\n",
       "\n",
       "    .dataframe thead th {\n",
       "        text-align: right;\n",
       "    }\n",
       "</style>\n",
       "<table border=\"1\" class=\"dataframe\">\n",
       "  <thead>\n",
       "    <tr style=\"text-align: right;\">\n",
       "      <th></th>\n",
       "      <th>Id</th>\n",
       "      <th>MSSubClass</th>\n",
       "      <th>LotFrontage</th>\n",
       "      <th>LotArea</th>\n",
       "      <th>OverallQual</th>\n",
       "      <th>OverallCond</th>\n",
       "      <th>YearBuilt</th>\n",
       "      <th>YearRemodAdd</th>\n",
       "      <th>MasVnrArea</th>\n",
       "      <th>BsmtFinSF1</th>\n",
       "      <th>BsmtFinSF2</th>\n",
       "      <th>BsmtUnfSF</th>\n",
       "      <th>TotalBsmtSF</th>\n",
       "      <th>1stFlrSF</th>\n",
       "      <th>2ndFlrSF</th>\n",
       "      <th>LowQualFinSF</th>\n",
       "      <th>GrLivArea</th>\n",
       "      <th>BsmtFullBath</th>\n",
       "      <th>BsmtHalfBath</th>\n",
       "      <th>FullBath</th>\n",
       "      <th>HalfBath</th>\n",
       "      <th>BedroomAbvGr</th>\n",
       "      <th>KitchenAbvGr</th>\n",
       "      <th>TotRmsAbvGrd</th>\n",
       "      <th>Fireplaces</th>\n",
       "      <th>GarageYrBlt</th>\n",
       "      <th>GarageCars</th>\n",
       "      <th>GarageArea</th>\n",
       "      <th>WoodDeckSF</th>\n",
       "      <th>OpenPorchSF</th>\n",
       "      <th>EnclosedPorch</th>\n",
       "      <th>3SsnPorch</th>\n",
       "      <th>ScreenPorch</th>\n",
       "      <th>PoolArea</th>\n",
       "      <th>MiscVal</th>\n",
       "      <th>MoSold</th>\n",
       "      <th>YrSold</th>\n",
       "      <th>SalePrice</th>\n",
       "    </tr>\n",
       "  </thead>\n",
       "  <tbody>\n",
       "    <tr>\n",
       "      <th>count</th>\n",
       "      <td>1460.000000</td>\n",
       "      <td>1460.000000</td>\n",
       "      <td>1201.000000</td>\n",
       "      <td>1460.000000</td>\n",
       "      <td>1460.000000</td>\n",
       "      <td>1460.000000</td>\n",
       "      <td>1460.000000</td>\n",
       "      <td>1460.000000</td>\n",
       "      <td>1452.000000</td>\n",
       "      <td>1460.000000</td>\n",
       "      <td>1460.000000</td>\n",
       "      <td>1460.000000</td>\n",
       "      <td>1460.000000</td>\n",
       "      <td>1460.000000</td>\n",
       "      <td>1460.000000</td>\n",
       "      <td>1460.000000</td>\n",
       "      <td>1460.000000</td>\n",
       "      <td>1460.000000</td>\n",
       "      <td>1460.000000</td>\n",
       "      <td>1460.000000</td>\n",
       "      <td>1460.000000</td>\n",
       "      <td>1460.000000</td>\n",
       "      <td>1460.000000</td>\n",
       "      <td>1460.000000</td>\n",
       "      <td>1460.000000</td>\n",
       "      <td>1379.000000</td>\n",
       "      <td>1460.000000</td>\n",
       "      <td>1460.000000</td>\n",
       "      <td>1460.000000</td>\n",
       "      <td>1460.000000</td>\n",
       "      <td>1460.000000</td>\n",
       "      <td>1460.000000</td>\n",
       "      <td>1460.000000</td>\n",
       "      <td>1460.000000</td>\n",
       "      <td>1460.000000</td>\n",
       "      <td>1460.000000</td>\n",
       "      <td>1460.000000</td>\n",
       "      <td>1460.000000</td>\n",
       "    </tr>\n",
       "    <tr>\n",
       "      <th>mean</th>\n",
       "      <td>730.500000</td>\n",
       "      <td>56.897260</td>\n",
       "      <td>70.049958</td>\n",
       "      <td>10516.828082</td>\n",
       "      <td>6.099315</td>\n",
       "      <td>5.575342</td>\n",
       "      <td>1971.267808</td>\n",
       "      <td>1984.865753</td>\n",
       "      <td>103.685262</td>\n",
       "      <td>443.639726</td>\n",
       "      <td>46.549315</td>\n",
       "      <td>567.240411</td>\n",
       "      <td>1057.429452</td>\n",
       "      <td>1162.626712</td>\n",
       "      <td>346.992466</td>\n",
       "      <td>5.844521</td>\n",
       "      <td>1515.463699</td>\n",
       "      <td>0.425342</td>\n",
       "      <td>0.057534</td>\n",
       "      <td>1.565068</td>\n",
       "      <td>0.382877</td>\n",
       "      <td>2.866438</td>\n",
       "      <td>1.046575</td>\n",
       "      <td>6.517808</td>\n",
       "      <td>0.613014</td>\n",
       "      <td>1978.506164</td>\n",
       "      <td>1.767123</td>\n",
       "      <td>472.980137</td>\n",
       "      <td>94.244521</td>\n",
       "      <td>46.660274</td>\n",
       "      <td>21.954110</td>\n",
       "      <td>3.409589</td>\n",
       "      <td>15.060959</td>\n",
       "      <td>2.758904</td>\n",
       "      <td>43.489041</td>\n",
       "      <td>6.321918</td>\n",
       "      <td>2007.815753</td>\n",
       "      <td>180921.195890</td>\n",
       "    </tr>\n",
       "    <tr>\n",
       "      <th>std</th>\n",
       "      <td>421.610009</td>\n",
       "      <td>42.300571</td>\n",
       "      <td>24.284752</td>\n",
       "      <td>9981.264932</td>\n",
       "      <td>1.382997</td>\n",
       "      <td>1.112799</td>\n",
       "      <td>30.202904</td>\n",
       "      <td>20.645407</td>\n",
       "      <td>181.066207</td>\n",
       "      <td>456.098091</td>\n",
       "      <td>161.319273</td>\n",
       "      <td>441.866955</td>\n",
       "      <td>438.705324</td>\n",
       "      <td>386.587738</td>\n",
       "      <td>436.528436</td>\n",
       "      <td>48.623081</td>\n",
       "      <td>525.480383</td>\n",
       "      <td>0.518911</td>\n",
       "      <td>0.238753</td>\n",
       "      <td>0.550916</td>\n",
       "      <td>0.502885</td>\n",
       "      <td>0.815778</td>\n",
       "      <td>0.220338</td>\n",
       "      <td>1.625393</td>\n",
       "      <td>0.644666</td>\n",
       "      <td>24.689725</td>\n",
       "      <td>0.747315</td>\n",
       "      <td>213.804841</td>\n",
       "      <td>125.338794</td>\n",
       "      <td>66.256028</td>\n",
       "      <td>61.119149</td>\n",
       "      <td>29.317331</td>\n",
       "      <td>55.757415</td>\n",
       "      <td>40.177307</td>\n",
       "      <td>496.123024</td>\n",
       "      <td>2.703626</td>\n",
       "      <td>1.328095</td>\n",
       "      <td>79442.502883</td>\n",
       "    </tr>\n",
       "    <tr>\n",
       "      <th>min</th>\n",
       "      <td>1.000000</td>\n",
       "      <td>20.000000</td>\n",
       "      <td>21.000000</td>\n",
       "      <td>1300.000000</td>\n",
       "      <td>1.000000</td>\n",
       "      <td>1.000000</td>\n",
       "      <td>1872.000000</td>\n",
       "      <td>1950.000000</td>\n",
       "      <td>0.000000</td>\n",
       "      <td>0.000000</td>\n",
       "      <td>0.000000</td>\n",
       "      <td>0.000000</td>\n",
       "      <td>0.000000</td>\n",
       "      <td>334.000000</td>\n",
       "      <td>0.000000</td>\n",
       "      <td>0.000000</td>\n",
       "      <td>334.000000</td>\n",
       "      <td>0.000000</td>\n",
       "      <td>0.000000</td>\n",
       "      <td>0.000000</td>\n",
       "      <td>0.000000</td>\n",
       "      <td>0.000000</td>\n",
       "      <td>0.000000</td>\n",
       "      <td>2.000000</td>\n",
       "      <td>0.000000</td>\n",
       "      <td>1900.000000</td>\n",
       "      <td>0.000000</td>\n",
       "      <td>0.000000</td>\n",
       "      <td>0.000000</td>\n",
       "      <td>0.000000</td>\n",
       "      <td>0.000000</td>\n",
       "      <td>0.000000</td>\n",
       "      <td>0.000000</td>\n",
       "      <td>0.000000</td>\n",
       "      <td>0.000000</td>\n",
       "      <td>1.000000</td>\n",
       "      <td>2006.000000</td>\n",
       "      <td>34900.000000</td>\n",
       "    </tr>\n",
       "    <tr>\n",
       "      <th>25%</th>\n",
       "      <td>365.750000</td>\n",
       "      <td>20.000000</td>\n",
       "      <td>59.000000</td>\n",
       "      <td>7553.500000</td>\n",
       "      <td>5.000000</td>\n",
       "      <td>5.000000</td>\n",
       "      <td>1954.000000</td>\n",
       "      <td>1967.000000</td>\n",
       "      <td>0.000000</td>\n",
       "      <td>0.000000</td>\n",
       "      <td>0.000000</td>\n",
       "      <td>223.000000</td>\n",
       "      <td>795.750000</td>\n",
       "      <td>882.000000</td>\n",
       "      <td>0.000000</td>\n",
       "      <td>0.000000</td>\n",
       "      <td>1129.500000</td>\n",
       "      <td>0.000000</td>\n",
       "      <td>0.000000</td>\n",
       "      <td>1.000000</td>\n",
       "      <td>0.000000</td>\n",
       "      <td>2.000000</td>\n",
       "      <td>1.000000</td>\n",
       "      <td>5.000000</td>\n",
       "      <td>0.000000</td>\n",
       "      <td>1961.000000</td>\n",
       "      <td>1.000000</td>\n",
       "      <td>334.500000</td>\n",
       "      <td>0.000000</td>\n",
       "      <td>0.000000</td>\n",
       "      <td>0.000000</td>\n",
       "      <td>0.000000</td>\n",
       "      <td>0.000000</td>\n",
       "      <td>0.000000</td>\n",
       "      <td>0.000000</td>\n",
       "      <td>5.000000</td>\n",
       "      <td>2007.000000</td>\n",
       "      <td>129975.000000</td>\n",
       "    </tr>\n",
       "    <tr>\n",
       "      <th>50%</th>\n",
       "      <td>730.500000</td>\n",
       "      <td>50.000000</td>\n",
       "      <td>69.000000</td>\n",
       "      <td>9478.500000</td>\n",
       "      <td>6.000000</td>\n",
       "      <td>5.000000</td>\n",
       "      <td>1973.000000</td>\n",
       "      <td>1994.000000</td>\n",
       "      <td>0.000000</td>\n",
       "      <td>383.500000</td>\n",
       "      <td>0.000000</td>\n",
       "      <td>477.500000</td>\n",
       "      <td>991.500000</td>\n",
       "      <td>1087.000000</td>\n",
       "      <td>0.000000</td>\n",
       "      <td>0.000000</td>\n",
       "      <td>1464.000000</td>\n",
       "      <td>0.000000</td>\n",
       "      <td>0.000000</td>\n",
       "      <td>2.000000</td>\n",
       "      <td>0.000000</td>\n",
       "      <td>3.000000</td>\n",
       "      <td>1.000000</td>\n",
       "      <td>6.000000</td>\n",
       "      <td>1.000000</td>\n",
       "      <td>1980.000000</td>\n",
       "      <td>2.000000</td>\n",
       "      <td>480.000000</td>\n",
       "      <td>0.000000</td>\n",
       "      <td>25.000000</td>\n",
       "      <td>0.000000</td>\n",
       "      <td>0.000000</td>\n",
       "      <td>0.000000</td>\n",
       "      <td>0.000000</td>\n",
       "      <td>0.000000</td>\n",
       "      <td>6.000000</td>\n",
       "      <td>2008.000000</td>\n",
       "      <td>163000.000000</td>\n",
       "    </tr>\n",
       "    <tr>\n",
       "      <th>75%</th>\n",
       "      <td>1095.250000</td>\n",
       "      <td>70.000000</td>\n",
       "      <td>80.000000</td>\n",
       "      <td>11601.500000</td>\n",
       "      <td>7.000000</td>\n",
       "      <td>6.000000</td>\n",
       "      <td>2000.000000</td>\n",
       "      <td>2004.000000</td>\n",
       "      <td>166.000000</td>\n",
       "      <td>712.250000</td>\n",
       "      <td>0.000000</td>\n",
       "      <td>808.000000</td>\n",
       "      <td>1298.250000</td>\n",
       "      <td>1391.250000</td>\n",
       "      <td>728.000000</td>\n",
       "      <td>0.000000</td>\n",
       "      <td>1776.750000</td>\n",
       "      <td>1.000000</td>\n",
       "      <td>0.000000</td>\n",
       "      <td>2.000000</td>\n",
       "      <td>1.000000</td>\n",
       "      <td>3.000000</td>\n",
       "      <td>1.000000</td>\n",
       "      <td>7.000000</td>\n",
       "      <td>1.000000</td>\n",
       "      <td>2002.000000</td>\n",
       "      <td>2.000000</td>\n",
       "      <td>576.000000</td>\n",
       "      <td>168.000000</td>\n",
       "      <td>68.000000</td>\n",
       "      <td>0.000000</td>\n",
       "      <td>0.000000</td>\n",
       "      <td>0.000000</td>\n",
       "      <td>0.000000</td>\n",
       "      <td>0.000000</td>\n",
       "      <td>8.000000</td>\n",
       "      <td>2009.000000</td>\n",
       "      <td>214000.000000</td>\n",
       "    </tr>\n",
       "    <tr>\n",
       "      <th>max</th>\n",
       "      <td>1460.000000</td>\n",
       "      <td>190.000000</td>\n",
       "      <td>313.000000</td>\n",
       "      <td>215245.000000</td>\n",
       "      <td>10.000000</td>\n",
       "      <td>9.000000</td>\n",
       "      <td>2010.000000</td>\n",
       "      <td>2010.000000</td>\n",
       "      <td>1600.000000</td>\n",
       "      <td>5644.000000</td>\n",
       "      <td>1474.000000</td>\n",
       "      <td>2336.000000</td>\n",
       "      <td>6110.000000</td>\n",
       "      <td>4692.000000</td>\n",
       "      <td>2065.000000</td>\n",
       "      <td>572.000000</td>\n",
       "      <td>5642.000000</td>\n",
       "      <td>3.000000</td>\n",
       "      <td>2.000000</td>\n",
       "      <td>3.000000</td>\n",
       "      <td>2.000000</td>\n",
       "      <td>8.000000</td>\n",
       "      <td>3.000000</td>\n",
       "      <td>14.000000</td>\n",
       "      <td>3.000000</td>\n",
       "      <td>2010.000000</td>\n",
       "      <td>4.000000</td>\n",
       "      <td>1418.000000</td>\n",
       "      <td>857.000000</td>\n",
       "      <td>547.000000</td>\n",
       "      <td>552.000000</td>\n",
       "      <td>508.000000</td>\n",
       "      <td>480.000000</td>\n",
       "      <td>738.000000</td>\n",
       "      <td>15500.000000</td>\n",
       "      <td>12.000000</td>\n",
       "      <td>2010.000000</td>\n",
       "      <td>755000.000000</td>\n",
       "    </tr>\n",
       "  </tbody>\n",
       "</table>\n",
       "</div>"
      ],
      "text/plain": [
       "                Id   MSSubClass  LotFrontage        LotArea  OverallQual  \\\n",
       "count  1460.000000  1460.000000  1201.000000    1460.000000  1460.000000   \n",
       "mean    730.500000    56.897260    70.049958   10516.828082     6.099315   \n",
       "std     421.610009    42.300571    24.284752    9981.264932     1.382997   \n",
       "min       1.000000    20.000000    21.000000    1300.000000     1.000000   \n",
       "25%     365.750000    20.000000    59.000000    7553.500000     5.000000   \n",
       "50%     730.500000    50.000000    69.000000    9478.500000     6.000000   \n",
       "75%    1095.250000    70.000000    80.000000   11601.500000     7.000000   \n",
       "max    1460.000000   190.000000   313.000000  215245.000000    10.000000   \n",
       "\n",
       "       OverallCond    YearBuilt  YearRemodAdd   MasVnrArea   BsmtFinSF1  \\\n",
       "count  1460.000000  1460.000000   1460.000000  1452.000000  1460.000000   \n",
       "mean      5.575342  1971.267808   1984.865753   103.685262   443.639726   \n",
       "std       1.112799    30.202904     20.645407   181.066207   456.098091   \n",
       "min       1.000000  1872.000000   1950.000000     0.000000     0.000000   \n",
       "25%       5.000000  1954.000000   1967.000000     0.000000     0.000000   \n",
       "50%       5.000000  1973.000000   1994.000000     0.000000   383.500000   \n",
       "75%       6.000000  2000.000000   2004.000000   166.000000   712.250000   \n",
       "max       9.000000  2010.000000   2010.000000  1600.000000  5644.000000   \n",
       "\n",
       "        BsmtFinSF2    BsmtUnfSF  TotalBsmtSF     1stFlrSF     2ndFlrSF  \\\n",
       "count  1460.000000  1460.000000  1460.000000  1460.000000  1460.000000   \n",
       "mean     46.549315   567.240411  1057.429452  1162.626712   346.992466   \n",
       "std     161.319273   441.866955   438.705324   386.587738   436.528436   \n",
       "min       0.000000     0.000000     0.000000   334.000000     0.000000   \n",
       "25%       0.000000   223.000000   795.750000   882.000000     0.000000   \n",
       "50%       0.000000   477.500000   991.500000  1087.000000     0.000000   \n",
       "75%       0.000000   808.000000  1298.250000  1391.250000   728.000000   \n",
       "max    1474.000000  2336.000000  6110.000000  4692.000000  2065.000000   \n",
       "\n",
       "       LowQualFinSF    GrLivArea  BsmtFullBath  BsmtHalfBath     FullBath  \\\n",
       "count   1460.000000  1460.000000   1460.000000   1460.000000  1460.000000   \n",
       "mean       5.844521  1515.463699      0.425342      0.057534     1.565068   \n",
       "std       48.623081   525.480383      0.518911      0.238753     0.550916   \n",
       "min        0.000000   334.000000      0.000000      0.000000     0.000000   \n",
       "25%        0.000000  1129.500000      0.000000      0.000000     1.000000   \n",
       "50%        0.000000  1464.000000      0.000000      0.000000     2.000000   \n",
       "75%        0.000000  1776.750000      1.000000      0.000000     2.000000   \n",
       "max      572.000000  5642.000000      3.000000      2.000000     3.000000   \n",
       "\n",
       "          HalfBath  BedroomAbvGr  KitchenAbvGr  TotRmsAbvGrd   Fireplaces  \\\n",
       "count  1460.000000   1460.000000   1460.000000   1460.000000  1460.000000   \n",
       "mean      0.382877      2.866438      1.046575      6.517808     0.613014   \n",
       "std       0.502885      0.815778      0.220338      1.625393     0.644666   \n",
       "min       0.000000      0.000000      0.000000      2.000000     0.000000   \n",
       "25%       0.000000      2.000000      1.000000      5.000000     0.000000   \n",
       "50%       0.000000      3.000000      1.000000      6.000000     1.000000   \n",
       "75%       1.000000      3.000000      1.000000      7.000000     1.000000   \n",
       "max       2.000000      8.000000      3.000000     14.000000     3.000000   \n",
       "\n",
       "       GarageYrBlt   GarageCars   GarageArea   WoodDeckSF  OpenPorchSF  \\\n",
       "count  1379.000000  1460.000000  1460.000000  1460.000000  1460.000000   \n",
       "mean   1978.506164     1.767123   472.980137    94.244521    46.660274   \n",
       "std      24.689725     0.747315   213.804841   125.338794    66.256028   \n",
       "min    1900.000000     0.000000     0.000000     0.000000     0.000000   \n",
       "25%    1961.000000     1.000000   334.500000     0.000000     0.000000   \n",
       "50%    1980.000000     2.000000   480.000000     0.000000    25.000000   \n",
       "75%    2002.000000     2.000000   576.000000   168.000000    68.000000   \n",
       "max    2010.000000     4.000000  1418.000000   857.000000   547.000000   \n",
       "\n",
       "       EnclosedPorch    3SsnPorch  ScreenPorch     PoolArea       MiscVal  \\\n",
       "count    1460.000000  1460.000000  1460.000000  1460.000000   1460.000000   \n",
       "mean       21.954110     3.409589    15.060959     2.758904     43.489041   \n",
       "std        61.119149    29.317331    55.757415    40.177307    496.123024   \n",
       "min         0.000000     0.000000     0.000000     0.000000      0.000000   \n",
       "25%         0.000000     0.000000     0.000000     0.000000      0.000000   \n",
       "50%         0.000000     0.000000     0.000000     0.000000      0.000000   \n",
       "75%         0.000000     0.000000     0.000000     0.000000      0.000000   \n",
       "max       552.000000   508.000000   480.000000   738.000000  15500.000000   \n",
       "\n",
       "            MoSold       YrSold      SalePrice  \n",
       "count  1460.000000  1460.000000    1460.000000  \n",
       "mean      6.321918  2007.815753  180921.195890  \n",
       "std       2.703626     1.328095   79442.502883  \n",
       "min       1.000000  2006.000000   34900.000000  \n",
       "25%       5.000000  2007.000000  129975.000000  \n",
       "50%       6.000000  2008.000000  163000.000000  \n",
       "75%       8.000000  2009.000000  214000.000000  \n",
       "max      12.000000  2010.000000  755000.000000  "
      ]
     },
     "execution_count": 5,
     "metadata": {},
     "output_type": "execute_result"
    }
   ],
   "source": [
    "data.describe()"
   ]
  },
  {
   "cell_type": "code",
   "execution_count": 6,
   "id": "734136fc",
   "metadata": {},
   "outputs": [
    {
     "data": {
      "text/plain": [
       "count      1460.000000\n",
       "mean     180921.195890\n",
       "std       79442.502883\n",
       "min       34900.000000\n",
       "25%      129975.000000\n",
       "50%      163000.000000\n",
       "75%      214000.000000\n",
       "max      755000.000000\n",
       "Name: SalePrice, dtype: float64"
      ]
     },
     "execution_count": 6,
     "metadata": {},
     "output_type": "execute_result"
    }
   ],
   "source": [
    "data['SalePrice'].describe()"
   ]
  },
  {
   "cell_type": "code",
   "execution_count": 7,
   "id": "5fc65816",
   "metadata": {},
   "outputs": [
    {
     "name": "stdout",
     "output_type": "stream",
     "text": [
      "There are 0 duplicate IDs/ rows.\n"
     ]
    }
   ],
   "source": [
    "#checking for duplicate ID or Repetation of rows in dataset\n",
    "\n",
    "total_id=data.shape[0]\n",
    "total_unique_id=len(set(data['Id']))\n",
    "\n",
    "duplicate_id=total_id-total_unique_id\n",
    "print('There are '+str(duplicate_id)+' duplicate IDs/ rows.') "
   ]
  },
  {
   "cell_type": "code",
   "execution_count": 8,
   "id": "50ba6442",
   "metadata": {},
   "outputs": [
    {
     "data": {
      "text/plain": [
       "(1460, 80)"
      ]
     },
     "execution_count": 8,
     "metadata": {},
     "output_type": "execute_result"
    }
   ],
   "source": [
    "#Dropping ID column as we dont need it anymore\n",
    "\n",
    "data.drop('Id',axis=1,inplace=True)\n",
    "data.shape"
   ]
  },
  {
   "cell_type": "code",
   "execution_count": 9,
   "id": "6aa01a78",
   "metadata": {},
   "outputs": [],
   "source": [
    "import matplotlib.pyplot as plt\n",
    "import seaborn as sns\n",
    "%matplotlib inline\n",
    "sns.set_style('darkgrid')"
   ]
  },
  {
   "cell_type": "code",
   "execution_count": 10,
   "id": "c80f0f76",
   "metadata": {},
   "outputs": [
    {
     "data": {
      "text/plain": [
       "MSSubClass         int64\n",
       "MSZoning          object\n",
       "LotFrontage      float64\n",
       "LotArea            int64\n",
       "Street            object\n",
       "Alley             object\n",
       "LotShape          object\n",
       "LandContour       object\n",
       "Utilities         object\n",
       "LotConfig         object\n",
       "LandSlope         object\n",
       "Neighborhood      object\n",
       "Condition1        object\n",
       "Condition2        object\n",
       "BldgType          object\n",
       "HouseStyle        object\n",
       "OverallQual        int64\n",
       "OverallCond        int64\n",
       "YearBuilt          int64\n",
       "YearRemodAdd       int64\n",
       "RoofStyle         object\n",
       "RoofMatl          object\n",
       "Exterior1st       object\n",
       "Exterior2nd       object\n",
       "MasVnrType        object\n",
       "MasVnrArea       float64\n",
       "ExterQual         object\n",
       "ExterCond         object\n",
       "Foundation        object\n",
       "BsmtQual          object\n",
       "BsmtCond          object\n",
       "BsmtExposure      object\n",
       "BsmtFinType1      object\n",
       "BsmtFinSF1         int64\n",
       "BsmtFinType2      object\n",
       "BsmtFinSF2         int64\n",
       "BsmtUnfSF          int64\n",
       "TotalBsmtSF        int64\n",
       "Heating           object\n",
       "HeatingQC         object\n",
       "CentralAir        object\n",
       "Electrical        object\n",
       "1stFlrSF           int64\n",
       "2ndFlrSF           int64\n",
       "LowQualFinSF       int64\n",
       "GrLivArea          int64\n",
       "BsmtFullBath       int64\n",
       "BsmtHalfBath       int64\n",
       "FullBath           int64\n",
       "HalfBath           int64\n",
       "BedroomAbvGr       int64\n",
       "KitchenAbvGr       int64\n",
       "KitchenQual       object\n",
       "TotRmsAbvGrd       int64\n",
       "Functional        object\n",
       "Fireplaces         int64\n",
       "FireplaceQu       object\n",
       "GarageType        object\n",
       "GarageYrBlt      float64\n",
       "GarageFinish      object\n",
       "GarageCars         int64\n",
       "GarageArea         int64\n",
       "GarageQual        object\n",
       "GarageCond        object\n",
       "PavedDrive        object\n",
       "WoodDeckSF         int64\n",
       "OpenPorchSF        int64\n",
       "EnclosedPorch      int64\n",
       "3SsnPorch          int64\n",
       "ScreenPorch        int64\n",
       "PoolArea           int64\n",
       "PoolQC            object\n",
       "Fence             object\n",
       "MiscFeature       object\n",
       "MiscVal            int64\n",
       "MoSold             int64\n",
       "YrSold             int64\n",
       "SaleType          object\n",
       "SaleCondition     object\n",
       "SalePrice          int64\n",
       "dtype: object"
      ]
     },
     "execution_count": 10,
     "metadata": {},
     "output_type": "execute_result"
    }
   ],
   "source": [
    "data.dtypes"
   ]
  },
  {
   "cell_type": "code",
   "execution_count": 11,
   "id": "56aea845",
   "metadata": {},
   "outputs": [
    {
     "data": {
      "text/plain": [
       "MSSubClass          0\n",
       "MSZoning            0\n",
       "LotFrontage       259\n",
       "LotArea             0\n",
       "Street              0\n",
       "Alley            1369\n",
       "LotShape            0\n",
       "LandContour         0\n",
       "Utilities           0\n",
       "LotConfig           0\n",
       "LandSlope           0\n",
       "Neighborhood        0\n",
       "Condition1          0\n",
       "Condition2          0\n",
       "BldgType            0\n",
       "HouseStyle          0\n",
       "OverallQual         0\n",
       "OverallCond         0\n",
       "YearBuilt           0\n",
       "YearRemodAdd        0\n",
       "RoofStyle           0\n",
       "RoofMatl            0\n",
       "Exterior1st         0\n",
       "Exterior2nd         0\n",
       "MasVnrType          8\n",
       "MasVnrArea          8\n",
       "ExterQual           0\n",
       "ExterCond           0\n",
       "Foundation          0\n",
       "BsmtQual           37\n",
       "BsmtCond           37\n",
       "BsmtExposure       38\n",
       "BsmtFinType1       37\n",
       "BsmtFinSF1          0\n",
       "BsmtFinType2       38\n",
       "BsmtFinSF2          0\n",
       "BsmtUnfSF           0\n",
       "TotalBsmtSF         0\n",
       "Heating             0\n",
       "HeatingQC           0\n",
       "CentralAir          0\n",
       "Electrical          1\n",
       "1stFlrSF            0\n",
       "2ndFlrSF            0\n",
       "LowQualFinSF        0\n",
       "GrLivArea           0\n",
       "BsmtFullBath        0\n",
       "BsmtHalfBath        0\n",
       "FullBath            0\n",
       "HalfBath            0\n",
       "BedroomAbvGr        0\n",
       "KitchenAbvGr        0\n",
       "KitchenQual         0\n",
       "TotRmsAbvGrd        0\n",
       "Functional          0\n",
       "Fireplaces          0\n",
       "FireplaceQu       690\n",
       "GarageType         81\n",
       "GarageYrBlt        81\n",
       "GarageFinish       81\n",
       "GarageCars          0\n",
       "GarageArea          0\n",
       "GarageQual         81\n",
       "GarageCond         81\n",
       "PavedDrive          0\n",
       "WoodDeckSF          0\n",
       "OpenPorchSF         0\n",
       "EnclosedPorch       0\n",
       "3SsnPorch           0\n",
       "ScreenPorch         0\n",
       "PoolArea            0\n",
       "PoolQC           1453\n",
       "Fence            1179\n",
       "MiscFeature      1406\n",
       "MiscVal             0\n",
       "MoSold              0\n",
       "YrSold              0\n",
       "SaleType            0\n",
       "SaleCondition       0\n",
       "SalePrice           0\n",
       "dtype: int64"
      ]
     },
     "execution_count": 11,
     "metadata": {},
     "output_type": "execute_result"
    }
   ],
   "source": [
    "data.isnull().sum()"
   ]
  },
  {
   "cell_type": "markdown",
   "id": "42d259ed",
   "metadata": {},
   "source": [
    "# Filling Missing Values"
   ]
  },
  {
   "cell_type": "code",
   "execution_count": 12,
   "id": "e2798bfc",
   "metadata": {},
   "outputs": [],
   "source": [
    "#LotFrontage: Linear feet of street connected to property\n",
    "# LotFrontage : NA most likely means no lot frontage\n",
    "data.loc[:, \"LotFrontage\"] = data.loc[:, \"LotFrontage\"].fillna(0)"
   ]
  },
  {
   "cell_type": "code",
   "execution_count": 13,
   "id": "300dc721",
   "metadata": {},
   "outputs": [],
   "source": [
    "#Alley: Type of alley access\n",
    "# Alley : data description says NA means \"no alley access\"\n",
    "data.loc[:, \"Alley\"] = data.loc[:, \"Alley\"].fillna(\"None\")"
   ]
  },
  {
   "cell_type": "code",
   "execution_count": 14,
   "id": "271b52a2",
   "metadata": {},
   "outputs": [],
   "source": [
    "# MasVnrType: Masonry veneer type\n",
    "# MasVnrArea: Masonry veneer area in square feet\n",
    "# MasVnrType : NA most likely means no masonary veneer\n",
    "data.loc[:, \"MasVnrType\"] = data.loc[:, \"MasVnrType\"].fillna(\"None\")\n",
    "data.loc[:, \"MasVnrArea\"] = data.loc[:, \"MasVnrArea\"].fillna(0)"
   ]
  },
  {
   "cell_type": "code",
   "execution_count": 15,
   "id": "0d6f7b13",
   "metadata": {},
   "outputs": [],
   "source": [
    "# BsmtQual: Height of the basement\n",
    "# BsmtCond: General condition of the basement\n",
    "# BsmtExposure: Walkout or garden level basement walls\n",
    "# BsmtFinType1: Quality of basement finished area\n",
    "# BsmtFinType2: Quality of second finished area (if present)\n",
    "# All of the above : data description says NA for basement features is \"no basement\"\n",
    "\n",
    "data.loc[:, \"BsmtQual\"] = data.loc[:, \"BsmtQual\"].fillna(\"No\")\n",
    "data.loc[:, \"BsmtCond\"] = data.loc[:, \"BsmtCond\"].fillna(\"No\")\n",
    "data.loc[:, \"BsmtExposure\"] = data.loc[:, \"BsmtExposure\"].fillna(\"No\")\n",
    "data.loc[:, \"BsmtFinType1\"] = data.loc[:, \"BsmtFinType1\"].fillna(\"No\")\n",
    "data.loc[:, \"BsmtFinType2\"] = data.loc[:, \"BsmtFinType2\"].fillna(\"No\")"
   ]
  },
  {
   "cell_type": "code",
   "execution_count": 16,
   "id": "a4370f40",
   "metadata": {},
   "outputs": [],
   "source": [
    "# FireplaceQu: Fireplace quality\n",
    "# FireplaceQu : data description says NA means \"no fireplace\"\n",
    "data.loc[:, \"FireplaceQu\"] = data.loc[:, \"FireplaceQu\"].fillna(\"No\")"
   ]
  },
  {
   "cell_type": "code",
   "execution_count": 17,
   "id": "0ee569f9",
   "metadata": {},
   "outputs": [],
   "source": [
    "# GarageType: Garage location\n",
    "# GarageYrBlt: Year garage was built  #not needed\n",
    "# GarageFinish: Interior finish of the garage\n",
    "# GarageQual: Garage quality\n",
    "# GarageCond: Garage condition\n",
    "\n",
    "# all of the above : data description says NA for garage features is \"no garage\"\n",
    "data.loc[:, \"GarageType\"] = data.loc[:, \"GarageType\"].fillna(\"No\")\n",
    "data.loc[:, \"GarageFinish\"] = data.loc[:, \"GarageFinish\"].fillna(\"No\")\n",
    "data.loc[:, \"GarageQual\"] = data.loc[:, \"GarageQual\"].fillna(\"No\")\n",
    "data.loc[:, \"GarageCond\"] = data.loc[:, \"GarageCond\"].fillna(\"No\")"
   ]
  },
  {
   "cell_type": "code",
   "execution_count": 18,
   "id": "d50b4c18",
   "metadata": {},
   "outputs": [],
   "source": [
    "#PoolQC: Pool quality\n",
    "# PoolQC : data description says NA means \"no pool\"\n",
    "data.loc[:, \"PoolQC\"] = data.loc[:, \"PoolQC\"].fillna(\"No\")"
   ]
  },
  {
   "cell_type": "code",
   "execution_count": 19,
   "id": "e9a570c2",
   "metadata": {},
   "outputs": [],
   "source": [
    "#Fence: Fence quality\n",
    "# Fence : data description says NA means \"no fence\"\n",
    "data.loc[:, \"Fence\"] = data.loc[:, \"Fence\"].fillna(\"No\")"
   ]
  },
  {
   "cell_type": "code",
   "execution_count": 20,
   "id": "59466171",
   "metadata": {},
   "outputs": [],
   "source": [
    "# MiscFeature: Miscellaneous feature not covered in other categories\n",
    "# MiscFeature : data description says NA means \"no misc feature\"\n",
    "data.loc[:, \"MiscFeature\"] = data.loc[:, \"MiscFeature\"].fillna(\"No\")"
   ]
  },
  {
   "cell_type": "code",
   "execution_count": 21,
   "id": "83d03e92",
   "metadata": {},
   "outputs": [
    {
     "data": {
      "text/plain": [
       "MSSubClass        0\n",
       "MSZoning          0\n",
       "LotFrontage       0\n",
       "LotArea           0\n",
       "Street            0\n",
       "Alley             0\n",
       "LotShape          0\n",
       "LandContour       0\n",
       "Utilities         0\n",
       "LotConfig         0\n",
       "LandSlope         0\n",
       "Neighborhood      0\n",
       "Condition1        0\n",
       "Condition2        0\n",
       "BldgType          0\n",
       "HouseStyle        0\n",
       "OverallQual       0\n",
       "OverallCond       0\n",
       "YearBuilt         0\n",
       "YearRemodAdd      0\n",
       "RoofStyle         0\n",
       "RoofMatl          0\n",
       "Exterior1st       0\n",
       "Exterior2nd       0\n",
       "MasVnrType        0\n",
       "MasVnrArea        0\n",
       "ExterQual         0\n",
       "ExterCond         0\n",
       "Foundation        0\n",
       "BsmtQual          0\n",
       "BsmtCond          0\n",
       "BsmtExposure      0\n",
       "BsmtFinType1      0\n",
       "BsmtFinSF1        0\n",
       "BsmtFinType2      0\n",
       "BsmtFinSF2        0\n",
       "BsmtUnfSF         0\n",
       "TotalBsmtSF       0\n",
       "Heating           0\n",
       "HeatingQC         0\n",
       "CentralAir        0\n",
       "Electrical        1\n",
       "1stFlrSF          0\n",
       "2ndFlrSF          0\n",
       "LowQualFinSF      0\n",
       "GrLivArea         0\n",
       "BsmtFullBath      0\n",
       "BsmtHalfBath      0\n",
       "FullBath          0\n",
       "HalfBath          0\n",
       "BedroomAbvGr      0\n",
       "KitchenAbvGr      0\n",
       "KitchenQual       0\n",
       "TotRmsAbvGrd      0\n",
       "Functional        0\n",
       "Fireplaces        0\n",
       "FireplaceQu       0\n",
       "GarageType        0\n",
       "GarageYrBlt      81\n",
       "GarageFinish      0\n",
       "GarageCars        0\n",
       "GarageArea        0\n",
       "GarageQual        0\n",
       "GarageCond        0\n",
       "PavedDrive        0\n",
       "WoodDeckSF        0\n",
       "OpenPorchSF       0\n",
       "EnclosedPorch     0\n",
       "3SsnPorch         0\n",
       "ScreenPorch       0\n",
       "PoolArea          0\n",
       "PoolQC            0\n",
       "Fence             0\n",
       "MiscFeature       0\n",
       "MiscVal           0\n",
       "MoSold            0\n",
       "YrSold            0\n",
       "SaleType          0\n",
       "SaleCondition     0\n",
       "SalePrice         0\n",
       "dtype: int64"
      ]
     },
     "execution_count": 21,
     "metadata": {},
     "output_type": "execute_result"
    }
   ],
   "source": [
    "data.isnull().sum()"
   ]
  },
  {
   "cell_type": "code",
   "execution_count": 22,
   "id": "82fe10ca",
   "metadata": {},
   "outputs": [],
   "source": [
    "#Electrical and GarageYrBlt is having null values since they can't be filled with respect to other values"
   ]
  },
  {
   "cell_type": "code",
   "execution_count": 23,
   "id": "23b914cc",
   "metadata": {},
   "outputs": [
    {
     "data": {
      "text/plain": [
       "{'1stFlrSF',\n",
       " '2ndFlrSF',\n",
       " '3SsnPorch',\n",
       " 'BedroomAbvGr',\n",
       " 'BsmtFinSF1',\n",
       " 'BsmtFinSF2',\n",
       " 'BsmtFullBath',\n",
       " 'BsmtHalfBath',\n",
       " 'BsmtUnfSF',\n",
       " 'EnclosedPorch',\n",
       " 'Fireplaces',\n",
       " 'FullBath',\n",
       " 'GarageArea',\n",
       " 'GarageCars',\n",
       " 'GarageYrBlt',\n",
       " 'GrLivArea',\n",
       " 'HalfBath',\n",
       " 'KitchenAbvGr',\n",
       " 'LotArea',\n",
       " 'LotFrontage',\n",
       " 'LowQualFinSF',\n",
       " 'MSSubClass',\n",
       " 'MasVnrArea',\n",
       " 'MiscVal',\n",
       " 'MoSold',\n",
       " 'OpenPorchSF',\n",
       " 'OverallCond',\n",
       " 'OverallQual',\n",
       " 'PoolArea',\n",
       " 'SalePrice',\n",
       " 'ScreenPorch',\n",
       " 'TotRmsAbvGrd',\n",
       " 'TotalBsmtSF',\n",
       " 'WoodDeckSF',\n",
       " 'YearBuilt',\n",
       " 'YearRemodAdd',\n",
       " 'YrSold'}"
      ]
     },
     "execution_count": 23,
     "metadata": {},
     "output_type": "execute_result"
    }
   ],
   "source": [
    "set(data._get_numeric_data())"
   ]
  },
  {
   "cell_type": "code",
   "execution_count": 24,
   "id": "65474432",
   "metadata": {},
   "outputs": [
    {
     "data": {
      "text/plain": [
       "(1460, 37)"
      ]
     },
     "execution_count": 24,
     "metadata": {},
     "output_type": "execute_result"
    }
   ],
   "source": [
    "data._get_numeric_data().shape"
   ]
  },
  {
   "cell_type": "code",
   "execution_count": 25,
   "id": "7f0694ce",
   "metadata": {},
   "outputs": [
    {
     "data": {
      "text/plain": [
       "{20, 30, 40, 45, 50, 60, 70, 75, 80, 85, 90, 120, 160, 180, 190}"
      ]
     },
     "execution_count": 25,
     "metadata": {},
     "output_type": "execute_result"
    }
   ],
   "source": [
    "set(data['MSSubClass'])"
   ]
  },
  {
   "cell_type": "code",
   "execution_count": 26,
   "id": "978a39d0",
   "metadata": {},
   "outputs": [
    {
     "data": {
      "text/plain": [
       "{1, 2, 3, 4, 5, 6, 7, 8, 9, 10, 11, 12}"
      ]
     },
     "execution_count": 26,
     "metadata": {},
     "output_type": "execute_result"
    }
   ],
   "source": [
    "set(data['MoSold'])"
   ]
  },
  {
   "cell_type": "code",
   "execution_count": 27,
   "id": "34a85ef0",
   "metadata": {},
   "outputs": [],
   "source": [
    "# Change Some numerical features that are actually really categories\n",
    "#MSSubClass: The building class\n",
    "data = data.replace({\"MSSubClass\" : {20 : \"SC20\", 30 : \"SC30\", 40 : \"SC40\", 45 : \"SC45\", \n",
    "                                       50 : \"SC50\", 60 : \"SC60\", 70 : \"SC70\", 75 : \"SC75\", \n",
    "                                       80 : \"SC80\", 85 : \"SC85\", 90 : \"SC90\", 120 : \"SC120\", \n",
    "                                       150 : \"SC150\", 160 : \"SC160\", 180 : \"SC180\", 190 : \"SC190\"},\n",
    "                       \"MoSold\" : {1 : \"Jan\", 2 : \"Feb\", 3 : \"Mar\", 4 : \"Apr\", 5 : \"May\", 6 : \"Jun\",\n",
    "                                   7 : \"Jul\", 8 : \"Aug\", 9 : \"Sep\", 10 : \"Oct\", 11 : \"Nov\", 12 : \"Dec\"}\n",
    "                      })"
   ]
  },
  {
   "cell_type": "code",
   "execution_count": 28,
   "id": "e2bec54c",
   "metadata": {},
   "outputs": [
    {
     "data": {
      "text/plain": [
       "(1460, 35)"
      ]
     },
     "execution_count": 28,
     "metadata": {},
     "output_type": "execute_result"
    }
   ],
   "source": [
    "data._get_numeric_data().shape"
   ]
  },
  {
   "cell_type": "code",
   "execution_count": 29,
   "id": "d4de9419",
   "metadata": {},
   "outputs": [
    {
     "data": {
      "text/plain": [
       "{'1stFlrSF',\n",
       " '2ndFlrSF',\n",
       " '3SsnPorch',\n",
       " 'BedroomAbvGr',\n",
       " 'BsmtFinSF1',\n",
       " 'BsmtFinSF2',\n",
       " 'BsmtFullBath',\n",
       " 'BsmtHalfBath',\n",
       " 'BsmtUnfSF',\n",
       " 'EnclosedPorch',\n",
       " 'Fireplaces',\n",
       " 'FullBath',\n",
       " 'GarageArea',\n",
       " 'GarageCars',\n",
       " 'GarageYrBlt',\n",
       " 'GrLivArea',\n",
       " 'HalfBath',\n",
       " 'KitchenAbvGr',\n",
       " 'LotArea',\n",
       " 'LotFrontage',\n",
       " 'LowQualFinSF',\n",
       " 'MasVnrArea',\n",
       " 'MiscVal',\n",
       " 'OpenPorchSF',\n",
       " 'OverallCond',\n",
       " 'OverallQual',\n",
       " 'PoolArea',\n",
       " 'SalePrice',\n",
       " 'ScreenPorch',\n",
       " 'TotRmsAbvGrd',\n",
       " 'TotalBsmtSF',\n",
       " 'WoodDeckSF',\n",
       " 'YearBuilt',\n",
       " 'YearRemodAdd',\n",
       " 'YrSold'}"
      ]
     },
     "execution_count": 29,
     "metadata": {},
     "output_type": "execute_result"
    }
   ],
   "source": [
    "set(data._get_numeric_data())"
   ]
  },
  {
   "cell_type": "code",
   "execution_count": 30,
   "id": "c7787c1f",
   "metadata": {},
   "outputs": [],
   "source": [
    "#Now we will convert some categorical values to numeric values.\n",
    "#the list above shows all the numeric values so rest are categorical values"
   ]
  },
  {
   "cell_type": "code",
   "execution_count": 31,
   "id": "b1060f6b",
   "metadata": {},
   "outputs": [
    {
     "data": {
      "text/plain": [
       "{'Grvl', 'None', 'Pave'}"
      ]
     },
     "execution_count": 31,
     "metadata": {},
     "output_type": "execute_result"
    }
   ],
   "source": [
    "set(data['Alley'])"
   ]
  },
  {
   "cell_type": "code",
   "execution_count": 32,
   "id": "703570cf",
   "metadata": {},
   "outputs": [
    {
     "data": {
      "text/plain": [
       "{'Fa', 'Gd', 'No', 'Po', 'TA'}"
      ]
     },
     "execution_count": 32,
     "metadata": {},
     "output_type": "execute_result"
    }
   ],
   "source": [
    "set(data['BsmtCond'])"
   ]
  },
  {
   "cell_type": "code",
   "execution_count": 33,
   "id": "63554735",
   "metadata": {},
   "outputs": [
    {
     "data": {
      "text/plain": [
       "{'Av', 'Gd', 'Mn', 'No'}"
      ]
     },
     "execution_count": 33,
     "metadata": {},
     "output_type": "execute_result"
    }
   ],
   "source": [
    "set(data['BsmtExposure'])"
   ]
  },
  {
   "cell_type": "code",
   "execution_count": 34,
   "id": "377c92c1",
   "metadata": {},
   "outputs": [
    {
     "data": {
      "text/plain": [
       "{'ALQ', 'BLQ', 'GLQ', 'LwQ', 'No', 'Rec', 'Unf'}"
      ]
     },
     "execution_count": 34,
     "metadata": {},
     "output_type": "execute_result"
    }
   ],
   "source": [
    "set(data['BsmtFinType1'])"
   ]
  },
  {
   "cell_type": "code",
   "execution_count": 35,
   "id": "895d8cea",
   "metadata": {},
   "outputs": [
    {
     "data": {
      "text/plain": [
       "{'ALQ', 'BLQ', 'GLQ', 'LwQ', 'No', 'Rec', 'Unf'}"
      ]
     },
     "execution_count": 35,
     "metadata": {},
     "output_type": "execute_result"
    }
   ],
   "source": [
    "set(data['BsmtFinType2'])"
   ]
  },
  {
   "cell_type": "code",
   "execution_count": 36,
   "id": "3b141844",
   "metadata": {},
   "outputs": [
    {
     "data": {
      "text/plain": [
       "{'Ex', 'Fa', 'Gd', 'No', 'TA'}"
      ]
     },
     "execution_count": 36,
     "metadata": {},
     "output_type": "execute_result"
    }
   ],
   "source": [
    "set(data['BsmtQual'])"
   ]
  },
  {
   "cell_type": "code",
   "execution_count": 37,
   "id": "9a9efdf1",
   "metadata": {},
   "outputs": [
    {
     "data": {
      "text/plain": [
       "{'Ex', 'Fa', 'Gd', 'Po', 'TA'}"
      ]
     },
     "execution_count": 37,
     "metadata": {},
     "output_type": "execute_result"
    }
   ],
   "source": [
    "set(data['ExterCond'])"
   ]
  },
  {
   "cell_type": "code",
   "execution_count": 38,
   "id": "971da174",
   "metadata": {},
   "outputs": [
    {
     "data": {
      "text/plain": [
       "{'Ex', 'Fa', 'Gd', 'TA'}"
      ]
     },
     "execution_count": 38,
     "metadata": {},
     "output_type": "execute_result"
    }
   ],
   "source": [
    "set(data['ExterQual'])"
   ]
  },
  {
   "cell_type": "code",
   "execution_count": 39,
   "id": "54d91bb5",
   "metadata": {},
   "outputs": [
    {
     "data": {
      "text/plain": [
       "{'Ex', 'Fa', 'Gd', 'No', 'Po', 'TA'}"
      ]
     },
     "execution_count": 39,
     "metadata": {},
     "output_type": "execute_result"
    }
   ],
   "source": [
    "set(data['FireplaceQu'])"
   ]
  },
  {
   "cell_type": "code",
   "execution_count": 40,
   "id": "3f06d627",
   "metadata": {},
   "outputs": [
    {
     "data": {
      "text/plain": [
       "{'Maj1', 'Maj2', 'Min1', 'Min2', 'Mod', 'Sev', 'Typ'}"
      ]
     },
     "execution_count": 40,
     "metadata": {},
     "output_type": "execute_result"
    }
   ],
   "source": [
    "set(data['Functional'])"
   ]
  },
  {
   "cell_type": "code",
   "execution_count": 41,
   "id": "2deffa5e",
   "metadata": {},
   "outputs": [
    {
     "data": {
      "text/plain": [
       "{'Ex', 'Fa', 'Gd', 'No', 'Po', 'TA'}"
      ]
     },
     "execution_count": 41,
     "metadata": {},
     "output_type": "execute_result"
    }
   ],
   "source": [
    "set(data['GarageCond'])"
   ]
  },
  {
   "cell_type": "code",
   "execution_count": 42,
   "id": "02dff58c",
   "metadata": {},
   "outputs": [
    {
     "data": {
      "text/plain": [
       "{'Ex', 'Fa', 'Gd', 'No', 'Po', 'TA'}"
      ]
     },
     "execution_count": 42,
     "metadata": {},
     "output_type": "execute_result"
    }
   ],
   "source": [
    "set(data['GarageQual'])"
   ]
  },
  {
   "cell_type": "code",
   "execution_count": 43,
   "id": "133e0dfc",
   "metadata": {},
   "outputs": [
    {
     "data": {
      "text/plain": [
       "{'Ex', 'Fa', 'Gd', 'Po', 'TA'}"
      ]
     },
     "execution_count": 43,
     "metadata": {},
     "output_type": "execute_result"
    }
   ],
   "source": [
    "set(data['HeatingQC'])"
   ]
  },
  {
   "cell_type": "code",
   "execution_count": 44,
   "id": "ba1a71b4",
   "metadata": {},
   "outputs": [
    {
     "data": {
      "text/plain": [
       "{'Ex', 'Fa', 'Gd', 'TA'}"
      ]
     },
     "execution_count": 44,
     "metadata": {},
     "output_type": "execute_result"
    }
   ],
   "source": [
    "set(data['KitchenQual'])"
   ]
  },
  {
   "cell_type": "code",
   "execution_count": 45,
   "id": "10acd8f5",
   "metadata": {},
   "outputs": [
    {
     "data": {
      "text/plain": [
       "{'Gtl', 'Mod', 'Sev'}"
      ]
     },
     "execution_count": 45,
     "metadata": {},
     "output_type": "execute_result"
    }
   ],
   "source": [
    "set(data['LandSlope'])"
   ]
  },
  {
   "cell_type": "code",
   "execution_count": 46,
   "id": "9709874f",
   "metadata": {},
   "outputs": [
    {
     "data": {
      "text/plain": [
       "{'IR1', 'IR2', 'IR3', 'Reg'}"
      ]
     },
     "execution_count": 46,
     "metadata": {},
     "output_type": "execute_result"
    }
   ],
   "source": [
    "set(data['LotShape'])"
   ]
  },
  {
   "cell_type": "code",
   "execution_count": 47,
   "id": "3e412197",
   "metadata": {},
   "outputs": [
    {
     "data": {
      "text/plain": [
       "{'N', 'P', 'Y'}"
      ]
     },
     "execution_count": 47,
     "metadata": {},
     "output_type": "execute_result"
    }
   ],
   "source": [
    "set(data['PavedDrive'])"
   ]
  },
  {
   "cell_type": "code",
   "execution_count": 48,
   "id": "c2cbe8b5",
   "metadata": {},
   "outputs": [
    {
     "data": {
      "text/plain": [
       "{'Ex', 'Fa', 'Gd', 'No'}"
      ]
     },
     "execution_count": 48,
     "metadata": {},
     "output_type": "execute_result"
    }
   ],
   "source": [
    "set(data['PoolQC'])"
   ]
  },
  {
   "cell_type": "code",
   "execution_count": 49,
   "id": "fb412eb5",
   "metadata": {},
   "outputs": [
    {
     "data": {
      "text/plain": [
       "{'Grvl', 'Pave'}"
      ]
     },
     "execution_count": 49,
     "metadata": {},
     "output_type": "execute_result"
    }
   ],
   "source": [
    "set(data['Street'])"
   ]
  },
  {
   "cell_type": "code",
   "execution_count": 50,
   "id": "3eb427b2",
   "metadata": {},
   "outputs": [
    {
     "data": {
      "text/plain": [
       "{'AllPub', 'NoSeWa'}"
      ]
     },
     "execution_count": 50,
     "metadata": {},
     "output_type": "execute_result"
    }
   ],
   "source": [
    "set(data['Utilities'])"
   ]
  },
  {
   "cell_type": "code",
   "execution_count": 51,
   "id": "804d9b0e",
   "metadata": {},
   "outputs": [
    {
     "data": {
      "text/plain": [
       "{'Bnk', 'HLS', 'Low', 'Lvl'}"
      ]
     },
     "execution_count": 51,
     "metadata": {},
     "output_type": "execute_result"
    }
   ],
   "source": [
    "set(data['LandContour'])"
   ]
  },
  {
   "cell_type": "code",
   "execution_count": 52,
   "id": "00feda49",
   "metadata": {},
   "outputs": [
    {
     "data": {
      "text/plain": [
       "{'N', 'Y'}"
      ]
     },
     "execution_count": 52,
     "metadata": {},
     "output_type": "execute_result"
    }
   ],
   "source": [
    "set(data['CentralAir'])"
   ]
  },
  {
   "cell_type": "code",
   "execution_count": 53,
   "id": "5b200aad",
   "metadata": {},
   "outputs": [
    {
     "data": {
      "text/plain": [
       "{'Fin', 'No', 'RFn', 'Unf'}"
      ]
     },
     "execution_count": 53,
     "metadata": {},
     "output_type": "execute_result"
    }
   ],
   "source": [
    "set(data['GarageFinish'])"
   ]
  },
  {
   "cell_type": "code",
   "execution_count": 54,
   "id": "b9bb4581",
   "metadata": {},
   "outputs": [
    {
     "data": {
      "text/plain": [
       "{'GdPrv', 'GdWo', 'MnPrv', 'MnWw', 'No'}"
      ]
     },
     "execution_count": 54,
     "metadata": {},
     "output_type": "execute_result"
    }
   ],
   "source": [
    "set(data['Fence'])"
   ]
  },
  {
   "cell_type": "code",
   "execution_count": 55,
   "id": "e07d51cb",
   "metadata": {},
   "outputs": [],
   "source": [
    "#replace based on above values\n",
    "data = data.replace({\"Alley\" : {\"Grvl\" : 1, \"Pave\" : 2,\"None\":0},\n",
    "                       \"BsmtCond\" : {\"No\" : 0, \"Po\" : 1, \"Fa\" : 2, \"TA\" : 3, \"Gd\" : 4},\n",
    "                       \"BsmtExposure\" : {\"No\" : 0, \"Mn\" : 1, \"Av\": 2, \"Gd\" : 3},\n",
    "                       \"BsmtFinType1\" : {\"No\" : 0, \"Unf\" : 1, \"LwQ\": 2, \"Rec\" : 3, \"BLQ\" : 4, \n",
    "                                         \"ALQ\" : 5, \"GLQ\" : 6},\n",
    "                       \"BsmtFinType2\" : {\"No\" : 0, \"Unf\" : 1, \"LwQ\": 2, \"Rec\" : 3, \"BLQ\" : 4, \n",
    "                                         \"ALQ\" : 5, \"GLQ\" : 6},\n",
    "                       \"BsmtQual\" : {\"No\" : 0, \"Fa\" : 2, \"TA\": 3, \"Gd\" : 4, \"Ex\" : 5},\n",
    "                       \"ExterCond\" : {\"Po\" : 1, \"Fa\" : 2, \"TA\": 3, \"Gd\": 4, \"Ex\" : 5},\n",
    "                       \"ExterQual\" : {\"Fa\" : 2, \"TA\": 3, \"Gd\": 4, \"Ex\" : 5},\n",
    "                       \"FireplaceQu\" : {\"No\" : 0, \"Po\" : 1, \"Fa\" : 2, \"TA\" : 3, \"Gd\" : 4, \"Ex\" : 5},\n",
    "                       \"Functional\" : {\"Sev\" : 2, \"Maj2\" : 3, \"Maj1\" : 4, \"Mod\": 5, \n",
    "                                       \"Min2\" : 6, \"Min1\" : 7, \"Typ\" : 8},\n",
    "                       \"GarageCond\" : {\"No\" : 0, \"Po\" : 1, \"Fa\" : 2, \"TA\" : 3, \"Gd\" : 4, \"Ex\" : 5},\n",
    "                       \"GarageQual\" : {\"No\" : 0, \"Po\" : 1, \"Fa\" : 2, \"TA\" : 3, \"Gd\" : 4, \"Ex\" : 5},\n",
    "                       \"HeatingQC\" : {\"Po\" : 1, \"Fa\" : 2, \"TA\" : 3, \"Gd\" : 4, \"Ex\" : 5},\n",
    "                       \"KitchenQual\" : {\"Fa\" : 2, \"TA\" : 3, \"Gd\" : 4, \"Ex\" : 5},\n",
    "                       \"LandSlope\" : {\"Sev\" : 1, \"Mod\" : 2, \"Gtl\" : 3},\n",
    "                       \"LotShape\" : {\"IR3\" : 1, \"IR2\" : 2, \"IR1\" : 3, \"Reg\" : 4},\n",
    "                       \"PavedDrive\" : {\"N\" : 0, \"P\" : 1, \"Y\" : 2},\n",
    "                       \"PoolQC\" : {\"No\" : 0, \"Fa\" : 1, \"Gd\" : 3, \"Ex\" : 4},\n",
    "                       \"Street\" : {\"Grvl\" : 1, \"Pave\" : 2},\n",
    "                       \"Utilities\" : {\"NoSeWa\" : 2, \"AllPub\" : 4},\n",
    "                       \"LandContour\" : {\"Low\" : 0, \"HLS\" : 1, \"Bnk\" : 2, \"Lvl\" : 3},\n",
    "                       \"CentralAir\"  : {\"N\": 0, \"Y\" : 1},\n",
    "                       \"GarageFinish\" : {\"No\" : 0, \"Unf\": 1, \"RFn\" : 2, \"Fin\":3},\n",
    "                       \"Fence\" : {\"No\":0, \"MnWw\":1,\"GdWo\":2,\"MnPrv\":3,\"GdPrv\":4}}\n",
    "                     )"
   ]
  },
  {
   "cell_type": "code",
   "execution_count": 56,
   "id": "29f9c4b5",
   "metadata": {},
   "outputs": [
    {
     "data": {
      "text/plain": [
       "(1460, 59)"
      ]
     },
     "execution_count": 56,
     "metadata": {},
     "output_type": "execute_result"
    }
   ],
   "source": [
    "data._get_numeric_data().shape"
   ]
  },
  {
   "cell_type": "code",
   "execution_count": 57,
   "id": "ed15c2c0",
   "metadata": {},
   "outputs": [
    {
     "data": {
      "text/plain": [
       "{'1stFlrSF',\n",
       " '2ndFlrSF',\n",
       " '3SsnPorch',\n",
       " 'Alley',\n",
       " 'BedroomAbvGr',\n",
       " 'BsmtCond',\n",
       " 'BsmtExposure',\n",
       " 'BsmtFinSF1',\n",
       " 'BsmtFinSF2',\n",
       " 'BsmtFinType1',\n",
       " 'BsmtFinType2',\n",
       " 'BsmtFullBath',\n",
       " 'BsmtHalfBath',\n",
       " 'BsmtQual',\n",
       " 'BsmtUnfSF',\n",
       " 'CentralAir',\n",
       " 'EnclosedPorch',\n",
       " 'ExterCond',\n",
       " 'ExterQual',\n",
       " 'Fence',\n",
       " 'FireplaceQu',\n",
       " 'Fireplaces',\n",
       " 'FullBath',\n",
       " 'Functional',\n",
       " 'GarageArea',\n",
       " 'GarageCars',\n",
       " 'GarageCond',\n",
       " 'GarageFinish',\n",
       " 'GarageQual',\n",
       " 'GarageYrBlt',\n",
       " 'GrLivArea',\n",
       " 'HalfBath',\n",
       " 'HeatingQC',\n",
       " 'KitchenAbvGr',\n",
       " 'KitchenQual',\n",
       " 'LandContour',\n",
       " 'LandSlope',\n",
       " 'LotArea',\n",
       " 'LotFrontage',\n",
       " 'LotShape',\n",
       " 'LowQualFinSF',\n",
       " 'MasVnrArea',\n",
       " 'MiscVal',\n",
       " 'OpenPorchSF',\n",
       " 'OverallCond',\n",
       " 'OverallQual',\n",
       " 'PavedDrive',\n",
       " 'PoolArea',\n",
       " 'PoolQC',\n",
       " 'SalePrice',\n",
       " 'ScreenPorch',\n",
       " 'Street',\n",
       " 'TotRmsAbvGrd',\n",
       " 'TotalBsmtSF',\n",
       " 'Utilities',\n",
       " 'WoodDeckSF',\n",
       " 'YearBuilt',\n",
       " 'YearRemodAdd',\n",
       " 'YrSold'}"
      ]
     },
     "execution_count": 57,
     "metadata": {},
     "output_type": "execute_result"
    }
   ],
   "source": [
    "set(data._get_numeric_data())"
   ]
  },
  {
   "cell_type": "markdown",
   "id": "e8274bb6",
   "metadata": {},
   "source": [
    "# Data Correlation"
   ]
  },
  {
   "cell_type": "code",
   "execution_count": 58,
   "id": "c7dab4fb",
   "metadata": {},
   "outputs": [],
   "source": [
    "#most important features relative to target\"\n",
    "corr = data.corr()\n",
    "corr.sort_values([\"SalePrice\"], ascending = False, inplace = True)"
   ]
  },
  {
   "cell_type": "code",
   "execution_count": 59,
   "id": "bc8e39be",
   "metadata": {},
   "outputs": [
    {
     "data": {
      "image/png": "[encoded data removed]",
      "text/plain": [
       "<Figure size 1080x1440 with 1 Axes>"
      ]
     },
     "metadata": {},
     "output_type": "display_data"
    }
   ],
   "source": [
    "plt.figure(figsize = (15,20))\n",
    "data.corr()['SalePrice'].sort_values(ascending=True).plot(kind='barh')\n",
    "plt.show()"
   ]
  },
  {
   "cell_type": "code",
   "execution_count": 60,
   "id": "3977ca67",
   "metadata": {},
   "outputs": [
    {
     "data": {
      "text/plain": [
       "SalePrice       1.000000\n",
       "OverallQual     0.790982\n",
       "GrLivArea       0.708624\n",
       "ExterQual       0.682639\n",
       "KitchenQual     0.659600\n",
       "GarageCars      0.640409\n",
       "GarageArea      0.623431\n",
       "TotalBsmtSF     0.613581\n",
       "1stFlrSF        0.605852\n",
       "BsmtQual        0.585207\n",
       "FullBath        0.560664\n",
       "GarageFinish    0.549247\n",
       "TotRmsAbvGrd    0.533723\n",
       "YearBuilt       0.522897\n",
       "FireplaceQu     0.520438\n",
       "YearRemodAdd    0.507101\n",
       "GarageYrBlt     0.486362\n",
       "MasVnrArea      0.472614\n",
       "Fireplaces      0.466929\n",
       "HeatingQC       0.427649\n",
       "BsmtFinSF1      0.386420\n",
       "Name: SalePrice, dtype: float64"
      ]
     },
     "execution_count": 60,
     "metadata": {},
     "output_type": "execute_result"
    }
   ],
   "source": [
    "#first 20 correlations\n",
    "corr['SalePrice'][0:21]"
   ]
  },
  {
   "cell_type": "code",
   "execution_count": 61,
   "id": "2bb32021",
   "metadata": {},
   "outputs": [],
   "source": [
    "#There are several ways to reduce dimensionality (reduce the number of features/columns). \n",
    "# One way is to extract the top 20 correlated features in the dataset."
   ]
  },
  {
   "cell_type": "code",
   "execution_count": 62,
   "id": "22f15f47",
   "metadata": {},
   "outputs": [],
   "source": [
    "data.drop(['GarageYrBlt'],axis=1,inplace=True)\n",
    "#becauseGarageYrBlt contain 81 null values"
   ]
  },
  {
   "cell_type": "code",
   "execution_count": 63,
   "id": "53dd382b",
   "metadata": {},
   "outputs": [
    {
     "data": {
      "text/plain": [
       "SalePrice       1.000000\n",
       "OverallQual     0.790982\n",
       "GrLivArea       0.708624\n",
       "ExterQual       0.682639\n",
       "KitchenQual     0.659600\n",
       "GarageCars      0.640409\n",
       "GarageArea      0.623431\n",
       "TotalBsmtSF     0.613581\n",
       "1stFlrSF        0.605852\n",
       "BsmtQual        0.585207\n",
       "FullBath        0.560664\n",
       "GarageFinish    0.549247\n",
       "TotRmsAbvGrd    0.533723\n",
       "YearBuilt       0.522897\n",
       "FireplaceQu     0.520438\n",
       "YearRemodAdd    0.507101\n",
       "MasVnrArea      0.472614\n",
       "Fireplaces      0.466929\n",
       "HeatingQC       0.427649\n",
       "BsmtFinSF1      0.386420\n",
       "BsmtExposure    0.361863\n",
       "Name: SalePrice, dtype: float64"
      ]
     },
     "execution_count": 63,
     "metadata": {},
     "output_type": "execute_result"
    }
   ],
   "source": [
    "#after deleting GarageYrBlt again checking top 20 correlated Values\n",
    "corr = data.corr()\n",
    "corr.sort_values([\"SalePrice\"], ascending = False, inplace = True)\n",
    "corr['SalePrice'][0:21]"
   ]
  },
  {
   "cell_type": "code",
   "execution_count": 64,
   "id": "842b54fb",
   "metadata": {},
   "outputs": [],
   "source": [
    "top_20_target = data.corr()['SalePrice'].sort_values(ascending = False).keys()[0:21]"
   ]
  },
  {
   "cell_type": "code",
   "execution_count": 65,
   "id": "0b740ceb",
   "metadata": {},
   "outputs": [
    {
     "data": {
      "text/plain": [
       "Index(['SalePrice', 'OverallQual', 'GrLivArea', 'ExterQual', 'KitchenQual',\n",
       "       'GarageCars', 'GarageArea', 'TotalBsmtSF', '1stFlrSF', 'BsmtQual',\n",
       "       'FullBath', 'GarageFinish', 'TotRmsAbvGrd', 'YearBuilt', 'FireplaceQu',\n",
       "       'YearRemodAdd', 'MasVnrArea', 'Fireplaces', 'HeatingQC', 'BsmtFinSF1',\n",
       "       'BsmtExposure'],\n",
       "      dtype='object')"
      ]
     },
     "execution_count": 65,
     "metadata": {},
     "output_type": "execute_result"
    }
   ],
   "source": [
    "top_20_target"
   ]
  },
  {
   "cell_type": "code",
   "execution_count": 66,
   "id": "f564db28",
   "metadata": {},
   "outputs": [],
   "source": [
    "#creating dataframe with only top 20 features\n",
    "top_20_df = data.loc[:, top_20_target].copy()"
   ]
  },
  {
   "cell_type": "code",
   "execution_count": 67,
   "id": "91aad367",
   "metadata": {},
   "outputs": [
    {
     "data": {
      "text/html": [
       "<div>\n",
       "<style scoped>\n",
       "    .dataframe tbody tr th:only-of-type {\n",
       "        vertical-align: middle;\n",
       "    }\n",
       "\n",
       "    .dataframe tbody tr th {\n",
       "        vertical-align: top;\n",
       "    }\n",
       "\n",
       "    .dataframe thead th {\n",
       "        text-align: right;\n",
       "    }\n",
       "</style>\n",
       "<table border=\"1\" class=\"dataframe\">\n",
       "  <thead>\n",
       "    <tr style=\"text-align: right;\">\n",
       "      <th></th>\n",
       "      <th>SalePrice</th>\n",
       "      <th>OverallQual</th>\n",
       "      <th>GrLivArea</th>\n",
       "      <th>ExterQual</th>\n",
       "      <th>KitchenQual</th>\n",
       "      <th>GarageCars</th>\n",
       "      <th>GarageArea</th>\n",
       "      <th>TotalBsmtSF</th>\n",
       "      <th>1stFlrSF</th>\n",
       "      <th>BsmtQual</th>\n",
       "      <th>FullBath</th>\n",
       "      <th>GarageFinish</th>\n",
       "      <th>TotRmsAbvGrd</th>\n",
       "      <th>YearBuilt</th>\n",
       "      <th>FireplaceQu</th>\n",
       "      <th>YearRemodAdd</th>\n",
       "      <th>MasVnrArea</th>\n",
       "      <th>Fireplaces</th>\n",
       "      <th>HeatingQC</th>\n",
       "      <th>BsmtFinSF1</th>\n",
       "      <th>BsmtExposure</th>\n",
       "    </tr>\n",
       "  </thead>\n",
       "  <tbody>\n",
       "    <tr>\n",
       "      <th>0</th>\n",
       "      <td>208500</td>\n",
       "      <td>7</td>\n",
       "      <td>1710</td>\n",
       "      <td>4</td>\n",
       "      <td>4</td>\n",
       "      <td>2</td>\n",
       "      <td>548</td>\n",
       "      <td>856</td>\n",
       "      <td>856</td>\n",
       "      <td>4</td>\n",
       "      <td>2</td>\n",
       "      <td>2</td>\n",
       "      <td>8</td>\n",
       "      <td>2003</td>\n",
       "      <td>0</td>\n",
       "      <td>2003</td>\n",
       "      <td>196.0</td>\n",
       "      <td>0</td>\n",
       "      <td>5</td>\n",
       "      <td>706</td>\n",
       "      <td>0</td>\n",
       "    </tr>\n",
       "    <tr>\n",
       "      <th>1</th>\n",
       "      <td>181500</td>\n",
       "      <td>6</td>\n",
       "      <td>1262</td>\n",
       "      <td>3</td>\n",
       "      <td>3</td>\n",
       "      <td>2</td>\n",
       "      <td>460</td>\n",
       "      <td>1262</td>\n",
       "      <td>1262</td>\n",
       "      <td>4</td>\n",
       "      <td>2</td>\n",
       "      <td>2</td>\n",
       "      <td>6</td>\n",
       "      <td>1976</td>\n",
       "      <td>3</td>\n",
       "      <td>1976</td>\n",
       "      <td>0.0</td>\n",
       "      <td>1</td>\n",
       "      <td>5</td>\n",
       "      <td>978</td>\n",
       "      <td>3</td>\n",
       "    </tr>\n",
       "    <tr>\n",
       "      <th>2</th>\n",
       "      <td>223500</td>\n",
       "      <td>7</td>\n",
       "      <td>1786</td>\n",
       "      <td>4</td>\n",
       "      <td>4</td>\n",
       "      <td>2</td>\n",
       "      <td>608</td>\n",
       "      <td>920</td>\n",
       "      <td>920</td>\n",
       "      <td>4</td>\n",
       "      <td>2</td>\n",
       "      <td>2</td>\n",
       "      <td>6</td>\n",
       "      <td>2001</td>\n",
       "      <td>3</td>\n",
       "      <td>2002</td>\n",
       "      <td>162.0</td>\n",
       "      <td>1</td>\n",
       "      <td>5</td>\n",
       "      <td>486</td>\n",
       "      <td>1</td>\n",
       "    </tr>\n",
       "    <tr>\n",
       "      <th>3</th>\n",
       "      <td>140000</td>\n",
       "      <td>7</td>\n",
       "      <td>1717</td>\n",
       "      <td>3</td>\n",
       "      <td>4</td>\n",
       "      <td>3</td>\n",
       "      <td>642</td>\n",
       "      <td>756</td>\n",
       "      <td>961</td>\n",
       "      <td>3</td>\n",
       "      <td>1</td>\n",
       "      <td>1</td>\n",
       "      <td>7</td>\n",
       "      <td>1915</td>\n",
       "      <td>4</td>\n",
       "      <td>1970</td>\n",
       "      <td>0.0</td>\n",
       "      <td>1</td>\n",
       "      <td>4</td>\n",
       "      <td>216</td>\n",
       "      <td>0</td>\n",
       "    </tr>\n",
       "    <tr>\n",
       "      <th>4</th>\n",
       "      <td>250000</td>\n",
       "      <td>8</td>\n",
       "      <td>2198</td>\n",
       "      <td>4</td>\n",
       "      <td>4</td>\n",
       "      <td>3</td>\n",
       "      <td>836</td>\n",
       "      <td>1145</td>\n",
       "      <td>1145</td>\n",
       "      <td>4</td>\n",
       "      <td>2</td>\n",
       "      <td>2</td>\n",
       "      <td>9</td>\n",
       "      <td>2000</td>\n",
       "      <td>3</td>\n",
       "      <td>2000</td>\n",
       "      <td>350.0</td>\n",
       "      <td>1</td>\n",
       "      <td>5</td>\n",
       "      <td>655</td>\n",
       "      <td>2</td>\n",
       "    </tr>\n",
       "  </tbody>\n",
       "</table>\n",
       "</div>"
      ],
      "text/plain": [
       "   SalePrice  OverallQual  GrLivArea  ExterQual  KitchenQual  GarageCars  \\\n",
       "0     208500            7       1710          4            4           2   \n",
       "1     181500            6       1262          3            3           2   \n",
       "2     223500            7       1786          4            4           2   \n",
       "3     140000            7       1717          3            4           3   \n",
       "4     250000            8       2198          4            4           3   \n",
       "\n",
       "   GarageArea  TotalBsmtSF  1stFlrSF  BsmtQual  FullBath  GarageFinish  \\\n",
       "0         548          856       856         4         2             2   \n",
       "1         460         1262      1262         4         2             2   \n",
       "2         608          920       920         4         2             2   \n",
       "3         642          756       961         3         1             1   \n",
       "4         836         1145      1145         4         2             2   \n",
       "\n",
       "   TotRmsAbvGrd  YearBuilt  FireplaceQu  YearRemodAdd  MasVnrArea  Fireplaces  \\\n",
       "0             8       2003            0          2003       196.0           0   \n",
       "1             6       1976            3          1976         0.0           1   \n",
       "2             6       2001            3          2002       162.0           1   \n",
       "3             7       1915            4          1970         0.0           1   \n",
       "4             9       2000            3          2000       350.0           1   \n",
       "\n",
       "   HeatingQC  BsmtFinSF1  BsmtExposure  \n",
       "0          5         706             0  \n",
       "1          5         978             3  \n",
       "2          5         486             1  \n",
       "3          4         216             0  \n",
       "4          5         655             2  "
      ]
     },
     "execution_count": 67,
     "metadata": {},
     "output_type": "execute_result"
    }
   ],
   "source": [
    "top_20_df.head()"
   ]
  },
  {
   "cell_type": "code",
   "execution_count": 68,
   "id": "8d8cc15d",
   "metadata": {},
   "outputs": [
    {
     "data": {
      "image/png": "[encoded data removed]",
      "text/plain": [
       "<Figure size 432x288 with 1 Axes>"
      ]
     },
     "metadata": {},
     "output_type": "display_data"
    }
   ],
   "source": [
    "top_20_df['SalePrice'].hist(bins=40)\n",
    "plt.show()"
   ]
  },
  {
   "cell_type": "code",
   "execution_count": 69,
   "id": "58626cae",
   "metadata": {},
   "outputs": [
    {
     "data": {
      "image/png": "[encoded data removed]",
      "text/plain": [
       "<Figure size 432x288 with 1 Axes>"
      ]
     },
     "metadata": {},
     "output_type": "display_data"
    }
   ],
   "source": [
    "#plot with the most correlated value= OverallQual\n",
    "# OverallQual: Overall material and finish quality\n",
    "sns.regplot(data=top_20_df, x='OverallQual', y='SalePrice',scatter_kws={\"color\": \"black\"}, line_kws={\"color\": \"red\"})\n",
    "plt.show()"
   ]
  },
  {
   "cell_type": "code",
   "execution_count": 70,
   "id": "df622a49",
   "metadata": {},
   "outputs": [
    {
     "data": {
      "image/png": "[encoded data removed]",
      "text/plain": [
       "<Figure size 432x288 with 1 Axes>"
      ]
     },
     "metadata": {},
     "output_type": "display_data"
    }
   ],
   "source": [
    "#plot with the 2nd most correlated value= GrLivArea\n",
    "# GrLivArea: Above grade (ground) living area square feet\n",
    "sns.regplot(data=top_20_df, x='GrLivArea', y='SalePrice',scatter_kws={\"color\": \"black\"}, line_kws={\"color\": \"red\"})\n",
    "plt.show()"
   ]
  },
  {
   "cell_type": "code",
   "execution_count": 71,
   "id": "58b2312b",
   "metadata": {},
   "outputs": [
    {
     "data": {
      "image/png": "[encoded data removed]",
      "text/plain": [
       "<Figure size 432x288 with 1 Axes>"
      ]
     },
     "metadata": {},
     "output_type": "display_data"
    }
   ],
   "source": [
    "#plot with the 3rd most correlated value= ExterQual\n",
    "# ExterQual: Exterior material quality\n",
    "sns.regplot(data=top_20_df, x='ExterQual', y='SalePrice',scatter_kws={\"color\": \"black\"}, line_kws={\"color\": \"red\"})\n",
    "plt.show()"
   ]
  },
  {
   "cell_type": "code",
   "execution_count": 72,
   "id": "adb8461d",
   "metadata": {},
   "outputs": [
    {
     "data": {
      "image/png": "[encoded data removed]",
      "text/plain": [
       "<Figure size 432x288 with 1 Axes>"
      ]
     },
     "metadata": {},
     "output_type": "display_data"
    }
   ],
   "source": [
    "#plot with the 4th most correlated value= KitchenQual\n",
    "# KitchenQual: Kitchen quality\n",
    "sns.regplot(data=top_20_df, x='KitchenQual', y='SalePrice',scatter_kws={\"color\": \"black\"}, line_kws={\"color\": \"red\"})\n",
    "plt.show()"
   ]
  },
  {
   "cell_type": "code",
   "execution_count": 73,
   "id": "44f523ad",
   "metadata": {},
   "outputs": [
    {
     "data": {
      "image/png": "[encoded data removed]",
      "text/plain": [
       "<Figure size 432x288 with 1 Axes>"
      ]
     },
     "metadata": {},
     "output_type": "display_data"
    }
   ],
   "source": [
    "#plot with the 5th most correlated value= GarageCars\n",
    "#GarageCars: Size of garage in car capacity\n",
    "\n",
    "sns.regplot(data=top_20_df, x='GarageCars', y='SalePrice',scatter_kws={\"color\": \"black\"}, line_kws={\"color\": \"red\"})\n",
    "plt.show()"
   ]
  },
  {
   "cell_type": "code",
   "execution_count": 74,
   "id": "bdc43c5a",
   "metadata": {},
   "outputs": [
    {
     "data": {
      "image/png": "[encoded data removed]",
      "text/plain": [
       "<Figure size 432x288 with 1 Axes>"
      ]
     },
     "metadata": {},
     "output_type": "display_data"
    }
   ],
   "source": [
    "#plot with the 6th most correlated value= GarageArea\n",
    "#Size of garage in square feet\n",
    "sns.regplot(data=top_20_df, x='GarageArea', y='SalePrice',scatter_kws={\"color\": \"black\"}, line_kws={\"color\": \"red\"})\n",
    "plt.show()"
   ]
  },
  {
   "cell_type": "code",
   "execution_count": 75,
   "id": "5458435b",
   "metadata": {},
   "outputs": [
    {
     "data": {
      "image/png": "[encoded data removed]",
      "text/plain": [
       "<Figure size 432x288 with 1 Axes>"
      ]
     },
     "metadata": {},
     "output_type": "display_data"
    }
   ],
   "source": [
    "#plot with the 7th most correlated value= TotalBsmtSF\n",
    "#TotalBsmtSF: Total square feet of basement area\n",
    "sns.regplot(data=top_20_df, x='TotalBsmtSF', y='SalePrice',scatter_kws={\"color\": \"black\"}, line_kws={\"color\": \"red\"})\n",
    "plt.show()"
   ]
  },
  {
   "cell_type": "code",
   "execution_count": 76,
   "id": "9c389132",
   "metadata": {},
   "outputs": [
    {
     "data": {
      "image/png": "[encoded data removed]",
      "text/plain": [
       "<Figure size 432x288 with 1 Axes>"
      ]
     },
     "metadata": {},
     "output_type": "display_data"
    }
   ],
   "source": [
    "#plot with the 8th most correlated value= 1stFlrSF\n",
    "#1stFlrSF: First Floor square feet\n",
    "sns.regplot(data=top_20_df, x='1stFlrSF', y='SalePrice',scatter_kws={\"color\": \"black\"}, line_kws={\"color\": \"red\"})\n",
    "plt.show()"
   ]
  },
  {
   "cell_type": "code",
   "execution_count": 77,
   "id": "2abc13f0",
   "metadata": {},
   "outputs": [
    {
     "data": {
      "image/png": "[encoded data removed]",
      "text/plain": [
       "<Figure size 432x288 with 1 Axes>"
      ]
     },
     "metadata": {},
     "output_type": "display_data"
    }
   ],
   "source": [
    "#plot with the 9th most correlated value= BsmtQual\n",
    "#BsmtQual: Height of the basement\n",
    "sns.regplot(data=top_20_df, x='BsmtQual', y='SalePrice',scatter_kws={\"color\": \"black\"}, line_kws={\"color\": \"red\"})\n",
    "plt.show()"
   ]
  },
  {
   "cell_type": "code",
   "execution_count": 78,
   "id": "0ebbf65a",
   "metadata": {},
   "outputs": [
    {
     "data": {
      "image/png": "[encoded data removed]",
      "text/plain": [
       "<Figure size 432x288 with 1 Axes>"
      ]
     },
     "metadata": {},
     "output_type": "display_data"
    }
   ],
   "source": [
    "#plot with the 10th most correlated value= FullBath\n",
    "#FullBath: Full bathrooms above grade\n",
    "sns.regplot(data=top_20_df, x='FullBath', y='SalePrice',scatter_kws={\"color\": \"black\"}, line_kws={\"color\": \"red\"})\n",
    "plt.show()"
   ]
  },
  {
   "cell_type": "code",
   "execution_count": 79,
   "id": "8cd5e2d1",
   "metadata": {},
   "outputs": [
    {
     "data": {
      "image/png": "[encoded data removed]",
      "text/plain": [
       "<Figure size 432x288 with 1 Axes>"
      ]
     },
     "metadata": {},
     "output_type": "display_data"
    }
   ],
   "source": [
    "#plot with the 11th most correlated value= GarageFinish\n",
    "#FullBath: Interior finish of the garage\n",
    "sns.regplot(data=top_20_df, x='GarageFinish', y='SalePrice',scatter_kws={\"color\": \"black\"}, line_kws={\"color\": \"red\"})\n",
    "plt.show()"
   ]
  },
  {
   "cell_type": "code",
   "execution_count": 80,
   "id": "76528cd0",
   "metadata": {},
   "outputs": [
    {
     "data": {
      "image/png": "[encoded data removed]",
      "text/plain": [
       "<Figure size 432x288 with 1 Axes>"
      ]
     },
     "metadata": {},
     "output_type": "display_data"
    }
   ],
   "source": [
    "#plot with the 12th most correlated value= TotRmsAbvGrd\n",
    "#TotRmsAbvGrd: Total rooms above grade (does not include bathrooms)\n",
    "sns.regplot(data=top_20_df, x='TotRmsAbvGrd', y='SalePrice',scatter_kws={\"color\": \"black\"}, line_kws={\"color\": \"red\"})\n",
    "plt.show()"
   ]
  },
  {
   "cell_type": "code",
   "execution_count": 81,
   "id": "d60fad01",
   "metadata": {},
   "outputs": [
    {
     "data": {
      "image/png": "[encoded data removed]",
      "text/plain": [
       "<Figure size 432x288 with 1 Axes>"
      ]
     },
     "metadata": {},
     "output_type": "display_data"
    }
   ],
   "source": [
    "#plot with the 13th most correlated value= YearBuilt (one of the important feature)\n",
    "#YearBuilt: Original construction date\n",
    "sns.regplot(data=top_20_df, x='YearBuilt', y='SalePrice',scatter_kws={\"color\": \"black\"}, line_kws={\"color\": \"red\"})\n",
    "plt.show()"
   ]
  },
  {
   "cell_type": "code",
   "execution_count": 82,
   "id": "6b132078",
   "metadata": {},
   "outputs": [
    {
     "data": {
      "image/png": "[encoded data removed]",
      "text/plain": [
       "<Figure size 432x288 with 1 Axes>"
      ]
     },
     "metadata": {},
     "output_type": "display_data"
    }
   ],
   "source": [
    "#with reference to year built, we plot year sold which actually shows negative correlation\n",
    "sns.regplot(data=data, x='YrSold', y='SalePrice',scatter_kws={\"color\": \"black\"}, line_kws={\"color\": \"red\"})\n",
    "plt.show()\n",
    "#(it has no effect so straight line means constant)"
   ]
  },
  {
   "cell_type": "code",
   "execution_count": 83,
   "id": "f7f9f476",
   "metadata": {},
   "outputs": [
    {
     "data": {
      "image/png": "[encoded data removed]",
      "text/plain": [
       "<Figure size 432x288 with 1 Axes>"
      ]
     },
     "metadata": {},
     "output_type": "display_data"
    }
   ],
   "source": [
    "#plot with the 14th most correlated value= FireplaceQu\n",
    "#FireplaceQu: Fireplace quality\n",
    "sns.regplot(data=top_20_df, x='FireplaceQu', y='SalePrice',scatter_kws={\"color\": \"black\"}, line_kws={\"color\": \"red\"})\n",
    "plt.show()"
   ]
  },
  {
   "cell_type": "code",
   "execution_count": 84,
   "id": "5f362761",
   "metadata": {},
   "outputs": [
    {
     "data": {
      "image/png": "[encoded data removed]",
      "text/plain": [
       "<Figure size 432x288 with 1 Axes>"
      ]
     },
     "metadata": {},
     "output_type": "display_data"
    }
   ],
   "source": [
    "#plot with the 15th most correlated value= YearRemodAdd\n",
    "#YearRemodAdd: Remodel date\n",
    "sns.regplot(data=top_20_df, x='YearRemodAdd', y='SalePrice',scatter_kws={\"color\": \"black\"}, line_kws={\"color\": \"red\"})\n",
    "plt.show()"
   ]
  },
  {
   "cell_type": "code",
   "execution_count": 85,
   "id": "79ad7a33",
   "metadata": {},
   "outputs": [
    {
     "data": {
      "image/png": "[encoded data removed]",
      "text/plain": [
       "<Figure size 432x288 with 1 Axes>"
      ]
     },
     "metadata": {},
     "output_type": "display_data"
    }
   ],
   "source": [
    "#plot with the 16th most correlated value= MasVnrArea\n",
    "#MasVnrArea: Masonry veneer area in square feet\n",
    "sns.regplot(data=top_20_df, x='MasVnrArea', y='SalePrice',scatter_kws={\"color\": \"black\"}, line_kws={\"color\": \"red\"})\n",
    "plt.show()"
   ]
  },
  {
   "cell_type": "code",
   "execution_count": 86,
   "id": "b0ed73d3",
   "metadata": {},
   "outputs": [
    {
     "data": {
      "image/png": "[encoded data removed]",
      "text/plain": [
       "<Figure size 432x288 with 1 Axes>"
      ]
     },
     "metadata": {},
     "output_type": "display_data"
    }
   ],
   "source": [
    "#plot with the 17th most correlated value= Fireplaces\n",
    "#Fireplaces: Number of fireplaces\n",
    "sns.regplot(data=top_20_df, x='Fireplaces', y='SalePrice',scatter_kws={\"color\": \"black\"}, line_kws={\"color\": \"red\"})\n",
    "plt.show()"
   ]
  },
  {
   "cell_type": "code",
   "execution_count": 87,
   "id": "be4f999b",
   "metadata": {},
   "outputs": [
    {
     "data": {
      "image/png": "[encoded data removed]",
      "text/plain": [
       "<Figure size 432x288 with 1 Axes>"
      ]
     },
     "metadata": {},
     "output_type": "display_data"
    }
   ],
   "source": [
    "#plot with the 18th most correlated value= HeatingQC\n",
    "#HeatingQC: Heating quality and condition\n",
    "sns.regplot(data=top_20_df, x='HeatingQC', y='SalePrice',scatter_kws={\"color\": \"black\"}, line_kws={\"color\": \"red\"})\n",
    "plt.show()"
   ]
  },
  {
   "cell_type": "code",
   "execution_count": 88,
   "id": "244e81cf",
   "metadata": {},
   "outputs": [
    {
     "data": {
      "image/png": "[encoded data removed]",
      "text/plain": [
       "<Figure size 432x288 with 1 Axes>"
      ]
     },
     "metadata": {},
     "output_type": "display_data"
    }
   ],
   "source": [
    "#plot with the 19th most correlated value= BsmtFinSF1\n",
    "#BsmtFinSF1: Type 1 finished square feet\n",
    "sns.regplot(data=top_20_df, x='BsmtFinSF1', y='SalePrice',scatter_kws={\"color\": \"black\"}, line_kws={\"color\": \"red\"})\n",
    "plt.show()"
   ]
  },
  {
   "cell_type": "code",
   "execution_count": 89,
   "id": "c0bb1aa5",
   "metadata": {},
   "outputs": [
    {
     "data": {
      "image/png": "[encoded data removed]",
      "text/plain": [
       "<Figure size 432x288 with 1 Axes>"
      ]
     },
     "metadata": {},
     "output_type": "display_data"
    }
   ],
   "source": [
    "#plot with the 20th most correlated value= BsmtExposure\n",
    "#BsmtExposure: Walkout or garden level basement walls\n",
    "sns.regplot(data=top_20_df, x='BsmtExposure', y='SalePrice',scatter_kws={\"color\": \"black\"}, line_kws={\"color\": \"red\"})\n",
    "plt.show()"
   ]
  },
  {
   "cell_type": "code",
   "execution_count": 90,
   "id": "0d0d4413",
   "metadata": {},
   "outputs": [
    {
     "data": {
      "text/plain": [
       "(1460, 21)"
      ]
     },
     "execution_count": 90,
     "metadata": {},
     "output_type": "execute_result"
    }
   ],
   "source": [
    "top_20_df.shape"
   ]
  },
  {
   "cell_type": "code",
   "execution_count": 91,
   "id": "3857972c",
   "metadata": {},
   "outputs": [
    {
     "data": {
      "text/html": [
       "<div>\n",
       "<style scoped>\n",
       "    .dataframe tbody tr th:only-of-type {\n",
       "        vertical-align: middle;\n",
       "    }\n",
       "\n",
       "    .dataframe tbody tr th {\n",
       "        vertical-align: top;\n",
       "    }\n",
       "\n",
       "    .dataframe thead th {\n",
       "        text-align: right;\n",
       "    }\n",
       "</style>\n",
       "<table border=\"1\" class=\"dataframe\">\n",
       "  <thead>\n",
       "    <tr style=\"text-align: right;\">\n",
       "      <th></th>\n",
       "      <th>SalePrice</th>\n",
       "      <th>OverallQual</th>\n",
       "      <th>GrLivArea</th>\n",
       "      <th>ExterQual</th>\n",
       "      <th>KitchenQual</th>\n",
       "      <th>GarageCars</th>\n",
       "      <th>GarageArea</th>\n",
       "      <th>TotalBsmtSF</th>\n",
       "      <th>1stFlrSF</th>\n",
       "      <th>BsmtQual</th>\n",
       "      <th>FullBath</th>\n",
       "      <th>GarageFinish</th>\n",
       "      <th>TotRmsAbvGrd</th>\n",
       "      <th>YearBuilt</th>\n",
       "      <th>FireplaceQu</th>\n",
       "      <th>YearRemodAdd</th>\n",
       "      <th>MasVnrArea</th>\n",
       "      <th>Fireplaces</th>\n",
       "      <th>HeatingQC</th>\n",
       "      <th>BsmtFinSF1</th>\n",
       "      <th>BsmtExposure</th>\n",
       "    </tr>\n",
       "  </thead>\n",
       "  <tbody>\n",
       "    <tr>\n",
       "      <th>count</th>\n",
       "      <td>1460.000000</td>\n",
       "      <td>1460.000000</td>\n",
       "      <td>1460.000000</td>\n",
       "      <td>1460.00000</td>\n",
       "      <td>1460.000000</td>\n",
       "      <td>1460.000000</td>\n",
       "      <td>1460.000000</td>\n",
       "      <td>1460.000000</td>\n",
       "      <td>1460.000000</td>\n",
       "      <td>1460.000000</td>\n",
       "      <td>1460.000000</td>\n",
       "      <td>1460.000000</td>\n",
       "      <td>1460.000000</td>\n",
       "      <td>1460.000000</td>\n",
       "      <td>1460.000000</td>\n",
       "      <td>1460.000000</td>\n",
       "      <td>1460.000000</td>\n",
       "      <td>1460.000000</td>\n",
       "      <td>1460.000000</td>\n",
       "      <td>1460.000000</td>\n",
       "      <td>1460.000000</td>\n",
       "    </tr>\n",
       "    <tr>\n",
       "      <th>mean</th>\n",
       "      <td>180921.195890</td>\n",
       "      <td>6.099315</td>\n",
       "      <td>1515.463699</td>\n",
       "      <td>3.39589</td>\n",
       "      <td>3.511644</td>\n",
       "      <td>1.767123</td>\n",
       "      <td>472.980137</td>\n",
       "      <td>1057.429452</td>\n",
       "      <td>1162.626712</td>\n",
       "      <td>3.489041</td>\n",
       "      <td>1.565068</td>\n",
       "      <td>1.715753</td>\n",
       "      <td>6.517808</td>\n",
       "      <td>1971.267808</td>\n",
       "      <td>1.825342</td>\n",
       "      <td>1984.865753</td>\n",
       "      <td>103.117123</td>\n",
       "      <td>0.613014</td>\n",
       "      <td>4.145205</td>\n",
       "      <td>443.639726</td>\n",
       "      <td>0.656164</td>\n",
       "    </tr>\n",
       "    <tr>\n",
       "      <th>std</th>\n",
       "      <td>79442.502883</td>\n",
       "      <td>1.382997</td>\n",
       "      <td>525.480383</td>\n",
       "      <td>0.57428</td>\n",
       "      <td>0.663760</td>\n",
       "      <td>0.747315</td>\n",
       "      <td>213.804841</td>\n",
       "      <td>438.705324</td>\n",
       "      <td>386.587738</td>\n",
       "      <td>0.876478</td>\n",
       "      <td>0.550916</td>\n",
       "      <td>0.892831</td>\n",
       "      <td>1.625393</td>\n",
       "      <td>30.202904</td>\n",
       "      <td>1.810877</td>\n",
       "      <td>20.645407</td>\n",
       "      <td>180.731373</td>\n",
       "      <td>0.644666</td>\n",
       "      <td>0.959501</td>\n",
       "      <td>456.098091</td>\n",
       "      <td>1.039123</td>\n",
       "    </tr>\n",
       "    <tr>\n",
       "      <th>min</th>\n",
       "      <td>34900.000000</td>\n",
       "      <td>1.000000</td>\n",
       "      <td>334.000000</td>\n",
       "      <td>2.00000</td>\n",
       "      <td>2.000000</td>\n",
       "      <td>0.000000</td>\n",
       "      <td>0.000000</td>\n",
       "      <td>0.000000</td>\n",
       "      <td>334.000000</td>\n",
       "      <td>0.000000</td>\n",
       "      <td>0.000000</td>\n",
       "      <td>0.000000</td>\n",
       "      <td>2.000000</td>\n",
       "      <td>1872.000000</td>\n",
       "      <td>0.000000</td>\n",
       "      <td>1950.000000</td>\n",
       "      <td>0.000000</td>\n",
       "      <td>0.000000</td>\n",
       "      <td>1.000000</td>\n",
       "      <td>0.000000</td>\n",
       "      <td>0.000000</td>\n",
       "    </tr>\n",
       "    <tr>\n",
       "      <th>25%</th>\n",
       "      <td>129975.000000</td>\n",
       "      <td>5.000000</td>\n",
       "      <td>1129.500000</td>\n",
       "      <td>3.00000</td>\n",
       "      <td>3.000000</td>\n",
       "      <td>1.000000</td>\n",
       "      <td>334.500000</td>\n",
       "      <td>795.750000</td>\n",
       "      <td>882.000000</td>\n",
       "      <td>3.000000</td>\n",
       "      <td>1.000000</td>\n",
       "      <td>1.000000</td>\n",
       "      <td>5.000000</td>\n",
       "      <td>1954.000000</td>\n",
       "      <td>0.000000</td>\n",
       "      <td>1967.000000</td>\n",
       "      <td>0.000000</td>\n",
       "      <td>0.000000</td>\n",
       "      <td>3.000000</td>\n",
       "      <td>0.000000</td>\n",
       "      <td>0.000000</td>\n",
       "    </tr>\n",
       "    <tr>\n",
       "      <th>50%</th>\n",
       "      <td>163000.000000</td>\n",
       "      <td>6.000000</td>\n",
       "      <td>1464.000000</td>\n",
       "      <td>3.00000</td>\n",
       "      <td>3.000000</td>\n",
       "      <td>2.000000</td>\n",
       "      <td>480.000000</td>\n",
       "      <td>991.500000</td>\n",
       "      <td>1087.000000</td>\n",
       "      <td>4.000000</td>\n",
       "      <td>2.000000</td>\n",
       "      <td>2.000000</td>\n",
       "      <td>6.000000</td>\n",
       "      <td>1973.000000</td>\n",
       "      <td>2.000000</td>\n",
       "      <td>1994.000000</td>\n",
       "      <td>0.000000</td>\n",
       "      <td>1.000000</td>\n",
       "      <td>5.000000</td>\n",
       "      <td>383.500000</td>\n",
       "      <td>0.000000</td>\n",
       "    </tr>\n",
       "    <tr>\n",
       "      <th>75%</th>\n",
       "      <td>214000.000000</td>\n",
       "      <td>7.000000</td>\n",
       "      <td>1776.750000</td>\n",
       "      <td>4.00000</td>\n",
       "      <td>4.000000</td>\n",
       "      <td>2.000000</td>\n",
       "      <td>576.000000</td>\n",
       "      <td>1298.250000</td>\n",
       "      <td>1391.250000</td>\n",
       "      <td>4.000000</td>\n",
       "      <td>2.000000</td>\n",
       "      <td>2.000000</td>\n",
       "      <td>7.000000</td>\n",
       "      <td>2000.000000</td>\n",
       "      <td>4.000000</td>\n",
       "      <td>2004.000000</td>\n",
       "      <td>164.250000</td>\n",
       "      <td>1.000000</td>\n",
       "      <td>5.000000</td>\n",
       "      <td>712.250000</td>\n",
       "      <td>1.000000</td>\n",
       "    </tr>\n",
       "    <tr>\n",
       "      <th>max</th>\n",
       "      <td>755000.000000</td>\n",
       "      <td>10.000000</td>\n",
       "      <td>5642.000000</td>\n",
       "      <td>5.00000</td>\n",
       "      <td>5.000000</td>\n",
       "      <td>4.000000</td>\n",
       "      <td>1418.000000</td>\n",
       "      <td>6110.000000</td>\n",
       "      <td>4692.000000</td>\n",
       "      <td>5.000000</td>\n",
       "      <td>3.000000</td>\n",
       "      <td>3.000000</td>\n",
       "      <td>14.000000</td>\n",
       "      <td>2010.000000</td>\n",
       "      <td>5.000000</td>\n",
       "      <td>2010.000000</td>\n",
       "      <td>1600.000000</td>\n",
       "      <td>3.000000</td>\n",
       "      <td>5.000000</td>\n",
       "      <td>5644.000000</td>\n",
       "      <td>3.000000</td>\n",
       "    </tr>\n",
       "  </tbody>\n",
       "</table>\n",
       "</div>"
      ],
      "text/plain": [
       "           SalePrice  OverallQual    GrLivArea   ExterQual  KitchenQual  \\\n",
       "count    1460.000000  1460.000000  1460.000000  1460.00000  1460.000000   \n",
       "mean   180921.195890     6.099315  1515.463699     3.39589     3.511644   \n",
       "std     79442.502883     1.382997   525.480383     0.57428     0.663760   \n",
       "min     34900.000000     1.000000   334.000000     2.00000     2.000000   \n",
       "25%    129975.000000     5.000000  1129.500000     3.00000     3.000000   \n",
       "50%    163000.000000     6.000000  1464.000000     3.00000     3.000000   \n",
       "75%    214000.000000     7.000000  1776.750000     4.00000     4.000000   \n",
       "max    755000.000000    10.000000  5642.000000     5.00000     5.000000   \n",
       "\n",
       "        GarageCars   GarageArea  TotalBsmtSF     1stFlrSF     BsmtQual  \\\n",
       "count  1460.000000  1460.000000  1460.000000  1460.000000  1460.000000   \n",
       "mean      1.767123   472.980137  1057.429452  1162.626712     3.489041   \n",
       "std       0.747315   213.804841   438.705324   386.587738     0.876478   \n",
       "min       0.000000     0.000000     0.000000   334.000000     0.000000   \n",
       "25%       1.000000   334.500000   795.750000   882.000000     3.000000   \n",
       "50%       2.000000   480.000000   991.500000  1087.000000     4.000000   \n",
       "75%       2.000000   576.000000  1298.250000  1391.250000     4.000000   \n",
       "max       4.000000  1418.000000  6110.000000  4692.000000     5.000000   \n",
       "\n",
       "          FullBath  GarageFinish  TotRmsAbvGrd    YearBuilt  FireplaceQu  \\\n",
       "count  1460.000000   1460.000000   1460.000000  1460.000000  1460.000000   \n",
       "mean      1.565068      1.715753      6.517808  1971.267808     1.825342   \n",
       "std       0.550916      0.892831      1.625393    30.202904     1.810877   \n",
       "min       0.000000      0.000000      2.000000  1872.000000     0.000000   \n",
       "25%       1.000000      1.000000      5.000000  1954.000000     0.000000   \n",
       "50%       2.000000      2.000000      6.000000  1973.000000     2.000000   \n",
       "75%       2.000000      2.000000      7.000000  2000.000000     4.000000   \n",
       "max       3.000000      3.000000     14.000000  2010.000000     5.000000   \n",
       "\n",
       "       YearRemodAdd   MasVnrArea   Fireplaces    HeatingQC   BsmtFinSF1  \\\n",
       "count   1460.000000  1460.000000  1460.000000  1460.000000  1460.000000   \n",
       "mean    1984.865753   103.117123     0.613014     4.145205   443.639726   \n",
       "std       20.645407   180.731373     0.644666     0.959501   456.098091   \n",
       "min     1950.000000     0.000000     0.000000     1.000000     0.000000   \n",
       "25%     1967.000000     0.000000     0.000000     3.000000     0.000000   \n",
       "50%     1994.000000     0.000000     1.000000     5.000000   383.500000   \n",
       "75%     2004.000000   164.250000     1.000000     5.000000   712.250000   \n",
       "max     2010.000000  1600.000000     3.000000     5.000000  5644.000000   \n",
       "\n",
       "       BsmtExposure  \n",
       "count   1460.000000  \n",
       "mean       0.656164  \n",
       "std        1.039123  \n",
       "min        0.000000  \n",
       "25%        0.000000  \n",
       "50%        0.000000  \n",
       "75%        1.000000  \n",
       "max        3.000000  "
      ]
     },
     "execution_count": 91,
     "metadata": {},
     "output_type": "execute_result"
    }
   ],
   "source": [
    "top_20_df.describe()"
   ]
  },
  {
   "cell_type": "code",
   "execution_count": 92,
   "id": "c5ca5581",
   "metadata": {},
   "outputs": [
    {
     "data": {
      "text/plain": [
       "SalePrice       0\n",
       "OverallQual     0\n",
       "GrLivArea       0\n",
       "ExterQual       0\n",
       "KitchenQual     0\n",
       "GarageCars      0\n",
       "GarageArea      0\n",
       "TotalBsmtSF     0\n",
       "1stFlrSF        0\n",
       "BsmtQual        0\n",
       "FullBath        0\n",
       "GarageFinish    0\n",
       "TotRmsAbvGrd    0\n",
       "YearBuilt       0\n",
       "FireplaceQu     0\n",
       "YearRemodAdd    0\n",
       "MasVnrArea      0\n",
       "Fireplaces      0\n",
       "HeatingQC       0\n",
       "BsmtFinSF1      0\n",
       "BsmtExposure    0\n",
       "dtype: int64"
      ]
     },
     "execution_count": 92,
     "metadata": {},
     "output_type": "execute_result"
    }
   ],
   "source": [
    "#again checking for existence of any null values\n",
    "top_20_df.isnull().sum()"
   ]
  },
  {
   "cell_type": "markdown",
   "id": "bf9f3db1",
   "metadata": {},
   "source": [
    "# Model Using Linear Regression Based On The Dataset after Correlation"
   ]
  },
  {
   "cell_type": "code",
   "execution_count": 93,
   "id": "1fbbd1af",
   "metadata": {},
   "outputs": [],
   "source": [
    "from sklearn.model_selection import train_test_split\n",
    "from sklearn.preprocessing import StandardScaler\n",
    "from sklearn.linear_model import LinearRegression\n",
    "from sklearn.metrics import mean_squared_error"
   ]
  },
  {
   "cell_type": "code",
   "execution_count": 94,
   "id": "6d49cec7",
   "metadata": {},
   "outputs": [],
   "source": [
    "X = top_20_df.drop('SalePrice', axis=1)\n",
    "y = top_20_df['SalePrice']\n",
    "X_train, X_test, y_train, y_test = train_test_split(X, y, test_size=0.3, random_state=42)"
   ]
  },
  {
   "cell_type": "code",
   "execution_count": 95,
   "id": "63421b6d",
   "metadata": {},
   "outputs": [
    {
     "data": {
      "text/plain": [
       "((1022, 20), (438, 20))"
      ]
     },
     "execution_count": 95,
     "metadata": {},
     "output_type": "execute_result"
    }
   ],
   "source": [
    "X_train.shape,X_test.shape"
   ]
  },
  {
   "cell_type": "code",
   "execution_count": 96,
   "id": "7c57f88b",
   "metadata": {},
   "outputs": [
    {
     "data": {
      "text/plain": [
       "((1022,), (438,))"
      ]
     },
     "execution_count": 96,
     "metadata": {},
     "output_type": "execute_result"
    }
   ],
   "source": [
    "y_train.shape,y_test.shape"
   ]
  },
  {
   "cell_type": "code",
   "execution_count": 97,
   "id": "72d8b5ec",
   "metadata": {},
   "outputs": [],
   "source": [
    "#scaling the training data\n",
    "scaler=StandardScaler()\n",
    "ss=scaler.fit(X_train)"
   ]
  },
  {
   "cell_type": "code",
   "execution_count": 98,
   "id": "c52c0d40",
   "metadata": {},
   "outputs": [
    {
     "data": {
      "text/html": [
       "<div>\n",
       "<style scoped>\n",
       "    .dataframe tbody tr th:only-of-type {\n",
       "        vertical-align: middle;\n",
       "    }\n",
       "\n",
       "    .dataframe tbody tr th {\n",
       "        vertical-align: top;\n",
       "    }\n",
       "\n",
       "    .dataframe thead tr th {\n",
       "        text-align: left;\n",
       "    }\n",
       "</style>\n",
       "<table border=\"1\" class=\"dataframe\">\n",
       "  <thead>\n",
       "    <tr>\n",
       "      <th></th>\n",
       "      <th>OverallQual</th>\n",
       "      <th>GrLivArea</th>\n",
       "      <th>ExterQual</th>\n",
       "      <th>KitchenQual</th>\n",
       "      <th>GarageCars</th>\n",
       "      <th>GarageArea</th>\n",
       "      <th>TotalBsmtSF</th>\n",
       "      <th>1stFlrSF</th>\n",
       "      <th>BsmtQual</th>\n",
       "      <th>FullBath</th>\n",
       "      <th>GarageFinish</th>\n",
       "      <th>TotRmsAbvGrd</th>\n",
       "      <th>YearBuilt</th>\n",
       "      <th>FireplaceQu</th>\n",
       "      <th>YearRemodAdd</th>\n",
       "      <th>MasVnrArea</th>\n",
       "      <th>Fireplaces</th>\n",
       "      <th>HeatingQC</th>\n",
       "      <th>BsmtFinSF1</th>\n",
       "      <th>BsmtExposure</th>\n",
       "    </tr>\n",
       "  </thead>\n",
       "  <tbody>\n",
       "    <tr>\n",
       "      <th>0</th>\n",
       "      <td>0.636031</td>\n",
       "      <td>0.287835</td>\n",
       "      <td>-0.685209</td>\n",
       "      <td>-0.763248</td>\n",
       "      <td>0.296063</td>\n",
       "      <td>0.253813</td>\n",
       "      <td>0.546130</td>\n",
       "      <td>1.315652</td>\n",
       "      <td>-0.555672</td>\n",
       "      <td>0.767840</td>\n",
       "      <td>-0.812874</td>\n",
       "      <td>0.279234</td>\n",
       "      <td>-0.032378</td>\n",
       "      <td>1.208878</td>\n",
       "      <td>-0.711644</td>\n",
       "      <td>1.061372</td>\n",
       "      <td>0.594240</td>\n",
       "      <td>-0.150315</td>\n",
       "      <td>-0.970484</td>\n",
       "      <td>-0.629759</td>\n",
       "    </tr>\n",
       "    <tr>\n",
       "      <th>1</th>\n",
       "      <td>-0.823057</td>\n",
       "      <td>-0.861565</td>\n",
       "      <td>-0.685209</td>\n",
       "      <td>-0.763248</td>\n",
       "      <td>0.296063</td>\n",
       "      <td>0.229814</td>\n",
       "      <td>-1.146608</td>\n",
       "      <td>-0.251022</td>\n",
       "      <td>0.577855</td>\n",
       "      <td>-1.069941</td>\n",
       "      <td>1.426363</td>\n",
       "      <td>-0.948194</td>\n",
       "      <td>1.106434</td>\n",
       "      <td>-1.000283</td>\n",
       "      <td>0.976164</td>\n",
       "      <td>-0.144680</td>\n",
       "      <td>-0.943262</td>\n",
       "      <td>-0.150315</td>\n",
       "      <td>0.219303</td>\n",
       "      <td>2.243517</td>\n",
       "    </tr>\n",
       "    <tr>\n",
       "      <th>2</th>\n",
       "      <td>0.636031</td>\n",
       "      <td>0.033459</td>\n",
       "      <td>-0.685209</td>\n",
       "      <td>0.751392</td>\n",
       "      <td>0.296063</td>\n",
       "      <td>0.656997</td>\n",
       "      <td>-0.679260</td>\n",
       "      <td>-1.042064</td>\n",
       "      <td>0.577855</td>\n",
       "      <td>0.767840</td>\n",
       "      <td>-0.812874</td>\n",
       "      <td>0.279234</td>\n",
       "      <td>1.236584</td>\n",
       "      <td>-1.000283</td>\n",
       "      <td>1.169056</td>\n",
       "      <td>-0.608547</td>\n",
       "      <td>-0.943262</td>\n",
       "      <td>0.887671</td>\n",
       "      <td>-0.918281</td>\n",
       "      <td>0.328000</td>\n",
       "    </tr>\n",
       "    <tr>\n",
       "      <th>3</th>\n",
       "      <td>2.095118</td>\n",
       "      <td>0.708025</td>\n",
       "      <td>2.816208</td>\n",
       "      <td>2.266031</td>\n",
       "      <td>1.665189</td>\n",
       "      <td>1.492165</td>\n",
       "      <td>1.890034</td>\n",
       "      <td>1.888387</td>\n",
       "      <td>1.711383</td>\n",
       "      <td>0.767840</td>\n",
       "      <td>1.426363</td>\n",
       "      <td>0.892948</td>\n",
       "      <td>1.138972</td>\n",
       "      <td>1.208878</td>\n",
       "      <td>1.024387</td>\n",
       "      <td>1.142549</td>\n",
       "      <td>0.594240</td>\n",
       "      <td>0.887671</td>\n",
       "      <td>-0.970484</td>\n",
       "      <td>-0.629759</td>\n",
       "    </tr>\n",
       "    <tr>\n",
       "      <th>4</th>\n",
       "      <td>0.636031</td>\n",
       "      <td>0.248265</td>\n",
       "      <td>1.065500</td>\n",
       "      <td>0.751392</td>\n",
       "      <td>0.296063</td>\n",
       "      <td>0.349809</td>\n",
       "      <td>-0.583107</td>\n",
       "      <td>-0.880260</td>\n",
       "      <td>0.577855</td>\n",
       "      <td>0.767840</td>\n",
       "      <td>0.306745</td>\n",
       "      <td>-0.334480</td>\n",
       "      <td>0.813597</td>\n",
       "      <td>0.656587</td>\n",
       "      <td>0.542156</td>\n",
       "      <td>-0.608547</td>\n",
       "      <td>0.594240</td>\n",
       "      <td>0.887671</td>\n",
       "      <td>-0.133065</td>\n",
       "      <td>1.285758</td>\n",
       "    </tr>\n",
       "    <tr>\n",
       "      <th>...</th>\n",
       "      <td>...</td>\n",
       "      <td>...</td>\n",
       "      <td>...</td>\n",
       "      <td>...</td>\n",
       "      <td>...</td>\n",
       "      <td>...</td>\n",
       "      <td>...</td>\n",
       "      <td>...</td>\n",
       "      <td>...</td>\n",
       "      <td>...</td>\n",
       "      <td>...</td>\n",
       "      <td>...</td>\n",
       "      <td>...</td>\n",
       "      <td>...</td>\n",
       "      <td>...</td>\n",
       "      <td>...</td>\n",
       "      <td>...</td>\n",
       "      <td>...</td>\n",
       "      <td>...</td>\n",
       "      <td>...</td>\n",
       "    </tr>\n",
       "    <tr>\n",
       "      <th>1017</th>\n",
       "      <td>-0.093513</td>\n",
       "      <td>-0.405573</td>\n",
       "      <td>1.065500</td>\n",
       "      <td>0.751392</td>\n",
       "      <td>0.296063</td>\n",
       "      <td>-0.178171</td>\n",
       "      <td>0.568491</td>\n",
       "      <td>0.370511</td>\n",
       "      <td>0.577855</td>\n",
       "      <td>0.767840</td>\n",
       "      <td>0.306745</td>\n",
       "      <td>-0.334480</td>\n",
       "      <td>1.138972</td>\n",
       "      <td>1.208878</td>\n",
       "      <td>1.024387</td>\n",
       "      <td>-0.608547</td>\n",
       "      <td>0.594240</td>\n",
       "      <td>-0.150315</td>\n",
       "      <td>-0.918281</td>\n",
       "      <td>-0.629759</td>\n",
       "    </tr>\n",
       "    <tr>\n",
       "      <th>1018</th>\n",
       "      <td>-1.552600</td>\n",
       "      <td>0.851229</td>\n",
       "      <td>-0.685209</td>\n",
       "      <td>0.751392</td>\n",
       "      <td>0.296063</td>\n",
       "      <td>0.474604</td>\n",
       "      <td>0.139158</td>\n",
       "      <td>0.406468</td>\n",
       "      <td>-0.555672</td>\n",
       "      <td>0.767840</td>\n",
       "      <td>-0.812874</td>\n",
       "      <td>0.279234</td>\n",
       "      <td>-1.398953</td>\n",
       "      <td>0.656587</td>\n",
       "      <td>-1.676106</td>\n",
       "      <td>-0.608547</td>\n",
       "      <td>2.131743</td>\n",
       "      <td>-1.188301</td>\n",
       "      <td>0.382437</td>\n",
       "      <td>-0.629759</td>\n",
       "    </tr>\n",
       "    <tr>\n",
       "      <th>1019</th>\n",
       "      <td>-0.823057</td>\n",
       "      <td>-1.253491</td>\n",
       "      <td>-0.685209</td>\n",
       "      <td>-0.763248</td>\n",
       "      <td>0.296063</td>\n",
       "      <td>0.455405</td>\n",
       "      <td>-0.437760</td>\n",
       "      <td>-0.785232</td>\n",
       "      <td>-0.555672</td>\n",
       "      <td>-1.069941</td>\n",
       "      <td>-0.812874</td>\n",
       "      <td>-0.948194</td>\n",
       "      <td>-0.520441</td>\n",
       "      <td>-1.000283</td>\n",
       "      <td>0.252817</td>\n",
       "      <td>-0.608547</td>\n",
       "      <td>-0.943262</td>\n",
       "      <td>-1.188301</td>\n",
       "      <td>-0.607240</td>\n",
       "      <td>-0.629759</td>\n",
       "    </tr>\n",
       "    <tr>\n",
       "      <th>1020</th>\n",
       "      <td>0.636031</td>\n",
       "      <td>-0.194536</td>\n",
       "      <td>1.065500</td>\n",
       "      <td>0.751392</td>\n",
       "      <td>-1.073062</td>\n",
       "      <td>-1.253330</td>\n",
       "      <td>-0.330426</td>\n",
       "      <td>-0.661953</td>\n",
       "      <td>-0.555672</td>\n",
       "      <td>-1.069941</td>\n",
       "      <td>-0.812874</td>\n",
       "      <td>0.279234</td>\n",
       "      <td>-1.724328</td>\n",
       "      <td>1.208878</td>\n",
       "      <td>0.638602</td>\n",
       "      <td>-0.608547</td>\n",
       "      <td>0.594240</td>\n",
       "      <td>-0.150315</td>\n",
       "      <td>-0.970484</td>\n",
       "      <td>-0.629759</td>\n",
       "    </tr>\n",
       "    <tr>\n",
       "      <th>1021</th>\n",
       "      <td>0.636031</td>\n",
       "      <td>0.048534</td>\n",
       "      <td>1.065500</td>\n",
       "      <td>0.751392</td>\n",
       "      <td>1.665189</td>\n",
       "      <td>0.877789</td>\n",
       "      <td>0.700422</td>\n",
       "      <td>0.989476</td>\n",
       "      <td>0.577855</td>\n",
       "      <td>0.767840</td>\n",
       "      <td>1.426363</td>\n",
       "      <td>0.279234</td>\n",
       "      <td>1.171509</td>\n",
       "      <td>0.656587</td>\n",
       "      <td>1.072610</td>\n",
       "      <td>0.145236</td>\n",
       "      <td>0.594240</td>\n",
       "      <td>0.887671</td>\n",
       "      <td>-0.970484</td>\n",
       "      <td>-0.629759</td>\n",
       "    </tr>\n",
       "  </tbody>\n",
       "</table>\n",
       "<p>1022 rows × 20 columns</p>\n",
       "</div>"
      ],
      "text/plain": [
       "     OverallQual GrLivArea ExterQual KitchenQual GarageCars GarageArea  \\\n",
       "0       0.636031  0.287835 -0.685209   -0.763248   0.296063   0.253813   \n",
       "1      -0.823057 -0.861565 -0.685209   -0.763248   0.296063   0.229814   \n",
       "2       0.636031  0.033459 -0.685209    0.751392   0.296063   0.656997   \n",
       "3       2.095118  0.708025  2.816208    2.266031   1.665189   1.492165   \n",
       "4       0.636031  0.248265  1.065500    0.751392   0.296063   0.349809   \n",
       "...          ...       ...       ...         ...        ...        ...   \n",
       "1017   -0.093513 -0.405573  1.065500    0.751392   0.296063  -0.178171   \n",
       "1018   -1.552600  0.851229 -0.685209    0.751392   0.296063   0.474604   \n",
       "1019   -0.823057 -1.253491 -0.685209   -0.763248   0.296063   0.455405   \n",
       "1020    0.636031 -0.194536  1.065500    0.751392  -1.073062  -1.253330   \n",
       "1021    0.636031  0.048534  1.065500    0.751392   1.665189   0.877789   \n",
       "\n",
       "     TotalBsmtSF  1stFlrSF  BsmtQual  FullBath GarageFinish TotRmsAbvGrd  \\\n",
       "0       0.546130  1.315652 -0.555672  0.767840    -0.812874     0.279234   \n",
       "1      -1.146608 -0.251022  0.577855 -1.069941     1.426363    -0.948194   \n",
       "2      -0.679260 -1.042064  0.577855  0.767840    -0.812874     0.279234   \n",
       "3       1.890034  1.888387  1.711383  0.767840     1.426363     0.892948   \n",
       "4      -0.583107 -0.880260  0.577855  0.767840     0.306745    -0.334480   \n",
       "...          ...       ...       ...       ...          ...          ...   \n",
       "1017    0.568491  0.370511  0.577855  0.767840     0.306745    -0.334480   \n",
       "1018    0.139158  0.406468 -0.555672  0.767840    -0.812874     0.279234   \n",
       "1019   -0.437760 -0.785232 -0.555672 -1.069941    -0.812874    -0.948194   \n",
       "1020   -0.330426 -0.661953 -0.555672 -1.069941    -0.812874     0.279234   \n",
       "1021    0.700422  0.989476  0.577855  0.767840     1.426363     0.279234   \n",
       "\n",
       "     YearBuilt FireplaceQu YearRemodAdd MasVnrArea Fireplaces HeatingQC  \\\n",
       "0    -0.032378    1.208878    -0.711644   1.061372   0.594240 -0.150315   \n",
       "1     1.106434   -1.000283     0.976164  -0.144680  -0.943262 -0.150315   \n",
       "2     1.236584   -1.000283     1.169056  -0.608547  -0.943262  0.887671   \n",
       "3     1.138972    1.208878     1.024387   1.142549   0.594240  0.887671   \n",
       "4     0.813597    0.656587     0.542156  -0.608547   0.594240  0.887671   \n",
       "...        ...         ...          ...        ...        ...       ...   \n",
       "1017  1.138972    1.208878     1.024387  -0.608547   0.594240 -0.150315   \n",
       "1018 -1.398953    0.656587    -1.676106  -0.608547   2.131743 -1.188301   \n",
       "1019 -0.520441   -1.000283     0.252817  -0.608547  -0.943262 -1.188301   \n",
       "1020 -1.724328    1.208878     0.638602  -0.608547   0.594240 -0.150315   \n",
       "1021  1.171509    0.656587     1.072610   0.145236   0.594240  0.887671   \n",
       "\n",
       "     BsmtFinSF1 BsmtExposure  \n",
       "0     -0.970484    -0.629759  \n",
       "1      0.219303     2.243517  \n",
       "2     -0.918281     0.328000  \n",
       "3     -0.970484    -0.629759  \n",
       "4     -0.133065     1.285758  \n",
       "...         ...          ...  \n",
       "1017  -0.918281    -0.629759  \n",
       "1018   0.382437    -0.629759  \n",
       "1019  -0.607240    -0.629759  \n",
       "1020  -0.970484    -0.629759  \n",
       "1021  -0.970484    -0.629759  \n",
       "\n",
       "[1022 rows x 20 columns]"
      ]
     },
     "execution_count": 98,
     "metadata": {},
     "output_type": "execute_result"
    }
   ],
   "source": [
    "X_scaled = scaler.transform(X_train)\n",
    "X_train = pd.DataFrame(X_scaled, columns=[X_train.columns])\n",
    "X_train"
   ]
  },
  {
   "cell_type": "code",
   "execution_count": 99,
   "id": "811b1c59",
   "metadata": {},
   "outputs": [
    {
     "data": {
      "text/html": [
       "<div>\n",
       "<style scoped>\n",
       "    .dataframe tbody tr th:only-of-type {\n",
       "        vertical-align: middle;\n",
       "    }\n",
       "\n",
       "    .dataframe tbody tr th {\n",
       "        vertical-align: top;\n",
       "    }\n",
       "\n",
       "    .dataframe thead tr th {\n",
       "        text-align: left;\n",
       "    }\n",
       "</style>\n",
       "<table border=\"1\" class=\"dataframe\">\n",
       "  <thead>\n",
       "    <tr>\n",
       "      <th></th>\n",
       "      <th>OverallQual</th>\n",
       "      <th>GrLivArea</th>\n",
       "      <th>ExterQual</th>\n",
       "      <th>KitchenQual</th>\n",
       "      <th>GarageCars</th>\n",
       "      <th>GarageArea</th>\n",
       "      <th>TotalBsmtSF</th>\n",
       "      <th>1stFlrSF</th>\n",
       "      <th>BsmtQual</th>\n",
       "      <th>FullBath</th>\n",
       "      <th>GarageFinish</th>\n",
       "      <th>TotRmsAbvGrd</th>\n",
       "      <th>YearBuilt</th>\n",
       "      <th>FireplaceQu</th>\n",
       "      <th>YearRemodAdd</th>\n",
       "      <th>MasVnrArea</th>\n",
       "      <th>Fireplaces</th>\n",
       "      <th>HeatingQC</th>\n",
       "      <th>BsmtFinSF1</th>\n",
       "      <th>BsmtExposure</th>\n",
       "    </tr>\n",
       "  </thead>\n",
       "  <tbody>\n",
       "    <tr>\n",
       "      <th>0</th>\n",
       "      <td>-0.022711</td>\n",
       "      <td>-0.812732</td>\n",
       "      <td>-0.699920</td>\n",
       "      <td>-0.789573</td>\n",
       "      <td>-0.929919</td>\n",
       "      <td>-0.883847</td>\n",
       "      <td>0.016827</td>\n",
       "      <td>-0.205855</td>\n",
       "      <td>-0.564185</td>\n",
       "      <td>-0.931395</td>\n",
       "      <td>0.346089</td>\n",
       "      <td>-0.281795</td>\n",
       "      <td>-0.308311</td>\n",
       "      <td>-1.027378</td>\n",
       "      <td>0.876356</td>\n",
       "      <td>-0.498073</td>\n",
       "      <td>-0.970734</td>\n",
       "      <td>-1.207429</td>\n",
       "      <td>0.504110</td>\n",
       "      <td>-0.636298</td>\n",
       "    </tr>\n",
       "    <tr>\n",
       "      <th>1</th>\n",
       "      <td>1.398371</td>\n",
       "      <td>2.228314</td>\n",
       "      <td>1.022355</td>\n",
       "      <td>0.701086</td>\n",
       "      <td>0.346897</td>\n",
       "      <td>1.102728</td>\n",
       "      <td>0.984199</td>\n",
       "      <td>0.933766</td>\n",
       "      <td>1.756127</td>\n",
       "      <td>0.842305</td>\n",
       "      <td>0.346089</td>\n",
       "      <td>1.578900</td>\n",
       "      <td>0.765085</td>\n",
       "      <td>0.631068</td>\n",
       "      <td>0.484278</td>\n",
       "      <td>1.326193</td>\n",
       "      <td>2.202263</td>\n",
       "      <td>0.899558</td>\n",
       "      <td>1.329829</td>\n",
       "      <td>1.312642</td>\n",
       "    </tr>\n",
       "    <tr>\n",
       "      <th>2</th>\n",
       "      <td>-0.733252</td>\n",
       "      <td>-0.891009</td>\n",
       "      <td>-0.699920</td>\n",
       "      <td>-0.789573</td>\n",
       "      <td>0.346897</td>\n",
       "      <td>-0.458152</td>\n",
       "      <td>-0.105292</td>\n",
       "      <td>-0.311376</td>\n",
       "      <td>-0.564185</td>\n",
       "      <td>-0.931395</td>\n",
       "      <td>-0.776778</td>\n",
       "      <td>-0.902027</td>\n",
       "      <td>-1.554834</td>\n",
       "      <td>1.183883</td>\n",
       "      <td>-1.721158</td>\n",
       "      <td>-0.498073</td>\n",
       "      <td>0.615764</td>\n",
       "      <td>-0.153935</td>\n",
       "      <td>-0.979498</td>\n",
       "      <td>-0.636298</td>\n",
       "    </tr>\n",
       "    <tr>\n",
       "      <th>3</th>\n",
       "      <td>-0.022711</td>\n",
       "      <td>0.353590</td>\n",
       "      <td>-0.699920</td>\n",
       "      <td>-0.789573</td>\n",
       "      <td>0.346897</td>\n",
       "      <td>-0.192093</td>\n",
       "      <td>-0.114870</td>\n",
       "      <td>-0.374688</td>\n",
       "      <td>-0.564185</td>\n",
       "      <td>0.842305</td>\n",
       "      <td>-0.776778</td>\n",
       "      <td>0.338437</td>\n",
       "      <td>-0.862321</td>\n",
       "      <td>1.183883</td>\n",
       "      <td>-1.721158</td>\n",
       "      <td>-0.498073</td>\n",
       "      <td>2.202263</td>\n",
       "      <td>0.899558</td>\n",
       "      <td>-0.086648</td>\n",
       "      <td>-0.636298</td>\n",
       "    </tr>\n",
       "    <tr>\n",
       "      <th>4</th>\n",
       "      <td>2.108912</td>\n",
       "      <td>0.267485</td>\n",
       "      <td>1.022355</td>\n",
       "      <td>2.191744</td>\n",
       "      <td>1.623713</td>\n",
       "      <td>1.989592</td>\n",
       "      <td>1.360134</td>\n",
       "      <td>1.250328</td>\n",
       "      <td>1.756127</td>\n",
       "      <td>0.842305</td>\n",
       "      <td>1.468956</td>\n",
       "      <td>-0.281795</td>\n",
       "      <td>1.215218</td>\n",
       "      <td>1.736698</td>\n",
       "      <td>1.121404</td>\n",
       "      <td>-0.145314</td>\n",
       "      <td>0.615764</td>\n",
       "      <td>0.899558</td>\n",
       "      <td>1.307452</td>\n",
       "      <td>2.287111</td>\n",
       "    </tr>\n",
       "    <tr>\n",
       "      <th>...</th>\n",
       "      <td>...</td>\n",
       "      <td>...</td>\n",
       "      <td>...</td>\n",
       "      <td>...</td>\n",
       "      <td>...</td>\n",
       "      <td>...</td>\n",
       "      <td>...</td>\n",
       "      <td>...</td>\n",
       "      <td>...</td>\n",
       "      <td>...</td>\n",
       "      <td>...</td>\n",
       "      <td>...</td>\n",
       "      <td>...</td>\n",
       "      <td>...</td>\n",
       "      <td>...</td>\n",
       "      <td>...</td>\n",
       "      <td>...</td>\n",
       "      <td>...</td>\n",
       "      <td>...</td>\n",
       "      <td>...</td>\n",
       "    </tr>\n",
       "    <tr>\n",
       "      <th>433</th>\n",
       "      <td>-0.733252</td>\n",
       "      <td>-0.836215</td>\n",
       "      <td>-0.699920</td>\n",
       "      <td>-0.789573</td>\n",
       "      <td>-0.929919</td>\n",
       "      <td>-0.688737</td>\n",
       "      <td>0.009644</td>\n",
       "      <td>-0.237512</td>\n",
       "      <td>-0.564185</td>\n",
       "      <td>-0.931395</td>\n",
       "      <td>0.346089</td>\n",
       "      <td>-0.281795</td>\n",
       "      <td>-0.481439</td>\n",
       "      <td>-1.027378</td>\n",
       "      <td>0.337249</td>\n",
       "      <td>-0.498073</td>\n",
       "      <td>-0.970734</td>\n",
       "      <td>-2.260922</td>\n",
       "      <td>0.913613</td>\n",
       "      <td>-0.636298</td>\n",
       "    </tr>\n",
       "    <tr>\n",
       "      <th>434</th>\n",
       "      <td>-2.154334</td>\n",
       "      <td>-0.626825</td>\n",
       "      <td>-0.699920</td>\n",
       "      <td>-0.789573</td>\n",
       "      <td>-0.929919</td>\n",
       "      <td>-1.078957</td>\n",
       "      <td>0.263459</td>\n",
       "      <td>0.044756</td>\n",
       "      <td>-0.564185</td>\n",
       "      <td>-0.931395</td>\n",
       "      <td>-0.776778</td>\n",
       "      <td>-0.281795</td>\n",
       "      <td>-0.585316</td>\n",
       "      <td>-1.027378</td>\n",
       "      <td>0.974375</td>\n",
       "      <td>-0.498073</td>\n",
       "      <td>-0.970734</td>\n",
       "      <td>0.899558</td>\n",
       "      <td>-0.406642</td>\n",
       "      <td>-0.636298</td>\n",
       "    </tr>\n",
       "    <tr>\n",
       "      <th>435</th>\n",
       "      <td>0.687830</td>\n",
       "      <td>0.355546</td>\n",
       "      <td>1.022355</td>\n",
       "      <td>0.701086</td>\n",
       "      <td>0.346897</td>\n",
       "      <td>0.437580</td>\n",
       "      <td>-0.572217</td>\n",
       "      <td>-0.854807</td>\n",
       "      <td>0.595971</td>\n",
       "      <td>0.842305</td>\n",
       "      <td>0.346089</td>\n",
       "      <td>0.338437</td>\n",
       "      <td>1.215218</td>\n",
       "      <td>-1.027378</td>\n",
       "      <td>1.072395</td>\n",
       "      <td>-0.498073</td>\n",
       "      <td>-0.970734</td>\n",
       "      <td>0.899558</td>\n",
       "      <td>-0.979498</td>\n",
       "      <td>-0.636298</td>\n",
       "    </tr>\n",
       "    <tr>\n",
       "      <th>436</th>\n",
       "      <td>-0.022711</td>\n",
       "      <td>-0.562247</td>\n",
       "      <td>-0.699920</td>\n",
       "      <td>0.701086</td>\n",
       "      <td>0.346897</td>\n",
       "      <td>0.286813</td>\n",
       "      <td>-0.881105</td>\n",
       "      <td>-1.218852</td>\n",
       "      <td>-0.564185</td>\n",
       "      <td>-0.931395</td>\n",
       "      <td>-0.776778</td>\n",
       "      <td>0.338437</td>\n",
       "      <td>-1.797214</td>\n",
       "      <td>-1.027378</td>\n",
       "      <td>0.729327</td>\n",
       "      <td>-0.498073</td>\n",
       "      <td>-0.970734</td>\n",
       "      <td>-0.153935</td>\n",
       "      <td>-0.979498</td>\n",
       "      <td>0.338172</td>\n",
       "    </tr>\n",
       "    <tr>\n",
       "      <th>437</th>\n",
       "      <td>2.108912</td>\n",
       "      <td>3.241996</td>\n",
       "      <td>2.744630</td>\n",
       "      <td>2.191744</td>\n",
       "      <td>1.623713</td>\n",
       "      <td>1.581635</td>\n",
       "      <td>2.092846</td>\n",
       "      <td>2.163080</td>\n",
       "      <td>1.756127</td>\n",
       "      <td>2.616006</td>\n",
       "      <td>1.468956</td>\n",
       "      <td>2.819364</td>\n",
       "      <td>1.249844</td>\n",
       "      <td>1.183883</td>\n",
       "      <td>1.170414</td>\n",
       "      <td>3.835818</td>\n",
       "      <td>2.202263</td>\n",
       "      <td>0.899558</td>\n",
       "      <td>-0.979498</td>\n",
       "      <td>-0.636298</td>\n",
       "    </tr>\n",
       "  </tbody>\n",
       "</table>\n",
       "<p>438 rows × 20 columns</p>\n",
       "</div>"
      ],
      "text/plain": [
       "    OverallQual GrLivArea ExterQual KitchenQual GarageCars GarageArea  \\\n",
       "0     -0.022711 -0.812732 -0.699920   -0.789573  -0.929919  -0.883847   \n",
       "1      1.398371  2.228314  1.022355    0.701086   0.346897   1.102728   \n",
       "2     -0.733252 -0.891009 -0.699920   -0.789573   0.346897  -0.458152   \n",
       "3     -0.022711  0.353590 -0.699920   -0.789573   0.346897  -0.192093   \n",
       "4      2.108912  0.267485  1.022355    2.191744   1.623713   1.989592   \n",
       "..          ...       ...       ...         ...        ...        ...   \n",
       "433   -0.733252 -0.836215 -0.699920   -0.789573  -0.929919  -0.688737   \n",
       "434   -2.154334 -0.626825 -0.699920   -0.789573  -0.929919  -1.078957   \n",
       "435    0.687830  0.355546  1.022355    0.701086   0.346897   0.437580   \n",
       "436   -0.022711 -0.562247 -0.699920    0.701086   0.346897   0.286813   \n",
       "437    2.108912  3.241996  2.744630    2.191744   1.623713   1.581635   \n",
       "\n",
       "    TotalBsmtSF  1stFlrSF  BsmtQual  FullBath GarageFinish TotRmsAbvGrd  \\\n",
       "0      0.016827 -0.205855 -0.564185 -0.931395     0.346089    -0.281795   \n",
       "1      0.984199  0.933766  1.756127  0.842305     0.346089     1.578900   \n",
       "2     -0.105292 -0.311376 -0.564185 -0.931395    -0.776778    -0.902027   \n",
       "3     -0.114870 -0.374688 -0.564185  0.842305    -0.776778     0.338437   \n",
       "4      1.360134  1.250328  1.756127  0.842305     1.468956    -0.281795   \n",
       "..          ...       ...       ...       ...          ...          ...   \n",
       "433    0.009644 -0.237512 -0.564185 -0.931395     0.346089    -0.281795   \n",
       "434    0.263459  0.044756 -0.564185 -0.931395    -0.776778    -0.281795   \n",
       "435   -0.572217 -0.854807  0.595971  0.842305     0.346089     0.338437   \n",
       "436   -0.881105 -1.218852 -0.564185 -0.931395    -0.776778     0.338437   \n",
       "437    2.092846  2.163080  1.756127  2.616006     1.468956     2.819364   \n",
       "\n",
       "    YearBuilt FireplaceQu YearRemodAdd MasVnrArea Fireplaces HeatingQC  \\\n",
       "0   -0.308311   -1.027378     0.876356  -0.498073  -0.970734 -1.207429   \n",
       "1    0.765085    0.631068     0.484278   1.326193   2.202263  0.899558   \n",
       "2   -1.554834    1.183883    -1.721158  -0.498073   0.615764 -0.153935   \n",
       "3   -0.862321    1.183883    -1.721158  -0.498073   2.202263  0.899558   \n",
       "4    1.215218    1.736698     1.121404  -0.145314   0.615764  0.899558   \n",
       "..        ...         ...          ...        ...        ...       ...   \n",
       "433 -0.481439   -1.027378     0.337249  -0.498073  -0.970734 -2.260922   \n",
       "434 -0.585316   -1.027378     0.974375  -0.498073  -0.970734  0.899558   \n",
       "435  1.215218   -1.027378     1.072395  -0.498073  -0.970734  0.899558   \n",
       "436 -1.797214   -1.027378     0.729327  -0.498073  -0.970734 -0.153935   \n",
       "437  1.249844    1.183883     1.170414   3.835818   2.202263  0.899558   \n",
       "\n",
       "    BsmtFinSF1 BsmtExposure  \n",
       "0     0.504110    -0.636298  \n",
       "1     1.329829     1.312642  \n",
       "2    -0.979498    -0.636298  \n",
       "3    -0.086648    -0.636298  \n",
       "4     1.307452     2.287111  \n",
       "..         ...          ...  \n",
       "433   0.913613    -0.636298  \n",
       "434  -0.406642    -0.636298  \n",
       "435  -0.979498    -0.636298  \n",
       "436  -0.979498     0.338172  \n",
       "437  -0.979498    -0.636298  \n",
       "\n",
       "[438 rows x 20 columns]"
      ]
     },
     "execution_count": 99,
     "metadata": {},
     "output_type": "execute_result"
    }
   ],
   "source": [
    "#scaling the testing data\n",
    "ss1=scaler.fit(X_test)\n",
    "X_scaled1 = scaler.transform(X_test)\n",
    "X_test = pd.DataFrame(X_scaled1, columns=[X_test.columns])\n",
    "X_test"
   ]
  },
  {
   "cell_type": "code",
   "execution_count": 100,
   "id": "d9635c36",
   "metadata": {},
   "outputs": [],
   "source": [
    "LinearReg=LinearRegression()"
   ]
  },
  {
   "cell_type": "code",
   "execution_count": 101,
   "id": "9acabc72",
   "metadata": {},
   "outputs": [
    {
     "data": {
      "text/plain": [
       "LinearRegression()"
      ]
     },
     "execution_count": 101,
     "metadata": {},
     "output_type": "execute_result"
    }
   ],
   "source": [
    "LinearReg.fit(X_train,y_train)"
   ]
  },
  {
   "cell_type": "code",
   "execution_count": 102,
   "id": "56dd4722",
   "metadata": {},
   "outputs": [
    {
     "data": {
      "text/plain": [
       "181312.6927592955"
      ]
     },
     "execution_count": 102,
     "metadata": {},
     "output_type": "execute_result"
    }
   ],
   "source": [
    "LinearReg.intercept_"
   ]
  },
  {
   "cell_type": "code",
   "execution_count": 103,
   "id": "707b01e6",
   "metadata": {},
   "outputs": [
    {
     "data": {
      "text/plain": [
       "array([17561.98922248, 17942.29087976,  6700.28244622,  6645.10981003,\n",
       "        8724.79946997,   932.81140944, -3880.47621881,  6286.07878775,\n",
       "        6623.18343184,  -737.0408628 ,   358.3375628 ,  4559.04288911,\n",
       "        2605.34651466,  4035.89771605,  1782.65207656,  3123.87244231,\n",
       "        2716.86899719,  1950.71555692,  7456.49718499,  6944.63361968])"
      ]
     },
     "execution_count": 103,
     "metadata": {},
     "output_type": "execute_result"
    }
   ],
   "source": [
    "LinearReg.coef_"
   ]
  },
  {
   "cell_type": "code",
   "execution_count": 104,
   "id": "a056d0c7",
   "metadata": {},
   "outputs": [],
   "source": [
    "y_test_predicted = LinearReg.predict(X_test)"
   ]
  },
  {
   "cell_type": "code",
   "execution_count": 105,
   "id": "f2cfb5e6",
   "metadata": {},
   "outputs": [
    {
     "data": {
      "image/png": "[encoded data removed]",
      "text/plain": [
       "<Figure size 432x288 with 1 Axes>"
      ]
     },
     "metadata": {},
     "output_type": "display_data"
    }
   ],
   "source": [
    "x_train = X_train.values[:,0].reshape(-1, 1)\n",
    "x_test = X_test.values[:,0].reshape(-1, 1)\n",
    "\n",
    "simple_reg = LinearRegression()\n",
    "simple_reg.fit(x_train, y_train)\n",
    "y_pred = simple_reg.predict(x_test)\n",
    "\n",
    "plt.scatter(x_test, y_test,  color='red',marker=\"o\")\n",
    "plt.plot(x_test, y_pred, color='blue', linewidth=3)\n",
    "plt.xlabel(\"Testing Values (Scaled)\")\n",
    "plt.ylabel(\"Sales Price\")\n",
    "plt.show()"
   ]
  },
  {
   "cell_type": "code",
   "execution_count": 106,
   "id": "dd3d88be",
   "metadata": {},
   "outputs": [
    {
     "data": {
      "text/plain": [
       "(438,)"
      ]
     },
     "execution_count": 106,
     "metadata": {},
     "output_type": "execute_result"
    }
   ],
   "source": [
    "y_test_predicted.shape"
   ]
  },
  {
   "cell_type": "markdown",
   "id": "031f3ec7",
   "metadata": {},
   "source": [
    "# Model Evaluation "
   ]
  },
  {
   "cell_type": "code",
   "execution_count": 107,
   "id": "7131e4fb",
   "metadata": {},
   "outputs": [],
   "source": [
    "from sklearn import metrics"
   ]
  },
  {
   "cell_type": "code",
   "execution_count": 108,
   "id": "152c8e87",
   "metadata": {},
   "outputs": [
    {
     "name": "stdout",
     "output_type": "stream",
     "text": [
      "22573.38319251453\n"
     ]
    }
   ],
   "source": [
    "#calculating mean absolute error\n",
    "print(metrics.mean_absolute_error(y_test,y_test_predicted))"
   ]
  },
  {
   "cell_type": "code",
   "execution_count": 109,
   "id": "176629d9",
   "metadata": {},
   "outputs": [
    {
     "name": "stdout",
     "output_type": "stream",
     "text": [
      "1140511928.3614798\n"
     ]
    }
   ],
   "source": [
    "#calculating mean squared error\n",
    "print(metrics.mean_squared_error(y_test,y_test_predicted))"
   ]
  },
  {
   "cell_type": "code",
   "execution_count": 110,
   "id": "5c67e3f7",
   "metadata": {},
   "outputs": [
    {
     "name": "stdout",
     "output_type": "stream",
     "text": [
      "33771.466186138256\n"
     ]
    }
   ],
   "source": [
    "#calculating Root Mean Squared Error\n",
    "k=np.sqrt(metrics.mean_squared_error(y_test,y_test_predicted))\n",
    "print(k)"
   ]
  },
  {
   "cell_type": "code",
   "execution_count": 111,
   "id": "ab1e1d23",
   "metadata": {},
   "outputs": [
    {
     "data": {
      "text/plain": [
       "0.04689830049456778"
      ]
     },
     "execution_count": 111,
     "metadata": {},
     "output_type": "execute_result"
    }
   ],
   "source": [
    "normalised_rmse=k/(data['SalePrice'].max()-data['SalePrice'].min())\n",
    "normalised_rmse"
   ]
  },
  {
   "cell_type": "code",
   "execution_count": 112,
   "id": "5bdd2eab",
   "metadata": {},
   "outputs": [],
   "source": [
    "r_squared_score=LinearReg.score(X_test,y_test)"
   ]
  },
  {
   "cell_type": "code",
   "execution_count": 113,
   "id": "c518f811",
   "metadata": {},
   "outputs": [
    {
     "name": "stdout",
     "output_type": "stream",
     "text": [
      "The R_squared_score to the model is 83.65582396233154 %\n"
     ]
    }
   ],
   "source": [
    "print('The R_squared_score to the model is '+ str(r_squared_score*100) +' %')"
   ]
  },
  {
   "cell_type": "code",
   "execution_count": 114,
   "id": "4139a565",
   "metadata": {},
   "outputs": [
    {
     "data": {
      "text/plain": [
       "Index(['SalePrice', 'OverallQual', 'GrLivArea', 'ExterQual', 'KitchenQual',\n",
       "       'GarageCars', 'GarageArea', 'TotalBsmtSF', '1stFlrSF', 'BsmtQual',\n",
       "       'FullBath', 'GarageFinish', 'TotRmsAbvGrd', 'YearBuilt', 'FireplaceQu',\n",
       "       'YearRemodAdd', 'MasVnrArea', 'Fireplaces', 'HeatingQC', 'BsmtFinSF1',\n",
       "       'BsmtExposure', 'y_predicted', 'y_diff'],\n",
       "      dtype='object')"
      ]
     },
     "execution_count": 114,
     "metadata": {},
     "output_type": "execute_result"
    }
   ],
   "source": [
    "result_df = top_20_df.iloc[top_20_df.index.isin(X_train.index),:].copy()\n",
    "result_df['y_predicted'] = pd.Series(np.round(LinearReg.predict(X_train)))\n",
    "result_df['y_diff'] = result_df['SalePrice'] - result_df['y_predicted']\n",
    "result_df.columns"
   ]
  },
  {
   "cell_type": "code",
   "execution_count": 115,
   "id": "f85a3fb5",
   "metadata": {},
   "outputs": [
    {
     "data": {
      "text/html": [
       "<div>\n",
       "<style scoped>\n",
       "    .dataframe tbody tr th:only-of-type {\n",
       "        vertical-align: middle;\n",
       "    }\n",
       "\n",
       "    .dataframe tbody tr th {\n",
       "        vertical-align: top;\n",
       "    }\n",
       "\n",
       "    .dataframe thead th {\n",
       "        text-align: right;\n",
       "    }\n",
       "</style>\n",
       "<table border=\"1\" class=\"dataframe\">\n",
       "  <thead>\n",
       "    <tr style=\"text-align: right;\">\n",
       "      <th></th>\n",
       "      <th>SalePrice</th>\n",
       "      <th>y_predicted</th>\n",
       "      <th>y_diff</th>\n",
       "    </tr>\n",
       "  </thead>\n",
       "  <tbody>\n",
       "    <tr>\n",
       "      <th>0</th>\n",
       "      <td>208500</td>\n",
       "      <td>190243.0</td>\n",
       "      <td>18257.0</td>\n",
       "    </tr>\n",
       "    <tr>\n",
       "      <th>1</th>\n",
       "      <td>181500</td>\n",
       "      <td>162703.0</td>\n",
       "      <td>18797.0</td>\n",
       "    </tr>\n",
       "    <tr>\n",
       "      <th>2</th>\n",
       "      <td>223500</td>\n",
       "      <td>190977.0</td>\n",
       "      <td>32523.0</td>\n",
       "    </tr>\n",
       "    <tr>\n",
       "      <th>3</th>\n",
       "      <td>140000</td>\n",
       "      <td>305524.0</td>\n",
       "      <td>-165524.0</td>\n",
       "    </tr>\n",
       "    <tr>\n",
       "      <th>4</th>\n",
       "      <td>250000</td>\n",
       "      <td>225672.0</td>\n",
       "      <td>24328.0</td>\n",
       "    </tr>\n",
       "    <tr>\n",
       "      <th>...</th>\n",
       "      <td>...</td>\n",
       "      <td>...</td>\n",
       "      <td>...</td>\n",
       "    </tr>\n",
       "    <tr>\n",
       "      <th>1017</th>\n",
       "      <td>187500</td>\n",
       "      <td>186784.0</td>\n",
       "      <td>716.0</td>\n",
       "    </tr>\n",
       "    <tr>\n",
       "      <th>1018</th>\n",
       "      <td>160000</td>\n",
       "      <td>167565.0</td>\n",
       "      <td>-7565.0</td>\n",
       "    </tr>\n",
       "    <tr>\n",
       "      <th>1019</th>\n",
       "      <td>213490</td>\n",
       "      <td>106344.0</td>\n",
       "      <td>107146.0</td>\n",
       "    </tr>\n",
       "    <tr>\n",
       "      <th>1020</th>\n",
       "      <td>176000</td>\n",
       "      <td>175139.0</td>\n",
       "      <td>861.0</td>\n",
       "    </tr>\n",
       "    <tr>\n",
       "      <th>1021</th>\n",
       "      <td>194000</td>\n",
       "      <td>229184.0</td>\n",
       "      <td>-35184.0</td>\n",
       "    </tr>\n",
       "  </tbody>\n",
       "</table>\n",
       "<p>1022 rows × 3 columns</p>\n",
       "</div>"
      ],
      "text/plain": [
       "      SalePrice  y_predicted    y_diff\n",
       "0        208500     190243.0   18257.0\n",
       "1        181500     162703.0   18797.0\n",
       "2        223500     190977.0   32523.0\n",
       "3        140000     305524.0 -165524.0\n",
       "4        250000     225672.0   24328.0\n",
       "...         ...          ...       ...\n",
       "1017     187500     186784.0     716.0\n",
       "1018     160000     167565.0   -7565.0\n",
       "1019     213490     106344.0  107146.0\n",
       "1020     176000     175139.0     861.0\n",
       "1021     194000     229184.0  -35184.0\n",
       "\n",
       "[1022 rows x 3 columns]"
      ]
     },
     "execution_count": 115,
     "metadata": {},
     "output_type": "execute_result"
    }
   ],
   "source": [
    "result_df.loc[:, ['SalePrice', 'y_predicted', 'y_diff']]"
   ]
  },
  {
   "cell_type": "code",
   "execution_count": 116,
   "id": "57dbe720",
   "metadata": {},
   "outputs": [
    {
     "data": {
      "text/plain": [
       "409373.0"
      ]
     },
     "execution_count": 116,
     "metadata": {},
     "output_type": "execute_result"
    }
   ],
   "source": [
    "result_df['y_diff'].sum()"
   ]
  },
  {
   "cell_type": "code",
   "execution_count": 117,
   "id": "2db3ddc9",
   "metadata": {},
   "outputs": [
    {
     "data": {
      "text/plain": [
       "400.56066536203525"
      ]
     },
     "execution_count": 117,
     "metadata": {},
     "output_type": "execute_result"
    }
   ],
   "source": [
    "result_df['y_diff'].mean()"
   ]
  },
  {
   "cell_type": "code",
   "execution_count": 118,
   "id": "ee1b10e5",
   "metadata": {},
   "outputs": [
    {
     "data": {
      "text/plain": [
       "Index(['SalePrice', 'OverallQual', 'GrLivArea', 'ExterQual', 'KitchenQual',\n",
       "       'GarageCars', 'GarageArea', 'TotalBsmtSF', '1stFlrSF', 'BsmtQual',\n",
       "       'FullBath', 'GarageFinish', 'TotRmsAbvGrd', 'YearBuilt', 'FireplaceQu',\n",
       "       'YearRemodAdd', 'MasVnrArea', 'Fireplaces', 'HeatingQC', 'BsmtFinSF1',\n",
       "       'BsmtExposure', 'y_predicted', 'y_diff'],\n",
       "      dtype='object')"
      ]
     },
     "execution_count": 118,
     "metadata": {},
     "output_type": "execute_result"
    }
   ],
   "source": [
    "result_df_test = top_20_df.iloc[top_20_df.index.isin(X_test.index),:].copy()\n",
    "result_df_test['y_predicted'] = pd.Series(np.round(LinearReg.predict(X_test)))\n",
    "result_df_test['y_diff'] = result_df_test['SalePrice'] - result_df_test['y_predicted']\n",
    "result_df_test.columns"
   ]
  },
  {
   "cell_type": "code",
   "execution_count": 119,
   "id": "682e7964",
   "metadata": {},
   "outputs": [
    {
     "data": {
      "text/html": [
       "<div>\n",
       "<style scoped>\n",
       "    .dataframe tbody tr th:only-of-type {\n",
       "        vertical-align: middle;\n",
       "    }\n",
       "\n",
       "    .dataframe tbody tr th {\n",
       "        vertical-align: top;\n",
       "    }\n",
       "\n",
       "    .dataframe thead th {\n",
       "        text-align: right;\n",
       "    }\n",
       "</style>\n",
       "<table border=\"1\" class=\"dataframe\">\n",
       "  <thead>\n",
       "    <tr style=\"text-align: right;\">\n",
       "      <th></th>\n",
       "      <th>SalePrice</th>\n",
       "      <th>y_predicted</th>\n",
       "      <th>y_diff</th>\n",
       "    </tr>\n",
       "  </thead>\n",
       "  <tbody>\n",
       "    <tr>\n",
       "      <th>0</th>\n",
       "      <td>208500</td>\n",
       "      <td>131291.0</td>\n",
       "      <td>77209.0</td>\n",
       "    </tr>\n",
       "    <tr>\n",
       "      <th>1</th>\n",
       "      <td>181500</td>\n",
       "      <td>318115.0</td>\n",
       "      <td>-136615.0</td>\n",
       "    </tr>\n",
       "    <tr>\n",
       "      <th>2</th>\n",
       "      <td>223500</td>\n",
       "      <td>121875.0</td>\n",
       "      <td>101625.0</td>\n",
       "    </tr>\n",
       "    <tr>\n",
       "      <th>3</th>\n",
       "      <td>140000</td>\n",
       "      <td>175747.0</td>\n",
       "      <td>-35747.0</td>\n",
       "    </tr>\n",
       "    <tr>\n",
       "      <th>4</th>\n",
       "      <td>250000</td>\n",
       "      <td>314200.0</td>\n",
       "      <td>-64200.0</td>\n",
       "    </tr>\n",
       "    <tr>\n",
       "      <th>...</th>\n",
       "      <td>...</td>\n",
       "      <td>...</td>\n",
       "      <td>...</td>\n",
       "    </tr>\n",
       "    <tr>\n",
       "      <th>433</th>\n",
       "      <td>181000</td>\n",
       "      <td>117988.0</td>\n",
       "      <td>63012.0</td>\n",
       "    </tr>\n",
       "    <tr>\n",
       "      <th>434</th>\n",
       "      <td>81000</td>\n",
       "      <td>93997.0</td>\n",
       "      <td>-12997.0</td>\n",
       "    </tr>\n",
       "    <tr>\n",
       "      <th>435</th>\n",
       "      <td>212000</td>\n",
       "      <td>203326.0</td>\n",
       "      <td>8674.0</td>\n",
       "    </tr>\n",
       "    <tr>\n",
       "      <th>436</th>\n",
       "      <td>116000</td>\n",
       "      <td>151083.0</td>\n",
       "      <td>-35083.0</td>\n",
       "    </tr>\n",
       "    <tr>\n",
       "      <th>437</th>\n",
       "      <td>119000</td>\n",
       "      <td>371792.0</td>\n",
       "      <td>-252792.0</td>\n",
       "    </tr>\n",
       "  </tbody>\n",
       "</table>\n",
       "<p>438 rows × 3 columns</p>\n",
       "</div>"
      ],
      "text/plain": [
       "     SalePrice  y_predicted    y_diff\n",
       "0       208500     131291.0   77209.0\n",
       "1       181500     318115.0 -136615.0\n",
       "2       223500     121875.0  101625.0\n",
       "3       140000     175747.0  -35747.0\n",
       "4       250000     314200.0  -64200.0\n",
       "..         ...          ...       ...\n",
       "433     181000     117988.0   63012.0\n",
       "434      81000      93997.0  -12997.0\n",
       "435     212000     203326.0    8674.0\n",
       "436     116000     151083.0  -35083.0\n",
       "437     119000     371792.0 -252792.0\n",
       "\n",
       "[438 rows x 3 columns]"
      ]
     },
     "execution_count": 119,
     "metadata": {},
     "output_type": "execute_result"
    }
   ],
   "source": [
    "result_df_test.loc[:, ['SalePrice', 'y_predicted', 'y_diff']]"
   ]
  },
  {
   "cell_type": "code",
   "execution_count": 120,
   "id": "abb07904",
   "metadata": {},
   "outputs": [
    {
     "data": {
      "text/plain": [
       "362283.0"
      ]
     },
     "execution_count": 120,
     "metadata": {},
     "output_type": "execute_result"
    }
   ],
   "source": [
    "result_df_test['y_diff'].sum()"
   ]
  },
  {
   "cell_type": "code",
   "execution_count": 121,
   "id": "7301d2da",
   "metadata": {},
   "outputs": [
    {
     "data": {
      "text/plain": [
       "827.1301369863014"
      ]
     },
     "execution_count": 121,
     "metadata": {},
     "output_type": "execute_result"
    }
   ],
   "source": [
    "result_df_test['y_diff'].mean()"
   ]
  },
  {
   "cell_type": "markdown",
   "id": "9c40b970",
   "metadata": {},
   "source": [
    "# Continue Adding neccessary details ..."
   ]
  },
  {
   "cell_type": "code",
   "execution_count": null,
   "id": "810e3b65",
   "metadata": {},
   "outputs": [],
   "source": []
  }
 ],
 "metadata": {
  "kernelspec": {
   "display_name": "Python 3 (ipykernel)",
   "language": "python",
   "name": "python3"
  },
  "language_info": {
   "codemirror_mode": {
    "name": "ipython",
    "version": 3
   },
   "file_extension": ".py",
   "mimetype": "text/x-python",
   "name": "python",
   "nbconvert_exporter": "python",
   "pygments_lexer": "ipython3",
   "version": "3.9.7"
  }
 },
 "nbformat": 4,
 "nbformat_minor": 5
}
